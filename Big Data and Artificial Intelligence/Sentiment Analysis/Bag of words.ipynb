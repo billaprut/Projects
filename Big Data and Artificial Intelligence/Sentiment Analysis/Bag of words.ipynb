{
  "cells": [
    {
      "cell_type": "markdown",
      "metadata": {
        "id": "ItXfxkxvosLH"
      },
      "source": [
        "\n",
        "# Sentiment analysis in movie reviews\n",
        "\n",
        "Implement a simple neural network to classify movie reviews (predict and label the movie reviews as \"positive\" or \"negative\")."
      ]
    },
    {
      "cell_type": "markdown",
      "metadata": {
        "id": "Eg62Pmz3o83v"
      },
      "source": [
        "Import the necessary libraries and print the version of TensorFlow API:"
      ]
    },
    {
      "cell_type": "code",
      "execution_count": null,
      "metadata": {
        "colab": {
          "base_uri": "https://localhost:8080/"
        },
        "id": "zBlvDkH5pxgK",
        "outputId": "b04f4fb9-2d0c-4192-f844-1e3d3d96c6cd",
        "tags": []
      },
      "outputs": [
        {
          "name": "stdout",
          "output_type": "stream",
          "text": [
            "Requirement already satisfied: Keras-Preprocessing in /usr/local/lib/python3.10/dist-packages (1.1.2)\n",
            "Requirement already satisfied: numpy>=1.9.1 in /usr/local/lib/python3.10/dist-packages (from Keras-Preprocessing) (1.23.5)\n",
            "Requirement already satisfied: six>=1.9.0 in /usr/local/lib/python3.10/dist-packages (from Keras-Preprocessing) (1.16.0)\n"
          ]
        }
      ],
      "source": [
        "!pip install Keras-Preprocessing"
      ]
    },
    {
      "cell_type": "code",
      "execution_count": null,
      "metadata": {
        "colab": {
          "base_uri": "https://localhost:8080/"
        },
        "id": "2ew7HTbPpCJH",
        "outputId": "811b111f-1b76-46ad-e284-ce04f519e183",
        "tags": []
      },
      "outputs": [
        {
          "name": "stdout",
          "output_type": "stream",
          "text": [
            "2.12.0\n"
          ]
        }
      ],
      "source": [
        "import warnings\n",
        "warnings.filterwarnings('ignore')\n",
        "import matplotlib.pyplot as plt\n",
        "import tensorflow as tf\n",
        "from tensorflow import keras\n",
        "from keras.datasets import imdb\n",
        "from keras_preprocessing.sequence import pad_sequences\n",
        "from keras.models import Sequential\n",
        "from keras.layers import Dense,Activation,Dropout\n",
        "import numpy as np\n",
        "\n",
        "print(tf.__version__)"
      ]
    },
    {
      "cell_type": "markdown",
      "metadata": {
        "id": "iAsKG535pHep"
      },
      "source": [
        "## Import the IMDB dataset\n",
        "\n",
        "We'll use the [IMDB dataset](https://www.tensorflow.org/api_docs/python/tf/keras/datasets/imdb) which contains the text of 50,000 movie reviews. We will use 25,000 reviews for training and 25,000 reviews for testing. The training and testing sets contain an equal number of positive and negative reviews (i.e., they are *balanced*).\n",
        "\n",
        "For illustration, a piece of a negative review with 2 stars is as follows:\n",
        "\n",
        ">>> *\"Now, I LOVE Italian horror films. The cheesier they are, the better. However, this is not cheesy Italian. This is week-old spaghetti sauce with rotting meatballs. It is amateur hour on every level. There is no suspense, no horror, with just a few drops of blood scattered around to remind you that you are in fact watching a horror film.\"*\n",
        "<table>\n",
        "  <tr><td align=\"center\">\n",
        "    <b>Figure 1.</b> <a href=\"https://www.imdb.com/review/rw1795788/\">Sample review</a> (for the movie \"Don't Look in the Attic\").<br/>&nbsp;\n",
        "  </td></tr>\n",
        "</table>\n",
        "\n",
        "Import and load the data from TensorFow (the data is already split into test and training sets, and words are converted to integers):\n"
      ]
    },
    {
      "cell_type": "code",
      "execution_count": null,
      "metadata": {
        "id": "zXXx5Oc3pOmN",
        "tags": []
      },
      "outputs": [],
      "source": [
        "\n",
        " (train_data, train_labels), (test_data, test_labels) = imdb.load_data(num_words=12000,index_from=3)"
      ]
    },
    {
      "cell_type": "markdown",
      "metadata": {
        "id": "odr-KlzO-lkL"
      },
      "source": [
        "Note the argument `num_words=10000` keeps the top 10,000 most frequently occurring words to keep the size of the data manageable."
      ]
    },
    {
      "cell_type": "markdown",
      "metadata": {
        "id": "l50X3GfjpU4r"
      },
      "source": [
        "## Explore the data\n",
        "\n",
        "Explore the format of the **training** and **testing** datasets (25,000 reviews with each review is represented as an array of integers):"
      ]
    },
    {
      "cell_type": "code",
      "execution_count": null,
      "metadata": {
        "colab": {
          "base_uri": "https://localhost:8080/"
        },
        "id": "aEIjhf1Gm7tq",
        "outputId": "8c0b190f-20f2-4e95-e4c7-6df3d31820a8",
        "tags": []
      },
      "outputs": [
        {
          "name": "stdout",
          "output_type": "stream",
          "text": [
            "(25000,)\n",
            "Training entries: 25000, labels: 25000\n",
            "(25000,)\n",
            "Testing entries: 25000, labels: 25000\n"
          ]
        }
      ],
      "source": [
        "print(train_data.shape)\n",
        "print(\"Training entries: {}, labels: {}\".format(len(train_data), len(train_labels)))\n",
        "print(test_data.shape)\n",
        "print(\"Testing entries: {}, labels: {}\".format(len(test_data), len(test_labels)))"
      ]
    },
    {
      "cell_type": "markdown",
      "metadata": {
        "id": "vYtp5MpFpB4M"
      },
      "source": [
        "Explore the labels of the **training** dataset (each label is either 0 (negative) or 1 (positive)):"
      ]
    },
    {
      "cell_type": "code",
      "execution_count": null,
      "metadata": {
        "colab": {
          "base_uri": "https://localhost:8080/"
        },
        "id": "P665qAnso8tt",
        "outputId": "a87c1eae-165c-4ed1-8671-050a6aadf7ec",
        "tags": []
      },
      "outputs": [
        {
          "data": {
            "text/plain": [
              "array([1, 0, 0, ..., 0, 1, 0])"
            ]
          },
          "execution_count": 34,
          "metadata": {},
          "output_type": "execute_result"
        }
      ],
      "source": [
        "train_labels"
      ]
    },
    {
      "cell_type": "markdown",
      "metadata": {
        "id": "RnKvHWW4-lkW"
      },
      "source": [
        "Display the 1st review in the **training** dataset (reviews are converted to integers and each integer represents a specific word):"
      ]
    },
    {
      "cell_type": "code",
      "execution_count": null,
      "metadata": {
        "colab": {
          "base_uri": "https://localhost:8080/"
        },
        "id": "QtTS4kpEpjbi",
        "outputId": "13bd7489-9df4-4beb-af2a-1f33e9203483",
        "tags": []
      },
      "outputs": [
        {
          "name": "stdout",
          "output_type": "stream",
          "text": [
            "[1, 14, 22, 16, 43, 530, 973, 1622, 1385, 65, 458, 4468, 66, 3941, 4, 173, 36, 256, 5, 25, 100, 43, 838, 112, 50, 670, 2, 9, 35, 480, 284, 5, 150, 4, 172, 112, 167, 2, 336, 385, 39, 4, 172, 4536, 1111, 17, 546, 38, 13, 447, 4, 192, 50, 16, 6, 147, 2025, 19, 14, 22, 4, 1920, 4613, 469, 4, 22, 71, 87, 12, 16, 43, 530, 38, 76, 15, 13, 1247, 4, 22, 17, 515, 17, 12, 16, 626, 18, 2, 5, 62, 386, 12, 8, 316, 8, 106, 5, 4, 2223, 5244, 16, 480, 66, 3785, 33, 4, 130, 12, 16, 38, 619, 5, 25, 124, 51, 36, 135, 48, 25, 1415, 33, 6, 22, 12, 215, 28, 77, 52, 5, 14, 407, 16, 82, 10311, 8, 4, 107, 117, 5952, 15, 256, 4, 2, 7, 3766, 5, 723, 36, 71, 43, 530, 476, 26, 400, 317, 46, 7, 4, 2, 1029, 13, 104, 88, 4, 381, 15, 297, 98, 32, 2071, 56, 26, 141, 6, 194, 7486, 18, 4, 226, 22, 21, 134, 476, 26, 480, 5, 144, 30, 5535, 18, 51, 36, 28, 224, 92, 25, 104, 4, 226, 65, 16, 38, 1334, 88, 12, 16, 283, 5, 16, 4472, 113, 103, 32, 15, 16, 5345, 19, 178, 32]\n"
          ]
        }
      ],
      "source": [
        "print(train_data[0])"
      ]
    },
    {
      "cell_type": "markdown",
      "metadata": {
        "id": "hIE4l_72x7DP"
      },
      "source": [
        "Display the number of words in the first five reviews (needs processing, because inputs to a neural network must be the same length):"
      ]
    },
    {
      "cell_type": "code",
      "execution_count": null,
      "metadata": {
        "colab": {
          "base_uri": "https://localhost:8080/"
        },
        "id": "X-6Ii9Pfx6Nr",
        "outputId": "86496e57-3d9b-4b5f-b099-52dbe5eb7ca7",
        "tags": []
      },
      "outputs": [
        {
          "name": "stdout",
          "output_type": "stream",
          "text": [
            "218\n",
            "189\n",
            "141\n",
            "550\n",
            "147\n"
          ]
        }
      ],
      "source": [
        "for i in range(0,5):\n",
        "  print(len(train_data[i]))"
      ]
    },
    {
      "cell_type": "markdown",
      "metadata": {
        "id": "ktTfyfsQXsK6"
      },
      "source": [
        "If you want to look at the 1st review in words ..."
      ]
    },
    {
      "cell_type": "code",
      "execution_count": null,
      "metadata": {
        "id": "sXdurB5cXsK7",
        "tags": []
      },
      "outputs": [],
      "source": [
        "# A dictionary mapping words to an integer index\n",
        "word_to_id = imdb.get_word_index()\n",
        "# The first indices are reserved\n",
        "word_to_id = {k:(v+3) for k,v in word_to_id.items()}\n",
        "word_to_id[\"<PAD>\"] = 0\n",
        "word_to_id[\"<START>\"] = 1\n",
        "word_to_id[\"<UNK>\"] = 2  # unknown\n",
        "word_to_id[\"<UNUSED>\"] = 3\n",
        "id_to_word = {value:key for key,value in word_to_id.items()}"
      ]
    },
    {
      "cell_type": "markdown",
      "metadata": {
        "id": "g9wGBa4zXsK9"
      },
      "source": [
        "You can get the index of word and convert training data to word format:"
      ]
    },
    {
      "cell_type": "code",
      "execution_count": null,
      "metadata": {
        "id": "PFVBLgfV2Udd"
      },
      "outputs": [],
      "source": []
    },
    {
      "cell_type": "code",
      "execution_count": null,
      "metadata": {
        "colab": {
          "base_uri": "https://localhost:8080/"
        },
        "id": "N_oXggnfXsK9",
        "outputId": "1db2f6af-63e2-4006-aadf-6faf1b9ffbfd",
        "tags": []
      },
      "outputs": [
        {
          "name": "stdout",
          "output_type": "stream",
          "text": [
            "<START> this film was just brilliant casting location scenery story direction everyone's really suited the part they played and you could just imagine being there robert <UNK> is an amazing actor and now the same being director <UNK> father came from the same scottish island as myself so i loved the fact there was a real connection with this film the witty remarks throughout the film were great it was just brilliant so much that i bought the film as soon as it was released for <UNK> and would recommend it to everyone to watch and the fly fishing was amazing really cried at the end it was so sad and you know what they say if you cry at a film it must have been good and this definitely was also congratulations to the two little boy's that played the <UNK> of norman and paul they were just brilliant children are often left out of the <UNK> list i think because the stars that play them all grown up are such a big profile for the whole film but these children are amazing and should be praised for what they have done don't you think the whole story was so lovely because it was true and was someone's life after all that was shared with us all\n"
          ]
        }
      ],
      "source": [
        "print(' '.join(id_to_word[id] for id in train_data[0]))"
      ]
    },
    {
      "cell_type": "markdown",
      "metadata": {
        "id": "lFP_XKVRp4_S"
      },
      "source": [
        "## Prepare the data\n",
        "\n",
        "Standardize the length of movie reviews by using the [pad_sequences](https://www.tensorflow.org/api_docs/python/tf/keras/preprocessing/sequence/pad_sequences) function:"
      ]
    },
    {
      "cell_type": "code",
      "execution_count": null,
      "metadata": {
        "id": "2jQv-omsHurp"
      },
      "outputs": [],
      "source": [
        "train_data = pad_sequences(train_data,\n",
        "                           value=word_to_id[\"<PAD>\"],\n",
        "                           padding='post',\n",
        "                           maxlen=256)\n",
        "\n",
        "test_data = pad_sequences(test_data,\n",
        "                          value=word_to_id[\"<PAD>\"],\n",
        "                          padding='post',\n",
        "                          maxlen=256)"
      ]
    },
    {
      "cell_type": "markdown",
      "metadata": {
        "id": "8GSasErwXsLB"
      },
      "source": [
        "Note the argument `value=word_to_id[\"<PAD>\"]` indicates that sequences that are shorter than `num_timesteps` are padded with value 0 at the end.\n",
        "\n",
        "`num_timesteps` is either the `maxlen` argument if provided, or the length of the longest sequence otherwise."
      ]
    },
    {
      "cell_type": "markdown",
      "metadata": {
        "id": "VO5MBpyQdipD"
      },
      "source": [
        "Display the number of words in the first five reviews to confirm the padding:"
      ]
    },
    {
      "cell_type": "code",
      "execution_count": null,
      "metadata": {
        "colab": {
          "base_uri": "https://localhost:8080/"
        },
        "id": "USSSBnkE-lky",
        "outputId": "ca5e59be-a803-403d-8040-ca6df790b4fb"
      },
      "outputs": [
        {
          "name": "stdout",
          "output_type": "stream",
          "text": [
            "256\n",
            "256\n",
            "256\n",
            "256\n",
            "256\n"
          ]
        }
      ],
      "source": [
        "for i in range(0,5):\n",
        "  print(len(train_data[i]))"
      ]
    },
    {
      "cell_type": "markdown",
      "metadata": {
        "id": "QJoxZGyfjT5V"
      },
      "source": [
        "Inspect the (now padded) 1st review:"
      ]
    },
    {
      "cell_type": "code",
      "execution_count": null,
      "metadata": {
        "colab": {
          "base_uri": "https://localhost:8080/"
        },
        "id": "TG8X9cqi-lk9",
        "outputId": "a14738d1-8517-4c62-fdc5-c82ad7928e24"
      },
      "outputs": [
        {
          "name": "stdout",
          "output_type": "stream",
          "text": [
            "[    1    14    22    16    43   530   973  1622  1385    65   458  4468\n",
            "    66  3941     4   173    36   256     5    25   100    43   838   112\n",
            "    50   670     2     9    35   480   284     5   150     4   172   112\n",
            "   167     2   336   385    39     4   172  4536  1111    17   546    38\n",
            "    13   447     4   192    50    16     6   147  2025    19    14    22\n",
            "     4  1920  4613   469     4    22    71    87    12    16    43   530\n",
            "    38    76    15    13  1247     4    22    17   515    17    12    16\n",
            "   626    18     2     5    62   386    12     8   316     8   106     5\n",
            "     4  2223  5244    16   480    66  3785    33     4   130    12    16\n",
            "    38   619     5    25   124    51    36   135    48    25  1415    33\n",
            "     6    22    12   215    28    77    52     5    14   407    16    82\n",
            " 10311     8     4   107   117  5952    15   256     4     2     7  3766\n",
            "     5   723    36    71    43   530   476    26   400   317    46     7\n",
            "     4     2  1029    13   104    88     4   381    15   297    98    32\n",
            "  2071    56    26   141     6   194  7486    18     4   226    22    21\n",
            "   134   476    26   480     5   144    30  5535    18    51    36    28\n",
            "   224    92    25   104     4   226    65    16    38  1334    88    12\n",
            "    16   283     5    16  4472   113   103    32    15    16  5345    19\n",
            "   178    32     0     0     0     0     0     0     0     0     0     0\n",
            "     0     0     0     0     0     0     0     0     0     0     0     0\n",
            "     0     0     0     0     0     0     0     0     0     0     0     0\n",
            "     0     0     0     0]\n"
          ]
        }
      ],
      "source": [
        "print(train_data[0])"
      ]
    },
    {
      "cell_type": "code",
      "execution_count": null,
      "metadata": {
        "colab": {
          "base_uri": "https://localhost:8080/"
        },
        "id": "-1rsJ-irXsLG",
        "outputId": "f0fc1421-bc7f-45fd-f746-bdb32d7f6b91"
      },
      "outputs": [
        {
          "name": "stdout",
          "output_type": "stream",
          "text": [
            "<START> this film was just brilliant casting location scenery story direction everyone's really suited the part they played and you could just imagine being there robert <UNK> is an amazing actor and now the same being director <UNK> father came from the same scottish island as myself so i loved the fact there was a real connection with this film the witty remarks throughout the film were great it was just brilliant so much that i bought the film as soon as it was released for <UNK> and would recommend it to everyone to watch and the fly fishing was amazing really cried at the end it was so sad and you know what they say if you cry at a film it must have been good and this definitely was also congratulations to the two little boy's that played the <UNK> of norman and paul they were just brilliant children are often left out of the <UNK> list i think because the stars that play them all grown up are such a big profile for the whole film but these children are amazing and should be praised for what they have done don't you think the whole story was so lovely because it was true and was someone's life after all that was shared with us all <PAD> <PAD> <PAD> <PAD> <PAD> <PAD> <PAD> <PAD> <PAD> <PAD> <PAD> <PAD> <PAD> <PAD> <PAD> <PAD> <PAD> <PAD> <PAD> <PAD> <PAD> <PAD> <PAD> <PAD> <PAD> <PAD> <PAD> <PAD> <PAD> <PAD> <PAD> <PAD> <PAD> <PAD> <PAD> <PAD> <PAD> <PAD>\n"
          ]
        }
      ],
      "source": [
        "print(' '.join(id_to_word[id] for id in train_data[0]))"
      ]
    },
    {
      "cell_type": "code",
      "execution_count": null,
      "metadata": {
        "colab": {
          "base_uri": "https://localhost:8080/"
        },
        "id": "G4579O052UoN",
        "outputId": "4528fdc8-401c-4a8b-938d-d78fe26bf232"
      },
      "outputs": [
        {
          "name": "stdout",
          "output_type": "stream",
          "text": [
            "Most frequent value: 4\n",
            "Count of the most frequent value: 15\n",
            "The word for the most frequent code: the\n"
          ]
        }
      ],
      "source": [
        "arr = np.array(train_data[0])\n",
        "arr = arr[arr != 0]\n",
        "\n",
        "# Get unique elements and their counts\n",
        "unique_elements, counts = np.unique(arr, return_counts=True)\n",
        "\n",
        "# Find the index of the highest count\n",
        "index_most_frequent = np.argmax(counts)\n",
        "\n",
        "# Extract the most frequent value and its count\n",
        "most_frequent_value = unique_elements[index_most_frequent]\n",
        "count_most_frequent = counts[index_most_frequent]\n",
        "\n",
        "print(\"Most frequent value:\", most_frequent_value)\n",
        "print(\"Count of the most frequent value:\", count_most_frequent)\n",
        "print(\"The word for the most frequent code:\", id_to_word[most_frequent_value])\n"
      ]
    },
    {
      "cell_type": "code",
      "execution_count": null,
      "metadata": {
        "colab": {
          "base_uri": "https://localhost:8080/"
        },
        "id": "RzPIiogHB7fK",
        "outputId": "4e37ccdd-490f-4a77-c2dc-33323bc6706b"
      },
      "outputs": [
        {
          "name": "stdout",
          "output_type": "stream",
          "text": [
            "The most common word (excluding <PAD>) is: the\n"
          ]
        }
      ],
      "source": [
        "from collections import Counter\n",
        "\n",
        "# Assuming train_data[0] is a list of word IDs\n",
        "word_ids = train_data[0]\n",
        "\n",
        "# Convert word IDs to words using the id_to_word dictionary, excluding <PAD>\n",
        "words = [id_to_word[id] for id in word_ids if id_to_word[id] != '<PAD>']\n",
        "\n",
        "# Use Counter to count the occurrences of each word\n",
        "word_counts = Counter(words)\n",
        "\n",
        "# Find the most common word\n",
        "most_common_word = word_counts.most_common(1)[0][0]\n",
        "\n",
        "print(\"The most common word (excluding <PAD>) is:\", most_common_word)\n"
      ]
    },
    {
      "cell_type": "code",
      "execution_count": null,
      "metadata": {
        "colab": {
          "base_uri": "https://localhost:8080/"
        },
        "id": "Vc3P073rC-tC",
        "outputId": "6db850d8-caa4-49a9-d041-feba713dabd0"
      },
      "outputs": [
        {
          "name": "stdout",
          "output_type": "stream",
          "text": [
            "The most common word is: the\n",
            "The corresponding integer value is: 4\n",
            "The frequency of the most common word is: 15\n"
          ]
        }
      ],
      "source": [
        "from collections import Counter\n",
        "\n",
        "# Assuming train_data[0] is a list of word IDs\n",
        "word_ids = train_data[0]\n",
        "\n",
        "# Convert word IDs to words using the id_to_word dictionary, excluding <PAD>\n",
        "words = [id_to_word[id] for id in word_ids if id_to_word[id] != '<PAD>']\n",
        "\n",
        "# Use Counter to count the occurrences of each word\n",
        "word_counts = Counter(words)\n",
        "\n",
        "# Find the most common word and its frequency\n",
        "most_common_word, frequency = word_counts.most_common(1)[0]\n",
        "\n",
        "# Find the corresponding integer value for the most common word\n",
        "most_common_word_id = word_to_id[most_common_word]\n",
        "\n",
        "print(\"The most common word is:\", most_common_word)\n",
        "print(\"The corresponding integer value is:\", most_common_word_id)\n",
        "print(\"The frequency of the most common word is:\", frequency)\n"
      ]
    },
    {
      "cell_type": "markdown",
      "metadata": {
        "id": "GhIhbqUZtubE"
      },
      "source": [
        "## Bag of Words (Vectorization)\n",
        "We use bag of words to convert a document to a vector. It counts the number of word occurence on a review."
      ]
    },
    {
      "cell_type": "code",
      "execution_count": null,
      "metadata": {
        "id": "pyN7iEWjtubF"
      },
      "outputs": [],
      "source": [
        "unique_words = set()\n",
        "for s in train_data:\n",
        "    unique_words = unique_words.union(set(s))\n",
        "for s in test_data:\n",
        "    unique_words = unique_words.union(set(s))"
      ]
    },
    {
      "cell_type": "code",
      "execution_count": null,
      "metadata": {
        "colab": {
          "base_uri": "https://localhost:8080/"
        },
        "id": "KyW_o0rMtubH",
        "outputId": "53d9671a-aeec-41dd-993c-527219d37f53"
      },
      "outputs": [
        {
          "data": {
            "text/plain": [
              "11999"
            ]
          },
          "execution_count": 17,
          "metadata": {},
          "output_type": "execute_result"
        }
      ],
      "source": [
        "len(unique_words)"
      ]
    },
    {
      "cell_type": "code",
      "execution_count": null,
      "metadata": {
        "id": "f7v1lbjBtubJ"
      },
      "outputs": [],
      "source": [
        "def bag_of_words(doc):\n",
        "    num_of_words = dict.fromkeys(unique_words, 0)\n",
        "    for word in doc:\n",
        "        num_of_words[word] += 1\n",
        "    return np.fromiter(num_of_words.values(), dtype=int)"
      ]
    },
    {
      "cell_type": "code",
      "execution_count": null,
      "metadata": {
        "id": "y2Traha_tubL"
      },
      "outputs": [],
      "source": [
        "x_train = np.array([bag_of_words(i) for i in train_data])\n",
        "x_test = np.array([bag_of_words(i) for i in test_data])"
      ]
    },
    {
      "cell_type": "markdown",
      "metadata": {
        "id": "hCWYwkug-llQ"
      },
      "source": [
        "## Create a validation set\n",
        "\n",
        "Create a *validation set* by setting apart 5,000 examples from the training data. (the validation set will be used to tune our model)."
      ]
    },
    {
      "cell_type": "code",
      "execution_count": null,
      "metadata": {
        "id": "6cffoc_9tubQ"
      },
      "outputs": [],
      "source": [
        "partial_x_train = x_train[:20000]\n",
        "x_val = x_train[20000:]\n",
        "\n",
        "partial_y_train = train_labels[:20000]\n",
        "y_val = train_labels[20000:]"
      ]
    },
    {
      "cell_type": "code",
      "execution_count": null,
      "metadata": {
        "colab": {
          "base_uri": "https://localhost:8080/"
        },
        "id": "oFMK_zn6tubS",
        "outputId": "c53c7c19-d3b1-4280-ed47-7b12869757c0",
        "scrolled": true
      },
      "outputs": [
        {
          "data": {
            "text/plain": [
              "(20000, 11999)"
            ]
          },
          "execution_count": 21,
          "metadata": {},
          "output_type": "execute_result"
        }
      ],
      "source": [
        "partial_x_train.shape"
      ]
    },
    {
      "cell_type": "code",
      "execution_count": null,
      "metadata": {
        "colab": {
          "base_uri": "https://localhost:8080/"
        },
        "id": "lo7eTcN6tubU",
        "outputId": "2eeb332f-a7ba-4570-f78a-460459ac83a9",
        "scrolled": true
      },
      "outputs": [
        {
          "data": {
            "text/plain": [
              "array([38,  1,  5, ...,  0,  0,  0])"
            ]
          },
          "execution_count": 22,
          "metadata": {},
          "output_type": "execute_result"
        }
      ],
      "source": [
        "# each input is a sparse vector size of 9999\n",
        "partial_x_train[0]"
      ]
    },
    {
      "cell_type": "markdown",
      "metadata": {
        "id": "LLC02j2g-llC"
      },
      "source": [
        "## Build the model\n",
        "\n",
        "The neural network is created by stacking layers—this requires two main architectural decisions:\n",
        "\n",
        "* How many layers to use in the model?\n",
        "* How many *hidden units* to use for each layer?\n",
        "\n",
        "In this example, the input data consists of an array of word representation. The labels to predict are either 0 or 1. Let's build a model for this problem:"
      ]
    },
    {
      "cell_type": "code",
      "execution_count": null,
      "metadata": {
        "colab": {
          "base_uri": "https://localhost:8080/"
        },
        "id": "NOzwQaxctubW",
        "outputId": "d1badced-408f-42fa-d0bf-77a5523b6100",
        "scrolled": true
      },
      "outputs": [
        {
          "name": "stdout",
          "output_type": "stream",
          "text": [
            "Model: \"sequential\"\n",
            "_________________________________________________________________\n",
            " Layer (type)                Output Shape              Param #   \n",
            "=================================================================\n",
            " dense (Dense)               (None, 64)                768000    \n",
            "                                                                 \n",
            " activation (Activation)     (None, 64)                0         \n",
            "                                                                 \n",
            " dense_1 (Dense)             (None, 32)                2080      \n",
            "                                                                 \n",
            " activation_1 (Activation)   (None, 32)                0         \n",
            "                                                                 \n",
            " dense_2 (Dense)             (None, 1)                 33        \n",
            "                                                                 \n",
            " activation_2 (Activation)   (None, 1)                 0         \n",
            "                                                                 \n",
            "=================================================================\n",
            "Total params: 770,113\n",
            "Trainable params: 770,113\n",
            "Non-trainable params: 0\n",
            "_________________________________________________________________\n"
          ]
        }
      ],
      "source": [
        "model = Sequential()\n",
        "# this layer is a 64-unit (or neuron) ReLU layer, it's the first learning layer\n",
        "model.add(Dense(64,input_shape = (partial_x_train.shape[1],)))\n",
        "model.add(Activation('relu'))\n",
        "# this layer is a 32-unit (or neuron) ReLU layer, it's the second learning layer\n",
        "model.add(Dense(32))\n",
        "model.add(Activation('relu'))\n",
        "# this layer is a single-unit (or neuron) Sigmoid layer, it outputs the predicted label\n",
        "model.add(Dense(1))\n",
        "model.add(Activation('sigmoid'))\n",
        "\n",
        "model.summary()"
      ]
    },
    {
      "cell_type": "markdown",
      "metadata": {
        "id": "4BJGta3ttubY"
      },
      "source": [
        "![Activation Function](1_XxxiA0jJvPrHEJHD4z893g.png)"
      ]
    },
    {
      "cell_type": "markdown",
      "metadata": {
        "id": "L4EqVWg4-llM"
      },
      "source": [
        "\n",
        "### Compile the model\n",
        "\n",
        "Define the loss function, optimizer, and performance metric using the model's *compile* step:"
      ]
    },
    {
      "cell_type": "code",
      "execution_count": null,
      "metadata": {
        "id": "1PpR9QyttubZ"
      },
      "outputs": [],
      "source": [
        "model.compile(loss='binary_crossentropy',\n",
        "              optimizer=tf.optimizers.Adam(),\n",
        "              metrics=['accuracy'])"
      ]
    },
    {
      "cell_type": "markdown",
      "metadata": {
        "id": "35jv_fzP-llU"
      },
      "source": [
        "## Train the model\n",
        "\n",
        "Train the model for 10 epochs with batch size of 256:"
      ]
    },
    {
      "cell_type": "code",
      "execution_count": null,
      "metadata": {
        "colab": {
          "base_uri": "https://localhost:8080/"
        },
        "id": "0G7heNdAtubb",
        "outputId": "183c2374-bdbb-4997-f35d-fda1fbf19f4a"
      },
      "outputs": [
        {
          "name": "stdout",
          "output_type": "stream",
          "text": [
            "Epoch 1/10\n",
            "313/313 [==============================] - 11s 30ms/step - loss: 0.3609 - accuracy: 0.8340 - val_loss: 0.3077 - val_accuracy: 0.8684\n",
            "Epoch 2/10\n",
            "313/313 [==============================] - 9s 28ms/step - loss: 0.1757 - accuracy: 0.9322 - val_loss: 0.3018 - val_accuracy: 0.8770\n",
            "Epoch 3/10\n",
            "313/313 [==============================] - 8s 27ms/step - loss: 0.0934 - accuracy: 0.9675 - val_loss: 0.4326 - val_accuracy: 0.8518\n",
            "Epoch 4/10\n",
            "313/313 [==============================] - 10s 30ms/step - loss: 0.0546 - accuracy: 0.9820 - val_loss: 0.5067 - val_accuracy: 0.8594\n",
            "Epoch 5/10\n",
            "313/313 [==============================] - 7s 21ms/step - loss: 0.0285 - accuracy: 0.9905 - val_loss: 0.5350 - val_accuracy: 0.8760\n",
            "Epoch 6/10\n",
            "313/313 [==============================] - 11s 35ms/step - loss: 0.0124 - accuracy: 0.9969 - val_loss: 0.6538 - val_accuracy: 0.8726\n",
            "Epoch 7/10\n",
            "313/313 [==============================] - 7s 23ms/step - loss: 0.0055 - accuracy: 0.9987 - val_loss: 0.7312 - val_accuracy: 0.8670\n",
            "Epoch 8/10\n",
            "313/313 [==============================] - 11s 35ms/step - loss: 0.0068 - accuracy: 0.9980 - val_loss: 0.8159 - val_accuracy: 0.8604\n",
            "Epoch 9/10\n",
            "313/313 [==============================] - 8s 24ms/step - loss: 0.0299 - accuracy: 0.9894 - val_loss: 0.6888 - val_accuracy: 0.8562\n",
            "Epoch 10/10\n",
            "313/313 [==============================] - 9s 30ms/step - loss: 0.0269 - accuracy: 0.9906 - val_loss: 0.6776 - val_accuracy: 0.8606\n"
          ]
        }
      ],
      "source": [
        "history = model.fit(partial_x_train,\n",
        "                    partial_y_train,\n",
        "                    epochs=10,\n",
        "                    batch_size=64,\n",
        "                    validation_data=(x_val, y_val),\n",
        "                    verbose=1)"
      ]
    },
    {
      "cell_type": "markdown",
      "metadata": {
        "id": "9EEGuDVuzb5r"
      },
      "source": [
        "## Evaluate the model\n",
        "\n",
        "Evaluate the accuracy of the model by making predictions using the model in the test dataset:"
      ]
    },
    {
      "cell_type": "code",
      "execution_count": null,
      "metadata": {
        "colab": {
          "base_uri": "https://localhost:8080/"
        },
        "id": "jVM77YK6tubd",
        "outputId": "fff8e952-cabd-4a01-f0af-8bf28408a8d0"
      },
      "outputs": [
        {
          "name": "stdout",
          "output_type": "stream",
          "text": [
            "782/782 [==============================] - 6s 8ms/step - loss: 0.7465 - accuracy: 0.8432\n",
            "Test accuracy: 0.8431599736213684\n"
          ]
        }
      ],
      "source": [
        "test_loss, test_acc = model.evaluate(x_test, test_labels)\n",
        "\n",
        "print('Test accuracy:', test_acc)"
      ]
    },
    {
      "cell_type": "markdown",
      "metadata": {
        "id": "5KggXVeL-llZ"
      },
      "source": [
        "## Plot the accuracy and loss of the model\n",
        "\n",
        "Plot both the accuracy and loss over time (as the number of epochs increase):"
      ]
    },
    {
      "cell_type": "code",
      "execution_count": null,
      "metadata": {
        "colab": {
          "base_uri": "https://localhost:8080/",
          "height": 927
        },
        "id": "oxIH_AGYtubg",
        "outputId": "62362d76-0dbf-4dec-9604-9ffcf451dfb1"
      },
      "outputs": [
        {
          "data": {
            "image/png": "[encoded data removed]",
            "text/plain": [
              "<Figure size 640x480 with 1 Axes>"
            ]
          },
          "metadata": {},
          "output_type": "display_data"
        },
        {
          "data": {
            "image/png": "[encoded data removed]",
            "text/plain": [
              "<Figure size 640x480 with 1 Axes>"
            ]
          },
          "metadata": {},
          "output_type": "display_data"
        }
      ],
      "source": [
        "history_dict = history.history\n",
        "history_dict.keys()\n",
        "\n",
        "acc = history.history['accuracy']\n",
        "val_acc = history.history['val_accuracy']\n",
        "loss = history.history['loss']\n",
        "val_loss = history.history['val_loss']\n",
        "\n",
        "epochs = range(1, len(acc) + 1)\n",
        "\n",
        "acc_values = history_dict['accuracy']\n",
        "val_acc_values = history_dict['val_accuracy']\n",
        "\n",
        "plt.plot(epochs, acc, 'bo', label='Training acc')\n",
        "plt.plot(epochs, val_acc, 'b', label='Validation acc')\n",
        "plt.title('Training and validation accuracy')\n",
        "plt.xlabel('Epochs')\n",
        "plt.ylabel('Accuracy')\n",
        "plt.legend()\n",
        "\n",
        "plt.show()\n",
        "\n",
        "plt.clf()   # clear figure\n",
        "# \"bo\" is for \"blue dot\"\n",
        "plt.plot(epochs, loss, 'bo', label='Training loss')\n",
        "# b is for \"solid blue line\"\n",
        "plt.plot(epochs, val_loss, 'b', label='Validation loss')\n",
        "plt.title('Training and validation loss')\n",
        "plt.xlabel('Epochs')\n",
        "plt.ylabel('Loss')\n",
        "plt.legend()\n",
        "\n",
        "plt.show()"
      ]
    },
    {
      "cell_type": "markdown",
      "metadata": {
        "id": "EvFrWKBZoe9G"
      },
      "source": [
        "## Copyright 2018 The TensorFlow Authors"
      ]
    },
    {
      "cell_type": "code",
      "execution_count": null,
      "metadata": {
        "cellView": "form",
        "id": "B-PAweZEomrG"
      },
      "outputs": [],
      "source": [
        "#@title Licensed under the Apache License, Version 2.0 (the \"License\");\n",
        "# you may not use this file except in compliance with the License.\n",
        "# You may obtain a copy of the License at\n",
        "#\n",
        "# https://www.apache.org/licenses/LICENSE-2.0\n",
        "#\n",
        "# Unless required by applicable law or agreed to in writing, software\n",
        "# distributed under the License is distributed on an \"AS IS\" BASIS,\n",
        "# WITHOUT WARRANTIES OR CONDITIONS OF ANY KIND, either express or implied.\n",
        "# See the License for the specific language governing permissions and\n",
        "# limitations under the License."
      ]
    },
    {
      "cell_type": "code",
      "execution_count": null,
      "metadata": {
        "cellView": "form",
        "id": "kgusSLx9pUah"
      },
      "outputs": [],
      "source": [
        "#@title MIT License\n",
        "#\n",
        "# Copyright (c) 2017 François Chollet\n",
        "#\n",
        "# Permission is hereby granted, free of charge, to any person obtaining a\n",
        "# copy of this software and associated documentation files (the \"Software\"),\n",
        "# to deal in the Software without restriction, including without limitation\n",
        "# the rights to use, copy, modify, merge, publish, distribute, sublicense,\n",
        "# and/or sell copies of the Software, and to permit persons to whom the\n",
        "# Software is furnished to do so, subject to the following conditions:\n",
        "#\n",
        "# The above copyright notice and this permission notice shall be included in\n",
        "# all copies or substantial portions of the Software.\n",
        "#\n",
        "# THE SOFTWARE IS PROVIDED \"AS IS\", WITHOUT WARRANTY OF ANY KIND, EXPRESS OR\n",
        "# IMPLIED, INCLUDING BUT NOT LIMITED TO THE WARRANTIES OF MERCHANTABILITY,\n",
        "# FITNESS FOR A PARTICULAR PURPOSE AND NONINFRINGEMENT. IN NO EVENT SHALL\n",
        "# THE AUTHORS OR COPYRIGHT HOLDERS BE LIABLE FOR ANY CLAIM, DAMAGES OR OTHER\n",
        "# LIABILITY, WHETHER IN AN ACTION OF CONTRACT, TORT OR OTHERWISE, ARISING\n",
        "# FROM, OUT OF OR IN CONNECTION WITH THE SOFTWARE OR THE USE OR OTHER\n",
        "# DEALINGS IN THE SOFTWARE."
      ]
    },
    {
      "cell_type": "code",
      "execution_count": null,
      "metadata": {
        "id": "U-4Wz5ygsBg9"
      },
      "outputs": [],
      "source": []
    }
  ],
  "metadata": {
    "accelerator": "TPU",
    "colab": {
      "provenance": []
    },
    "kernelspec": {
      "display_name": "Python 3",
      "name": "python3"
    },
    "language_info": {
      "codemirror_mode": {
        "name": "ipython",
        "version": 3
      },
      "file_extension": ".py",
      "mimetype": "text/x-python",
      "name": "python",
      "nbconvert_exporter": "python",
      "pygments_lexer": "ipython3",
      "version": "3.11.4"
    }
  },
  "nbformat": 4,
  "nbformat_minor": 0
}
