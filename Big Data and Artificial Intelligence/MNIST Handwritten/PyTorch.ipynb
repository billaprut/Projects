{
 "cells": [
  {
   "cell_type": "markdown",
   "metadata": {
    "id": "oXZJWeZfdlTp"
   },
   "source": [
    "MNIST Dataset Overview\n",
    "This example is using MNIST handwritten digits. The dataset contains 60,000 examples for training and 10,000 examples for testing.\n",
    "MNIST Dataset\n",
    "\n",
    "\n",
    "The first step is to import the classes and functions needed"
   ]
  },
  {
   "cell_type": "code",
   "execution_count": 1,
   "metadata": {
    "id": "wr1bY_KnYH-z"
   },
   "outputs": [],
   "source": [
    "import torch\n",
    "import torch.nn as nn\n",
    "import torch.optim as optim\n",
    "from torch.autograd import Variable\n",
    "import torchvision\n",
    "import torchvision.transforms as transforms\n",
    "import torch.nn.functional as F\n",
    "import matplotlib.pyplot as plt\n",
    "import numpy as np\n"
   ]
  },
  {
   "cell_type": "markdown",
   "metadata": {
    "id": "sXD4vBV1dxRX"
   },
   "source": [
    "Define the CNN model in PyTorch"
   ]
  },
  {
   "cell_type": "code",
   "execution_count": 2,
   "metadata": {
    "id": "dOgMZ2dpYH7z"
   },
   "outputs": [],
   "source": [
    "class Net(nn.Module):\n",
    "    def __init__(self):\n",
    "        super(Net, self).__init__()\n",
    "        self.conv1 = nn.Conv2d(1, 32, 5)\n",
    "        self.pool = nn.MaxPool2d(2, 2)\n",
    "        self.fc1 = nn.Linear(32 * 12 * 12, 128)\n",
    "        self.fc2 = nn.Linear(128, 10)\n",
    "\n",
    "    def forward(self, x):\n",
    "        x = self.pool(F.relu(self.conv1(x)))\n",
    "        x = x.view(-1, 32 * 12 * 12)\n",
    "        x = F.relu(self.fc1(x))\n",
    "        x = self.fc2(x)\n",
    "        return x"
   ]
  },
  {
   "cell_type": "markdown",
   "metadata": {
    "id": "35CdQ74jd791"
   },
   "source": [
    "Transform and load the MNIST data using PyTorch"
   ]
  },
  {
   "cell_type": "code",
   "execution_count": 3,
   "metadata": {
    "colab": {
     "base_uri": "https://localhost:8080/"
    },
    "id": "U3gb4gfTYH4q",
    "outputId": "fcd54837-48de-454d-c473-c97290a0ace6"
   },
   "outputs": [
    {
     "name": "stderr",
     "output_type": "stream",
     "text": [
      "/usr/local/lib/python3.10/dist-packages/torch/utils/data/dataloader.py:557: UserWarning: This DataLoader will create 4 worker processes in total. Our suggested max number of worker in current system is 2, which is smaller than what this DataLoader is going to create. Please be aware that excessive worker creation might get DataLoader running slow or even freeze, lower the worker number to avoid potential slowness/freeze if necessary.\n",
      "  warnings.warn(_create_warning_msg(\n"
     ]
    }
   ],
   "source": [
    "\n",
    "transform = transforms.Compose([transforms.ToTensor(), transforms.Normalize((0.5,), (0.5,))])\n",
    "\n",
    "train_dataset = torchvision.datasets.MNIST(root='./data', train=True, transform=transform, download=True)\n",
    "train_loader = torch.utils.data.DataLoader(train_dataset, batch_size=200, shuffle=True, num_workers=4)\n",
    "\n",
    "test_dataset = torchvision.datasets.MNIST(root='./data', train=False, transform=transform, download=True)\n",
    "test_loader = torch.utils.data.DataLoader(test_dataset, batch_size=200, shuffle=False, num_workers=4)\n"
   ]
  },
  {
   "cell_type": "markdown",
   "metadata": {
    "id": "V67fjBlpd-74"
   },
   "source": [
    "Instantiate the model and define loss function and optimizer"
   ]
  },
  {
   "cell_type": "code",
   "execution_count": 4,
   "metadata": {
    "id": "yD6vlXv4YHvD"
   },
   "outputs": [],
   "source": [
    "\n",
    "model = Net()\n",
    "criterion = nn.CrossEntropyLoss()\n",
    "optimizer = optim.Adam(model.parameters(), lr=0.001)"
   ]
  },
  {
   "cell_type": "code",
   "execution_count": 5,
   "metadata": {
    "id": "aOiqBFidYL2L"
   },
   "outputs": [],
   "source": [
    "# Training the model\n",
    "def train(epoch):\n",
    "    model.train()\n",
    "    for batch_idx, (data, target) in enumerate(train_loader):\n",
    "        optimizer.zero_grad()\n",
    "        output = model(data)\n",
    "        loss = criterion(output, target)\n",
    "        loss.backward()\n",
    "        optimizer.step()\n",
    "        if batch_idx % 10 == 0:\n",
    "            print('Train Epoch: {} [{}/{} ({:.0f}%)]\\tLoss: {:.6f}'.format(\n",
    "                epoch, batch_idx * len(data), len(train_loader.dataset),\n",
    "                100. * batch_idx / len(train_loader), loss.item()))\n",
    "\n",
    "# Testing the model\n",
    "def test():\n",
    "    model.eval()\n",
    "    test_loss = 0\n",
    "    correct = 0\n",
    "    with torch.no_grad():\n",
    "        for data, target in test_loader:\n",
    "            output = model(data)\n",
    "            test_loss += criterion(output, target).item()\n",
    "            pred = output.max(1, keepdim=True)[1]\n",
    "            correct += pred.eq(target.view_as(pred)).sum().item()\n",
    "\n",
    "    test_loss /= len(test_loader.dataset)\n",
    "    print('\\nTest set: Average loss: {:.4f}, Accuracy: {}/{} ({:.0f}%)\\n'.format(\n",
    "        test_loss, correct, len(test_loader.dataset), 100. * correct / len(test_loader.dataset)))"
   ]
  },
  {
   "cell_type": "code",
   "execution_count": 6,
   "metadata": {
    "colab": {
     "base_uri": "https://localhost:8080/"
    },
    "id": "OTUYXah8YL4_",
    "outputId": "77ee0749-5c71-4ddf-ecc6-eff07f41a505"
   },
   "outputs": [
    {
     "name": "stdout",
     "output_type": "stream",
     "text": [
      "Train Epoch: 1 [0/60000 (0%)]\tLoss: 2.321208\n",
      "Train Epoch: 1 [2000/60000 (3%)]\tLoss: 1.013322\n",
      "Train Epoch: 1 [4000/60000 (7%)]\tLoss: 0.589283\n",
      "Train Epoch: 1 [6000/60000 (10%)]\tLoss: 0.457337\n",
      "Train Epoch: 1 [8000/60000 (13%)]\tLoss: 0.387033\n",
      "Train Epoch: 1 [10000/60000 (17%)]\tLoss: 0.280445\n",
      "Train Epoch: 1 [12000/60000 (20%)]\tLoss: 0.236730\n",
      "Train Epoch: 1 [14000/60000 (23%)]\tLoss: 0.268856\n",
      "Train Epoch: 1 [16000/60000 (27%)]\tLoss: 0.245579\n",
      "Train Epoch: 1 [18000/60000 (30%)]\tLoss: 0.259691\n",
      "Train Epoch: 1 [20000/60000 (33%)]\tLoss: 0.217783\n",
      "Train Epoch: 1 [22000/60000 (37%)]\tLoss: 0.140092\n",
      "Train Epoch: 1 [24000/60000 (40%)]\tLoss: 0.194531\n",
      "Train Epoch: 1 [26000/60000 (43%)]\tLoss: 0.144074\n",
      "Train Epoch: 1 [28000/60000 (47%)]\tLoss: 0.179391\n",
      "Train Epoch: 1 [30000/60000 (50%)]\tLoss: 0.195390\n",
      "Train Epoch: 1 [32000/60000 (53%)]\tLoss: 0.149683\n",
      "Train Epoch: 1 [34000/60000 (57%)]\tLoss: 0.163098\n",
      "Train Epoch: 1 [36000/60000 (60%)]\tLoss: 0.127506\n",
      "Train Epoch: 1 [38000/60000 (63%)]\tLoss: 0.043372\n",
      "Train Epoch: 1 [40000/60000 (67%)]\tLoss: 0.102855\n",
      "Train Epoch: 1 [42000/60000 (70%)]\tLoss: 0.122437\n",
      "Train Epoch: 1 [44000/60000 (73%)]\tLoss: 0.091626\n",
      "Train Epoch: 1 [46000/60000 (77%)]\tLoss: 0.186573\n",
      "Train Epoch: 1 [48000/60000 (80%)]\tLoss: 0.135328\n",
      "Train Epoch: 1 [50000/60000 (83%)]\tLoss: 0.102122\n",
      "Train Epoch: 1 [52000/60000 (87%)]\tLoss: 0.055238\n",
      "Train Epoch: 1 [54000/60000 (90%)]\tLoss: 0.087004\n",
      "Train Epoch: 1 [56000/60000 (93%)]\tLoss: 0.161541\n",
      "Train Epoch: 1 [58000/60000 (97%)]\tLoss: 0.113166\n",
      "\n",
      "Test set: Average loss: 0.0004, Accuracy: 9735/10000 (97%)\n",
      "\n",
      "Train Epoch: 2 [0/60000 (0%)]\tLoss: 0.051890\n",
      "Train Epoch: 2 [2000/60000 (3%)]\tLoss: 0.048100\n",
      "Train Epoch: 2 [4000/60000 (7%)]\tLoss: 0.082111\n",
      "Train Epoch: 2 [6000/60000 (10%)]\tLoss: 0.067372\n",
      "Train Epoch: 2 [8000/60000 (13%)]\tLoss: 0.081920\n",
      "Train Epoch: 2 [10000/60000 (17%)]\tLoss: 0.039586\n",
      "Train Epoch: 2 [12000/60000 (20%)]\tLoss: 0.066956\n",
      "Train Epoch: 2 [14000/60000 (23%)]\tLoss: 0.039555\n",
      "Train Epoch: 2 [16000/60000 (27%)]\tLoss: 0.021143\n",
      "Train Epoch: 2 [18000/60000 (30%)]\tLoss: 0.144430\n",
      "Train Epoch: 2 [20000/60000 (33%)]\tLoss: 0.072402\n",
      "Train Epoch: 2 [22000/60000 (37%)]\tLoss: 0.036170\n",
      "Train Epoch: 2 [24000/60000 (40%)]\tLoss: 0.088170\n",
      "Train Epoch: 2 [26000/60000 (43%)]\tLoss: 0.110184\n",
      "Train Epoch: 2 [28000/60000 (47%)]\tLoss: 0.037308\n",
      "Train Epoch: 2 [30000/60000 (50%)]\tLoss: 0.080316\n",
      "Train Epoch: 2 [32000/60000 (53%)]\tLoss: 0.056722\n",
      "Train Epoch: 2 [34000/60000 (57%)]\tLoss: 0.044472\n",
      "Train Epoch: 2 [36000/60000 (60%)]\tLoss: 0.029000\n",
      "Train Epoch: 2 [38000/60000 (63%)]\tLoss: 0.095162\n",
      "Train Epoch: 2 [40000/60000 (67%)]\tLoss: 0.040432\n",
      "Train Epoch: 2 [42000/60000 (70%)]\tLoss: 0.053565\n",
      "Train Epoch: 2 [44000/60000 (73%)]\tLoss: 0.072258\n",
      "Train Epoch: 2 [46000/60000 (77%)]\tLoss: 0.076712\n",
      "Train Epoch: 2 [48000/60000 (80%)]\tLoss: 0.024194\n",
      "Train Epoch: 2 [50000/60000 (83%)]\tLoss: 0.024790\n",
      "Train Epoch: 2 [52000/60000 (87%)]\tLoss: 0.043954\n",
      "Train Epoch: 2 [54000/60000 (90%)]\tLoss: 0.086300\n",
      "Train Epoch: 2 [56000/60000 (93%)]\tLoss: 0.075109\n",
      "Train Epoch: 2 [58000/60000 (97%)]\tLoss: 0.056031\n",
      "\n",
      "Test set: Average loss: 0.0003, Accuracy: 9822/10000 (98%)\n",
      "\n",
      "Train Epoch: 3 [0/60000 (0%)]\tLoss: 0.043677\n",
      "Train Epoch: 3 [2000/60000 (3%)]\tLoss: 0.053466\n",
      "Train Epoch: 3 [4000/60000 (7%)]\tLoss: 0.060174\n",
      "Train Epoch: 3 [6000/60000 (10%)]\tLoss: 0.081192\n",
      "Train Epoch: 3 [8000/60000 (13%)]\tLoss: 0.013666\n",
      "Train Epoch: 3 [10000/60000 (17%)]\tLoss: 0.075854\n",
      "Train Epoch: 3 [12000/60000 (20%)]\tLoss: 0.016947\n",
      "Train Epoch: 3 [14000/60000 (23%)]\tLoss: 0.048454\n",
      "Train Epoch: 3 [16000/60000 (27%)]\tLoss: 0.053149\n",
      "Train Epoch: 3 [18000/60000 (30%)]\tLoss: 0.010079\n",
      "Train Epoch: 3 [20000/60000 (33%)]\tLoss: 0.031204\n",
      "Train Epoch: 3 [22000/60000 (37%)]\tLoss: 0.011127\n",
      "Train Epoch: 3 [24000/60000 (40%)]\tLoss: 0.045519\n",
      "Train Epoch: 3 [26000/60000 (43%)]\tLoss: 0.055234\n",
      "Train Epoch: 3 [28000/60000 (47%)]\tLoss: 0.037361\n",
      "Train Epoch: 3 [30000/60000 (50%)]\tLoss: 0.022689\n",
      "Train Epoch: 3 [32000/60000 (53%)]\tLoss: 0.050744\n",
      "Train Epoch: 3 [34000/60000 (57%)]\tLoss: 0.066153\n",
      "Train Epoch: 3 [36000/60000 (60%)]\tLoss: 0.033349\n",
      "Train Epoch: 3 [38000/60000 (63%)]\tLoss: 0.061229\n",
      "Train Epoch: 3 [40000/60000 (67%)]\tLoss: 0.061018\n",
      "Train Epoch: 3 [42000/60000 (70%)]\tLoss: 0.056738\n",
      "Train Epoch: 3 [44000/60000 (73%)]\tLoss: 0.089922\n",
      "Train Epoch: 3 [46000/60000 (77%)]\tLoss: 0.036886\n",
      "Train Epoch: 3 [48000/60000 (80%)]\tLoss: 0.017902\n",
      "Train Epoch: 3 [50000/60000 (83%)]\tLoss: 0.106893\n",
      "Train Epoch: 3 [52000/60000 (87%)]\tLoss: 0.079122\n",
      "Train Epoch: 3 [54000/60000 (90%)]\tLoss: 0.080971\n",
      "Train Epoch: 3 [56000/60000 (93%)]\tLoss: 0.071913\n",
      "Train Epoch: 3 [58000/60000 (97%)]\tLoss: 0.025175\n",
      "\n",
      "Test set: Average loss: 0.0002, Accuracy: 9846/10000 (98%)\n",
      "\n",
      "Train Epoch: 4 [0/60000 (0%)]\tLoss: 0.031841\n",
      "Train Epoch: 4 [2000/60000 (3%)]\tLoss: 0.023111\n",
      "Train Epoch: 4 [4000/60000 (7%)]\tLoss: 0.022214\n",
      "Train Epoch: 4 [6000/60000 (10%)]\tLoss: 0.015689\n",
      "Train Epoch: 4 [8000/60000 (13%)]\tLoss: 0.029262\n",
      "Train Epoch: 4 [10000/60000 (17%)]\tLoss: 0.064453\n",
      "Train Epoch: 4 [12000/60000 (20%)]\tLoss: 0.049358\n",
      "Train Epoch: 4 [14000/60000 (23%)]\tLoss: 0.020456\n",
      "Train Epoch: 4 [16000/60000 (27%)]\tLoss: 0.027426\n",
      "Train Epoch: 4 [18000/60000 (30%)]\tLoss: 0.013695\n",
      "Train Epoch: 4 [20000/60000 (33%)]\tLoss: 0.071508\n",
      "Train Epoch: 4 [22000/60000 (37%)]\tLoss: 0.028986\n",
      "Train Epoch: 4 [24000/60000 (40%)]\tLoss: 0.076480\n",
      "Train Epoch: 4 [26000/60000 (43%)]\tLoss: 0.018377\n",
      "Train Epoch: 4 [28000/60000 (47%)]\tLoss: 0.067732\n",
      "Train Epoch: 4 [30000/60000 (50%)]\tLoss: 0.043270\n",
      "Train Epoch: 4 [32000/60000 (53%)]\tLoss: 0.047088\n",
      "Train Epoch: 4 [34000/60000 (57%)]\tLoss: 0.033831\n",
      "Train Epoch: 4 [36000/60000 (60%)]\tLoss: 0.013564\n",
      "Train Epoch: 4 [38000/60000 (63%)]\tLoss: 0.056712\n",
      "Train Epoch: 4 [40000/60000 (67%)]\tLoss: 0.031005\n",
      "Train Epoch: 4 [42000/60000 (70%)]\tLoss: 0.047535\n",
      "Train Epoch: 4 [44000/60000 (73%)]\tLoss: 0.053789\n",
      "Train Epoch: 4 [46000/60000 (77%)]\tLoss: 0.024248\n",
      "Train Epoch: 4 [48000/60000 (80%)]\tLoss: 0.011305\n",
      "Train Epoch: 4 [50000/60000 (83%)]\tLoss: 0.011154\n",
      "Train Epoch: 4 [52000/60000 (87%)]\tLoss: 0.052885\n",
      "Train Epoch: 4 [54000/60000 (90%)]\tLoss: 0.071172\n",
      "Train Epoch: 4 [56000/60000 (93%)]\tLoss: 0.016314\n",
      "Train Epoch: 4 [58000/60000 (97%)]\tLoss: 0.038519\n",
      "\n",
      "Test set: Average loss: 0.0002, Accuracy: 9861/10000 (99%)\n",
      "\n",
      "Train Epoch: 5 [0/60000 (0%)]\tLoss: 0.033458\n",
      "Train Epoch: 5 [2000/60000 (3%)]\tLoss: 0.035853\n",
      "Train Epoch: 5 [4000/60000 (7%)]\tLoss: 0.030499\n",
      "Train Epoch: 5 [6000/60000 (10%)]\tLoss: 0.029626\n",
      "Train Epoch: 5 [8000/60000 (13%)]\tLoss: 0.029560\n",
      "Train Epoch: 5 [10000/60000 (17%)]\tLoss: 0.030793\n",
      "Train Epoch: 5 [12000/60000 (20%)]\tLoss: 0.050174\n",
      "Train Epoch: 5 [14000/60000 (23%)]\tLoss: 0.006654\n",
      "Train Epoch: 5 [16000/60000 (27%)]\tLoss: 0.074782\n",
      "Train Epoch: 5 [18000/60000 (30%)]\tLoss: 0.029956\n",
      "Train Epoch: 5 [20000/60000 (33%)]\tLoss: 0.034428\n",
      "Train Epoch: 5 [22000/60000 (37%)]\tLoss: 0.032394\n",
      "Train Epoch: 5 [24000/60000 (40%)]\tLoss: 0.023107\n",
      "Train Epoch: 5 [26000/60000 (43%)]\tLoss: 0.039422\n",
      "Train Epoch: 5 [28000/60000 (47%)]\tLoss: 0.015366\n",
      "Train Epoch: 5 [30000/60000 (50%)]\tLoss: 0.035360\n",
      "Train Epoch: 5 [32000/60000 (53%)]\tLoss: 0.019435\n",
      "Train Epoch: 5 [34000/60000 (57%)]\tLoss: 0.072701\n",
      "Train Epoch: 5 [36000/60000 (60%)]\tLoss: 0.066497\n",
      "Train Epoch: 5 [38000/60000 (63%)]\tLoss: 0.037438\n",
      "Train Epoch: 5 [40000/60000 (67%)]\tLoss: 0.014903\n",
      "Train Epoch: 5 [42000/60000 (70%)]\tLoss: 0.008509\n",
      "Train Epoch: 5 [44000/60000 (73%)]\tLoss: 0.017036\n",
      "Train Epoch: 5 [46000/60000 (77%)]\tLoss: 0.027181\n",
      "Train Epoch: 5 [48000/60000 (80%)]\tLoss: 0.020355\n",
      "Train Epoch: 5 [50000/60000 (83%)]\tLoss: 0.025048\n",
      "Train Epoch: 5 [52000/60000 (87%)]\tLoss: 0.043421\n",
      "Train Epoch: 5 [54000/60000 (90%)]\tLoss: 0.034234\n",
      "Train Epoch: 5 [56000/60000 (93%)]\tLoss: 0.026916\n",
      "Train Epoch: 5 [58000/60000 (97%)]\tLoss: 0.006488\n",
      "\n",
      "Test set: Average loss: 0.0002, Accuracy: 9854/10000 (99%)\n",
      "\n",
      "Train Epoch: 6 [0/60000 (0%)]\tLoss: 0.024083\n",
      "Train Epoch: 6 [2000/60000 (3%)]\tLoss: 0.045197\n",
      "Train Epoch: 6 [4000/60000 (7%)]\tLoss: 0.027234\n",
      "Train Epoch: 6 [6000/60000 (10%)]\tLoss: 0.022299\n",
      "Train Epoch: 6 [8000/60000 (13%)]\tLoss: 0.014877\n",
      "Train Epoch: 6 [10000/60000 (17%)]\tLoss: 0.012696\n",
      "Train Epoch: 6 [12000/60000 (20%)]\tLoss: 0.007657\n",
      "Train Epoch: 6 [14000/60000 (23%)]\tLoss: 0.040847\n",
      "Train Epoch: 6 [16000/60000 (27%)]\tLoss: 0.022992\n",
      "Train Epoch: 6 [18000/60000 (30%)]\tLoss: 0.027780\n",
      "Train Epoch: 6 [20000/60000 (33%)]\tLoss: 0.037019\n",
      "Train Epoch: 6 [22000/60000 (37%)]\tLoss: 0.012437\n",
      "Train Epoch: 6 [24000/60000 (40%)]\tLoss: 0.042080\n",
      "Train Epoch: 6 [26000/60000 (43%)]\tLoss: 0.047431\n",
      "Train Epoch: 6 [28000/60000 (47%)]\tLoss: 0.030432\n",
      "Train Epoch: 6 [30000/60000 (50%)]\tLoss: 0.041486\n",
      "Train Epoch: 6 [32000/60000 (53%)]\tLoss: 0.026097\n",
      "Train Epoch: 6 [34000/60000 (57%)]\tLoss: 0.024614\n",
      "Train Epoch: 6 [36000/60000 (60%)]\tLoss: 0.023265\n",
      "Train Epoch: 6 [38000/60000 (63%)]\tLoss: 0.011502\n",
      "Train Epoch: 6 [40000/60000 (67%)]\tLoss: 0.029275\n",
      "Train Epoch: 6 [42000/60000 (70%)]\tLoss: 0.027141\n",
      "Train Epoch: 6 [44000/60000 (73%)]\tLoss: 0.005168\n",
      "Train Epoch: 6 [46000/60000 (77%)]\tLoss: 0.014366\n",
      "Train Epoch: 6 [48000/60000 (80%)]\tLoss: 0.026558\n",
      "Train Epoch: 6 [50000/60000 (83%)]\tLoss: 0.006184\n",
      "Train Epoch: 6 [52000/60000 (87%)]\tLoss: 0.006569\n",
      "Train Epoch: 6 [54000/60000 (90%)]\tLoss: 0.006328\n",
      "Train Epoch: 6 [56000/60000 (93%)]\tLoss: 0.004517\n",
      "Train Epoch: 6 [58000/60000 (97%)]\tLoss: 0.050843\n",
      "\n",
      "Test set: Average loss: 0.0002, Accuracy: 9847/10000 (98%)\n",
      "\n"
     ]
    }
   ],
   "source": [
    "# Training and testing\n",
    "for epoch in range(1, 7):\n",
    "    train(epoch)\n",
    "    test()"
   ]
  },
  {
   "cell_type": "code",
   "execution_count": 7,
   "metadata": {
    "colab": {
     "base_uri": "https://localhost:8080/",
     "height": 429
    },
    "id": "bUbitXQnWXjJ",
    "outputId": "b9d7e188-9407-4416-9748-aec3444fc45d"
   },
   "outputs": [
    {
     "data": {
      "image/png": "[encoded data removed]",
      "text/plain": [
       "<Figure size 1200x500 with 10 Axes>"
      ]
     },
     "metadata": {},
     "output_type": "display_data"
    }
   ],
   "source": [
    "# Plot correctly predicted images\n",
    "def plot_correctly_predicted_images(predictions, target, data):\n",
    "    plt.figure(figsize=(12, 5))\n",
    "\n",
    "    for i in range(10):\n",
    "        plt.subplot(2, 5, i + 1)\n",
    "        plt.xticks([]), plt.yticks()\n",
    "\n",
    "        plt.imshow(data[i][0].detach().numpy(), cmap='gray')\n",
    "\n",
    "        predicted_label = np.argmax(predictions[i].detach().numpy())\n",
    "        true_label = target[i].item()\n",
    "        if predicted_label == true_label:\n",
    "            color = 'blue'\n",
    "        else:\n",
    "            color = 'red'\n",
    "\n",
    "        plt.title(f'Predicted:{predicted_label}, True:{true_label}', color=color)\n",
    "\n",
    "# Getting a batch of test data\n",
    "data, target = next(iter(test_loader))\n",
    "\n",
    "# Run the model on the test data\n",
    "output = model(data)\n",
    "\n",
    "# Plot correctly predicted images from the batch\n",
    "plot_correctly_predicted_images(output, target, data)\n",
    "\n",
    "plt.show()"
   ]
  },
  {
   "cell_type": "code",
   "execution_count": 7,
   "metadata": {
    "id": "JYFmaROQbLkp"
   },
   "outputs": [],
   "source": []
  }
 ],
 "metadata": {
  "colab": {
   "provenance": []
  },
  "kernelspec": {
   "display_name": "Python 3 (ipykernel)",
   "language": "python",
   "name": "python3"
  },
  "language_info": {
   "codemirror_mode": {
    "name": "ipython",
    "version": 3
   },
   "file_extension": ".py",
   "mimetype": "text/x-python",
   "name": "python",
   "nbconvert_exporter": "python",
   "pygments_lexer": "ipython3",
   "version": "3.11.4"
  }
 },
 "nbformat": 4,
 "nbformat_minor": 4
}
