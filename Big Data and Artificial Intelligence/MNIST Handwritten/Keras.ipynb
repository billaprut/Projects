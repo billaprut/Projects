{
 "cells": [
  {
   "cell_type": "markdown",
   "metadata": {
    "id": "5S649BJJQgWN"
   },
   "source": [
    "# Convolutional Neural Network\n",
    "\n",
    "Build a convolutional neural network with TensorFlow.\n",
    "\n",
    "This example is using TensorFlow layers API, see 'convolutional_network_raw' example\n",
    "for a raw TensorFlow implementation with variables.\n",
    "\n"
   ]
  },
  {
   "cell_type": "markdown",
   "metadata": {
    "id": "rEtb8QDzQgWT"
   },
   "source": [
    "## CNN Overview\n",
    "\n",
    "![CNN](http://personal.ie.cuhk.edu.hk/~ccloy/project_target_code/images/fig3.png)\n",
    "\n",
    "## MNIST Dataset Overview\n",
    "\n",
    "This example is using MNIST handwritten digits. The dataset contains 60,000 examples for training and 10,000 examples for testing. The digits have been size-normalized and centered in a fixed-size image (28x28 pixels) with values from 0 to 1. For simplicity, each image has been flattened and converted to a 1-D numpy array of 784 features (28*28).\n",
    "\n",
    "![MNIST Dataset](http://neuralnetworksanddeeplearning.com/images/mnist_100_digits.png)\n",
    "\n",
    "More info: http://yann.lecun.com/exdb/mnist/"
   ]
  },
  {
   "cell_type": "markdown",
   "metadata": {
    "id": "GyGigtEvQgWV"
   },
   "source": [
    "The first step is to import the classes and functions needed"
   ]
  },
  {
   "cell_type": "code",
   "execution_count": 39,
   "metadata": {
    "id": "RrkLi8ZRQgWY"
   },
   "outputs": [],
   "source": [
    "from tensorflow.keras.datasets import mnist\n",
    "from tensorflow.keras.models import Sequential\n",
    "from tensorflow.keras.layers import Dense\n",
    "from tensorflow.keras.layers import Dropout\n",
    "from tensorflow.keras.layers import Flatten\n",
    "from tensorflow.keras.layers import Conv2D\n",
    "from tensorflow.keras.layers import MaxPooling2D\n",
    "from tensorflow.keras.utils import to_categorical\n",
    "\n",
    "import numpy\n",
    "import matplotlib.pyplot as plt"
   ]
  },
  {
   "cell_type": "markdown",
   "metadata": {
    "id": "OyOBmmaBQgWc"
   },
   "source": [
    "Then we initialize the random number generator to a constant seed value for reproducibility of results."
   ]
  },
  {
   "cell_type": "code",
   "execution_count": 40,
   "metadata": {
    "id": "1YWQdnrKQgWd"
   },
   "outputs": [],
   "source": [
    "# fix random seed for reproducibility\n",
    "seed = 7\n",
    "numpy.random.seed(seed)"
   ]
  },
  {
   "cell_type": "markdown",
   "metadata": {
    "id": "fxmMKen8QgWg"
   },
   "source": [
    "## Load the data\n",
    "Next we need to load the MNIST dataset and reshape it so that it is suitable for use training a CNN. In Keras, the layers used for two-dimensional convolutions expect pixel values with the dimensions [pixels][width][height].\n",
    "\n",
    "In the case of RGB, the first dimension pixels would be 3 for the red, green and blue components and it would be like having 3 image inputs for every color image. In the case of MNIST where the pixel values are gray scale, the pixel dimension is set to 1."
   ]
  },
  {
   "cell_type": "code",
   "execution_count": 41,
   "metadata": {
    "id": "4YhXhDWlQgWh"
   },
   "outputs": [],
   "source": [
    "# load data\n",
    "(X_train, y_train), (X_test, y_test) = mnist.load_data()\n",
    "# reshape to be [samples][width][height][channels]\n",
    "X_train = X_train.reshape(X_train.shape[0], 28, 28, 1).astype('float32')\n",
    "X_test = X_test.reshape(X_test.shape[0], 28, 28, 1).astype('float32')"
   ]
  },
  {
   "cell_type": "markdown",
   "metadata": {
    "id": "6osjFpXyQgWj"
   },
   "source": [
    "Then we normalize the pixel values to the range 0 and 1 and one hot encode the output variables."
   ]
  },
  {
   "cell_type": "code",
   "execution_count": 42,
   "metadata": {
    "id": "_zBG24odQgWk"
   },
   "outputs": [],
   "source": [
    "# normalize inputs from 0-255 to 0-1\n",
    "X_train = X_train / 255\n",
    "X_test = X_test / 255\n",
    "# one hot encode outputs\n",
    "y_train = to_categorical(y_train)\n",
    "y_test = to_categorical(y_test)\n",
    "num_classes = y_test.shape[1]"
   ]
  },
  {
   "cell_type": "markdown",
   "metadata": {
    "id": "1mXjqf1NQgWn"
   },
   "source": [
    "## Define the network architecture.\n",
    "\n",
    "1. The first hidden layer is a convolutional layer called a Convolution2D. The layer has 32 feature maps, which with the size of 5×5 and a rectifier activation function. This is the input layer, expecting images with the structure outline above [pixels][width][height].\n",
    "2. Next we define a pooling layer that takes the max called MaxPooling2D. It is configured with a pool size of 2×2.\n",
    "3. The next layer is a regularization layer using dropout called Dropout. It is configured to randomly exclude 20% of neurons in the layer in order to reduce overfitting.\n",
    "4. Next is a layer that converts the 2D matrix data to a vector called Flatten. It allows the output to be processed by standard fully connected layers.\n",
    "5. Next a fully connected layer with 128 neurons and rectifier activation function.\n",
    "6. Finally, the output layer has 10 neurons for the 10 classes and a softmax activation function to output probability-like predictions for each class.\n",
    "\n",
    "# Compile the model\n",
    "The model is trained using logarithmic loss and the ADAM gradient descent algorithm."
   ]
  },
  {
   "cell_type": "code",
   "execution_count": 43,
   "metadata": {
    "id": "Y6zTEc6TQgWo"
   },
   "outputs": [],
   "source": [
    "def baseline_model():\n",
    "\t# create model\n",
    "\tmodel = Sequential()\n",
    "\tmodel.add(Conv2D(32, (5, 5), input_shape=(28, 28, 1), activation='relu'))\n",
    "\tmodel.add(MaxPooling2D(pool_size=(2, 2)))\n",
    "\tmodel.add(Dropout(0.2))\n",
    "\tmodel.add(Flatten())\n",
    "\tmodel.add(Dense(128, activation='relu'))\n",
    "\tmodel.add(Dense(num_classes, activation='softmax'))\n",
    "\t# Compile model\n",
    "\tmodel.compile(loss='categorical_crossentropy', optimizer='adam', metrics=['accuracy'])\n",
    "\treturn model"
   ]
  },
  {
   "cell_type": "markdown",
   "metadata": {
    "id": "4X85NGMBQgWr"
   },
   "source": [
    "## Fit the model\n",
    "Running the example, the accuracy on the training and validation test is printed each epoch and at the end of the classification error rate is printed."
   ]
  },
  {
   "cell_type": "code",
   "execution_count": 44,
   "metadata": {
    "colab": {
     "base_uri": "https://localhost:8080/"
    },
    "id": "bjwjRkvtQgWs",
    "outputId": "b74f5297-7ce4-437f-da92-17054ac68d63"
   },
   "outputs": [
    {
     "name": "stdout",
     "output_type": "stream",
     "text": [
      "Epoch 1/10\n",
      "300/300 - 3s - loss: 0.2391 - accuracy: 0.9319 - val_loss: 0.0681 - val_accuracy: 0.9802 - 3s/epoch - 9ms/step\n",
      "Epoch 2/10\n",
      "300/300 - 1s - loss: 0.0696 - accuracy: 0.9793 - val_loss: 0.0483 - val_accuracy: 0.9846 - 1s/epoch - 4ms/step\n",
      "Epoch 3/10\n",
      "300/300 - 1s - loss: 0.0498 - accuracy: 0.9849 - val_loss: 0.0395 - val_accuracy: 0.9872 - 1s/epoch - 4ms/step\n",
      "Epoch 4/10\n",
      "300/300 - 1s - loss: 0.0396 - accuracy: 0.9879 - val_loss: 0.0369 - val_accuracy: 0.9881 - 1s/epoch - 4ms/step\n",
      "Epoch 5/10\n",
      "300/300 - 1s - loss: 0.0320 - accuracy: 0.9893 - val_loss: 0.0391 - val_accuracy: 0.9867 - 1s/epoch - 4ms/step\n",
      "Epoch 6/10\n",
      "300/300 - 1s - loss: 0.0261 - accuracy: 0.9920 - val_loss: 0.0366 - val_accuracy: 0.9868 - 1s/epoch - 4ms/step\n",
      "Epoch 7/10\n",
      "300/300 - 1s - loss: 0.0226 - accuracy: 0.9928 - val_loss: 0.0332 - val_accuracy: 0.9891 - 1s/epoch - 4ms/step\n",
      "Epoch 8/10\n",
      "300/300 - 1s - loss: 0.0193 - accuracy: 0.9937 - val_loss: 0.0400 - val_accuracy: 0.9867 - 1s/epoch - 4ms/step\n",
      "Epoch 9/10\n",
      "300/300 - 2s - loss: 0.0165 - accuracy: 0.9946 - val_loss: 0.0307 - val_accuracy: 0.9899 - 2s/epoch - 5ms/step\n",
      "Epoch 10/10\n",
      "300/300 - 1s - loss: 0.0137 - accuracy: 0.9958 - val_loss: 0.0341 - val_accuracy: 0.9885 - 1s/epoch - 4ms/step\n",
      "CNN Error: 1.15%\n"
     ]
    }
   ],
   "source": [
    "# build the model\n",
    "model = baseline_model()\n",
    "# Fit the model\n",
    "model.fit(X_train, y_train, validation_data=(X_test, y_test), epochs=10, batch_size=200, verbose=2)\n",
    "# Final evaluation of the model\n",
    "scores = model.evaluate(X_test, y_test, verbose=0)\n",
    "print(\"CNN Error: %.2f%%\" % (100-scores[1]*100))"
   ]
  },
  {
   "cell_type": "code",
   "execution_count": 45,
   "metadata": {
    "colab": {
     "base_uri": "https://localhost:8080/"
    },
    "id": "ONFgYL6sQgWu",
    "outputId": "af78cc65-398f-4119-c844-57b016180799"
   },
   "outputs": [
    {
     "name": "stdout",
     "output_type": "stream",
     "text": [
      "313/313 [==============================] - 1s 2ms/step\n"
     ]
    }
   ],
   "source": [
    "predictions = model.predict(X_test)"
   ]
  },
  {
   "cell_type": "code",
   "execution_count": 109,
   "metadata": {
    "id": "qpP6T0m8QgWx"
   },
   "outputs": [],
   "source": [
    "def plot_image(i, predictions_array, true_label, img):\n",
    "  predictions_array, true_label, img = predictions_array[i], true_label[i], img[i]\n",
    "  plt.grid(False)\n",
    "  plt.xticks([])\n",
    "  plt.yticks([])\n",
    "\n",
    "  plt.imshow(img, cmap=plt.cm.binary)\n",
    "\n",
    "  predicted_label = numpy.argmax(predictions_array)\n",
    "  if predicted_label == true_label:\n",
    "    color = 'blue'\n",
    "  else:\n",
    "    color = 'red'\n",
    "\n",
    "  plt.xlabel(\"{} {:2.0f}% ({})\".format(class_names[predicted_label],\n",
    "                                100*numpy.max(predictions_array),\n",
    "                                class_names[true_label]),\n",
    "                                color=color)\n",
    "\n",
    "def plot_value_array(i, predictions_array, true_label):\n",
    "  predictions_array, true_label = predictions_array[i], true_label[i]\n",
    "  plt.grid(False)\n",
    "  plt.xticks(range(10))\n",
    "  plt.yticks(np.arange(0, 1.1, 0.1))\n",
    "  thisplot = plt.bar(range(10), predictions_array, color=\"#777777\")\n",
    "  plt.ylim([0, 1])\n",
    "  predicted_label = numpy.argmax(predictions_array)\n",
    "\n",
    "  thisplot[predicted_label].set_color('red')\n",
    "  thisplot[true_label].set_color('blue')"
   ]
  },
  {
   "cell_type": "code",
   "execution_count": 110,
   "metadata": {
    "id": "XJt_6TeTQgW0"
   },
   "outputs": [],
   "source": [
    "(X_train, y_train), (X_test, y_test) = mnist.load_data()\n",
    "class_names = [0, 1, 2, 3, 4, 5, 6, 7, 8, 9]"
   ]
  },
  {
   "cell_type": "code",
   "execution_count": 111,
   "metadata": {
    "colab": {
     "base_uri": "https://localhost:8080/",
     "height": 767
    },
    "id": "MHJtNrO5QgW3",
    "outputId": "315b70d9-fdf4-4c36-e8db-8c88351f070f"
   },
   "outputs": [
    {
     "data": {
      "image/png": "[encoded data removed]",
      "text/plain": [
       "<Figure size 600x300 with 1 Axes>"
      ]
     },
     "metadata": {},
     "output_type": "display_data"
    },
    {
     "data": {
      "image/png": "[encoded data removed]",
      "text/plain": [
       "<Figure size 600x300 with 1 Axes>"
      ]
     },
     "metadata": {},
     "output_type": "display_data"
    },
    {
     "data": {
      "image/png": "[encoded data removed]",
      "text/plain": [
       "<Figure size 600x300 with 1 Axes>"
      ]
     },
     "metadata": {},
     "output_type": "display_data"
    }
   ],
   "source": [
    "list = [0,18, 1460]\n",
    "for i in list:\n",
    "    plt.figure(figsize=(6,3))\n",
    "    plt.subplot(1,2,1)\n",
    "    plot_image(i, predictions, y_test, X_test)"
   ]
  },
  {
   "cell_type": "code",
   "execution_count": 112,
   "metadata": {
    "colab": {
     "base_uri": "https://localhost:8080/",
     "height": 1000
    },
    "id": "uKfccECQQgW6",
    "outputId": "592ed674-a288-4796-c262-e578833e8238"
   },
   "outputs": [
    {
     "data": {
      "image/png": "[encoded data removed]",
      "text/plain": [
       "<Figure size 600x300 with 1 Axes>"
      ]
     },
     "metadata": {},
     "output_type": "display_data"
    },
    {
     "data": {
      "image/png": "[encoded data removed]",
      "text/plain": [
       "<Figure size 600x300 with 1 Axes>"
      ]
     },
     "metadata": {},
     "output_type": "display_data"
    },
    {
     "data": {
      "image/png": "[encoded data removed]",
      "text/plain": [
       "<Figure size 600x300 with 1 Axes>"
      ]
     },
     "metadata": {},
     "output_type": "display_data"
    },
    {
     "data": {
      "image/png": "[encoded data removed]",
      "text/plain": [
       "<Figure size 600x300 with 1 Axes>"
      ]
     },
     "metadata": {},
     "output_type": "display_data"
    },
    {
     "data": {
      "image/png": "[encoded data removed]",
      "text/plain": [
       "<Figure size 600x300 with 1 Axes>"
      ]
     },
     "metadata": {},
     "output_type": "display_data"
    },
    {
     "data": {
      "image/png": "[encoded data removed]",
      "text/plain": [
       "<Figure size 600x300 with 1 Axes>"
      ]
     },
     "metadata": {},
     "output_type": "display_data"
    },
    {
     "data": {
      "image/png": "[encoded data removed]",
      "text/plain": [
       "<Figure size 600x300 with 1 Axes>"
      ]
     },
     "metadata": {},
     "output_type": "display_data"
    },
    {
     "data": {
      "image/png": "[encoded data removed]",
      "text/plain": [
       "<Figure size 600x300 with 1 Axes>"
      ]
     },
     "metadata": {},
     "output_type": "display_data"
    },
    {
     "data": {
      "image/png": "[encoded data removed]",
      "text/plain": [
       "<Figure size 600x300 with 1 Axes>"
      ]
     },
     "metadata": {},
     "output_type": "display_data"
    }
   ],
   "source": [
    "def plot_wrong(i, predictions_array, true_label, img):\n",
    "    predictions_array, true_label, img = predictions_array[i], true_label[i], img[i]\n",
    "\n",
    "    predicted_label = numpy.argmax(predictions_array)\n",
    "    if predicted_label == true_label:\n",
    "        pass\n",
    "    else:\n",
    "        plt.figure(figsize=(6,3))\n",
    "        plt.subplot(1,2,1)\n",
    "        plot_image(i, predictions, y_test, X_test)\n",
    "\n",
    "for i in range(1000):\n",
    "    plot_wrong(i, predictions, y_test, X_test)"
   ]
  },
  {
   "cell_type": "code",
   "execution_count": 50,
   "metadata": {
    "id": "347blP-sQgW9"
   },
   "outputs": [],
   "source": [
    "# Credit to Jason Brownlee\n",
    "# https://machinelearningmastery.com/handwritten-digit-recognition-using-convolutional-neural-networks-python-keras/"
   ]
  },
  {
   "cell_type": "markdown",
   "metadata": {
    "id": "JeyKTfrMuhgU"
   },
   "source": [
    "Find the image with the smallest maximum probability."
   ]
  },
  {
   "cell_type": "code",
   "execution_count": 113,
   "metadata": {
    "colab": {
     "base_uri": "https://localhost:8080/",
     "height": 369
    },
    "id": "r8c_73jBn08w",
    "outputId": "3166d812-90ad-413c-8664-72d800823272"
   },
   "outputs": [
    {
     "name": "stdout",
     "output_type": "stream",
     "text": [
      "Index of image with smallest maximum probability: 9679\n"
     ]
    },
    {
     "data": {
      "image/png": "[encoded data removed]",
      "text/plain": [
       "<Figure size 600x300 with 2 Axes>"
      ]
     },
     "metadata": {},
     "output_type": "display_data"
    },
    {
     "name": "stdout",
     "output_type": "stream",
     "text": [
      "The ten predicted probabilities are:[6.7443773e-02 1.2389170e-02 1.7902151e-01 2.7787828e-01 1.1503381e-01\n",
      " 1.0200549e-02 3.3800638e-01 7.2199637e-06 1.6353246e-05 2.9132923e-06]\n"
     ]
    }
   ],
   "source": [
    "import numpy as np\n",
    "\n",
    "def find_image_smallest_max_prob(predictions):\n",
    "    max_probs = np.max(predictions, axis=1)\n",
    "    return np.argmin(max_probs)\n",
    "\n",
    "index_smallest_max_prob = find_image_smallest_max_prob(predictions)\n",
    "print(\"Index of image with smallest maximum probability:\", index_smallest_max_prob)\n",
    "\n",
    "plt.figure(figsize=(6,3))\n",
    "plt.subplot(1,2,1)\n",
    "plot_image(index_smallest_max_prob, predictions, y_test, X_test)\n",
    "plt.subplot(1,2,2)\n",
    "plot_value_array(index_smallest_max_prob, predictions, y_test)\n",
    "plt.show()\n",
    "print(f'The ten predicted probabilities are:{predictions[index_smallest_max_prob]}')\n",
    "\n"
   ]
  },
  {
   "cell_type": "markdown",
   "metadata": {
    "id": "uiYaAQGjui9p"
   },
   "source": [
    "Find the image with the largest \"second-highest\" probability.  "
   ]
  },
  {
   "cell_type": "code",
   "execution_count": 114,
   "metadata": {
    "colab": {
     "base_uri": "https://localhost:8080/",
     "height": 369
    },
    "id": "EtmTrZUBn05u",
    "outputId": "a58c9fba-ae99-4a66-e6e9-d62d27c58298"
   },
   "outputs": [
    {
     "name": "stdout",
     "output_type": "stream",
     "text": [
      "Index of image with largest second-highest probability: 9019\n"
     ]
    },
    {
     "data": {
      "image/png": "[encoded data removed]",
      "text/plain": [
       "<Figure size 600x300 with 2 Axes>"
      ]
     },
     "metadata": {},
     "output_type": "display_data"
    },
    {
     "name": "stdout",
     "output_type": "stream",
     "text": [
      "The ten predicted probabilities are:[2.4505462e-10 4.9521550e-05 5.0882554e-01 5.8283267e-06 2.6064706e-09\n",
      " 5.6211480e-10 7.7802178e-14 4.9111629e-01 2.8392431e-06 6.7063568e-09]\n"
     ]
    }
   ],
   "source": [
    "def find_image_largest_second_highest_prob(predictions):\n",
    "    top2_probs = np.partition(predictions, -2)[:, -2]\n",
    "    return np.argmax(top2_probs)\n",
    "\n",
    "index_largest_second_highest_prob = find_image_largest_second_highest_prob(predictions)\n",
    "print(\"Index of image with largest second-highest probability:\", index_largest_second_highest_prob)\n",
    "\n",
    "plt.figure(figsize=(6,3))\n",
    "plt.subplot(1,2,1)\n",
    "plot_image(index_largest_second_highest_prob, predictions, y_test, X_test)\n",
    "plt.subplot(1,2,2)\n",
    "plot_value_array(index_largest_second_highest_prob, predictions, y_test)\n",
    "plt.show()\n",
    "print(f'The ten predicted probabilities are:{predictions[index_largest_second_highest_prob]}')\n",
    "\n"
   ]
  },
  {
   "cell_type": "markdown",
   "metadata": {
    "id": "EryNr2eyunm2"
   },
   "source": [
    "Find the image that causes the largest cross-entropy loss\n"
   ]
  },
  {
   "cell_type": "code",
   "execution_count": 116,
   "metadata": {
    "colab": {
     "base_uri": "https://localhost:8080/",
     "height": 369
    },
    "id": "fT5n9PZKn0xD",
    "outputId": "bbc9db77-7e5b-419c-bf41-f8698c6175a3"
   },
   "outputs": [
    {
     "name": "stdout",
     "output_type": "stream",
     "text": [
      "Index of image with largest cross-entropy loss: 2654\n"
     ]
    },
    {
     "data": {
      "image/png": "[encoded data removed]",
      "text/plain": [
       "<Figure size 600x300 with 2 Axes>"
      ]
     },
     "metadata": {},
     "output_type": "display_data"
    },
    {
     "name": "stdout",
     "output_type": "stream",
     "text": [
      "The ten predicted probabilities are:[2.4505462e-10 4.9521550e-05 5.0882554e-01 5.8283267e-06 2.6064706e-09\n",
      " 5.6211480e-10 7.7802178e-14 4.9111629e-01 2.8392431e-06 6.7063568e-09]\n"
     ]
    }
   ],
   "source": [
    "def find_image_largest_cross_entropy_loss(predictions, true_labels):\n",
    "    # Convert true_labels to one-hot encoding\n",
    "    true_labels_one_hot = np.eye(predictions.shape[1])[true_labels]\n",
    "\n",
    "    # Calculate cross-entropy losses\n",
    "    cross_entropy_losses = -np.sum(true_labels_one_hot * np.log(predictions + 1e-10), axis=1)\n",
    "\n",
    "    # Find the index of the image with the largest cross-entropy loss\n",
    "    return np.argmax(cross_entropy_losses)\n",
    "\n",
    "index_largest_cross_entropy_loss = find_image_largest_cross_entropy_loss(predictions, y_test)\n",
    "print(\"Index of image with largest cross-entropy loss:\", index_largest_cross_entropy_loss)\n",
    "\n",
    "plt.figure(figsize=(6,3))\n",
    "plt.subplot(1,2,1)\n",
    "plot_image(index_largest_cross_entropy_loss, predictions, y_test, X_test)\n",
    "plt.subplot(1,2,2)\n",
    "plot_value_array(index_largest_cross_entropy_loss, predictions, y_test)\n",
    "plt.show()\n",
    "\n",
    "predictions[index_largest_cross_entropy_loss]\n",
    "print(f'The ten predicted probabilities are:{predictions[index_largest_second_highest_prob]}')\n",
    "\n"
   ]
  },
  {
   "cell_type": "markdown",
   "metadata": {
    "id": "XtvR5hPzynGu"
   },
   "source": [
    "Create a random integer in the range of 0 to N, where N is the number of images in the training set.  Grab the image at that index and save it as a .png file.  (Will update this question with an appropriate Python library for this part.)"
   ]
  },
  {
   "cell_type": "code",
   "execution_count": 118,
   "metadata": {
    "colab": {
     "base_uri": "https://localhost:8080/"
    },
    "id": "mkvs7IeUn0hP",
    "outputId": "c8ba5ce9-c5a1-4f84-b94d-4c418da11ec7"
   },
   "outputs": [
    {
     "name": "stdout",
     "output_type": "stream",
     "text": [
      "Saved random image at index 17393 to random_image_17393.png\n"
     ]
    }
   ],
   "source": [
    "import random\n",
    "\n",
    "# Assuming 'X_train' contains your training images (numpy array or list of images)\n",
    "# and 'N' is the number of training images\n",
    "N = len(X_train)\n",
    "\n",
    "# Generate a random integer in the range [0, N)\n",
    "random_index = random.randint(0, N - 1)\n",
    "\n",
    "# Get the image at the random index\n",
    "random_image = X_train[random_index]  # Adjust this according to your data structure\n",
    "\n",
    "# Create a Matplotlib figure and axis\n",
    "fig, ax = plt.subplots()\n",
    "\n",
    "# Display the image\n",
    "ax.imshow(random_image, cmap='gray')  # Adjust the cmap according to your image data\n",
    "\n",
    "# Remove the axis labels and ticks\n",
    "ax.axis('off')\n",
    "\n",
    "# Save the image as a .png file\n",
    "output_file_path = f\"random_image_{random_index}.png\"\n",
    "plt.savefig(output_file_path, bbox_inches='tight', pad_inches=0, format='png')\n",
    "\n",
    "print(f\"Saved random image at index {random_index} to {output_file_path}\")\n",
    "\n",
    "# Close the Matplotlib figure to release resources\n",
    "plt.close(fig)\n"
   ]
  },
  {
   "cell_type": "markdown",
   "metadata": {
    "id": "EBqjcYr-bUHl"
   },
   "source": [
    "Create a hand-written digit and upload the file to either Google Drive or your Google Colab workspace.  Read the file into your Google Colab notebook and classify it (run it through the model)."
   ]
  },
  {
   "cell_type": "code",
   "execution_count": 119,
   "metadata": {
    "colab": {
     "base_uri": "https://localhost:8080/",
     "height": 447
    },
    "id": "yKCtZFeyv_hv",
    "outputId": "1556e999-0e9b-42f1-93cd-91bc3b0c62cb"
   },
   "outputs": [
    {
     "data": {
      "text/plain": [
       "<matplotlib.image.AxesImage at 0x791e0bf186d0>"
      ]
     },
     "execution_count": 119,
     "metadata": {},
     "output_type": "execute_result"
    },
    {
     "data": {
      "image/png": "[encoded data removed]",
      "text/plain": [
       "<Figure size 640x480 with 1 Axes>"
      ]
     },
     "metadata": {},
     "output_type": "display_data"
    }
   ],
   "source": [
    "from PIL import Image\n",
    "import numpy as np\n",
    "image = Image.open(\"blank_140px_x_140px.png\")\n",
    "img = image.resize((28,28))\n",
    "plt.imshow(img)"
   ]
  },
  {
   "cell_type": "code",
   "execution_count": 120,
   "metadata": {
    "colab": {
     "base_uri": "https://localhost:8080/",
     "height": 465
    },
    "id": "icWFTi9a1GoF",
    "outputId": "3f12235e-b2a8-462c-ba9f-08bbeab47fee"
   },
   "outputs": [
    {
     "name": "stdout",
     "output_type": "stream",
     "text": [
      "1/1 [==============================] - 0s 18ms/step\n"
     ]
    },
    {
     "data": {
      "text/plain": [
       "8"
      ]
     },
     "execution_count": 120,
     "metadata": {},
     "output_type": "execute_result"
    },
    {
     "data": {
      "image/png": "[encoded data removed]",
      "text/plain": [
       "<Figure size 640x480 with 1 Axes>"
      ]
     },
     "metadata": {},
     "output_type": "display_data"
    }
   ],
   "source": [
    "img = np.resize(img, (28,28,1)).astype('float32')\n",
    "im2arr = np.array(img)\n",
    "im2arr = im2arr/255\n",
    "im2arr = im2arr.reshape(1,28,28,1)\n",
    "one_prediction = model.predict(im2arr)\n",
    "one_prediction\n",
    "\n",
    "plt.bar(range(10), one_prediction[0])\n",
    "predict_label = numpy.argmax(one_prediction)\n",
    "predict_label"
   ]
  },
  {
   "cell_type": "code",
   "execution_count": 121,
   "metadata": {
    "colab": {
     "base_uri": "https://localhost:8080/",
     "height": 287
    },
    "id": "e4-4jeJkGhIg",
    "outputId": "0bbbb72a-a0c5-43cd-e507-0f7d509a7e60"
   },
   "outputs": [
    {
     "data": {
      "image/png": "[encoded data removed]",
      "text/plain": [
       "<Figure size 600x300 with 1 Axes>"
      ]
     },
     "metadata": {},
     "output_type": "display_data"
    }
   ],
   "source": [
    "def plot_handwritten_image(predictions_array, true_label, img):\n",
    "    plt.grid(False)\n",
    "    plt.xticks([])\n",
    "    plt.yticks([])\n",
    "\n",
    "    plt.imshow(img, cmap=plt.cm.binary)\n",
    "\n",
    "    predicted_label = np.argmax(predictions_array)\n",
    "    if predicted_label == true_label:\n",
    "        color = 'blue'\n",
    "    else:\n",
    "        color = 'red'\n",
    "\n",
    "    plt.xlabel(\"{} {:2.0f}% ({})\".format(class_names[predicted_label],\n",
    "                                    100*np.max(predictions_array),\n",
    "                                    class_names[true_label]),\n",
    "                                    color=color)\n",
    "predict_label = numpy.argmax(one_prediction)\n",
    "plt.figure(figsize=(6,3))\n",
    "plot_handwritten_image(one_prediction, 8, image)"
   ]
  }
 ],
 "metadata": {
  "accelerator": "GPU",
  "colab": {
   "provenance": []
  },
  "gpuClass": "standard",
  "kernelspec": {
   "display_name": "Python 3 (ipykernel)",
   "language": "python",
   "name": "python3"
  },
  "language_info": {
   "codemirror_mode": {
    "name": "ipython",
    "version": 3
   },
   "file_extension": ".py",
   "mimetype": "text/x-python",
   "name": "python",
   "nbconvert_exporter": "python",
   "pygments_lexer": "ipython3",
   "version": "3.11.4"
  }
 },
 "nbformat": 4,
 "nbformat_minor": 4
}
