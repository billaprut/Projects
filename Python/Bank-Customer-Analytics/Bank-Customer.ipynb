{
 "cells": [
  {
   "cell_type": "markdown",
   "id": "e2c97aee-6f25-4dca-8d7d-c5f1e5d21f23",
   "metadata": {},
   "source": [
    "Name: Pruthvi Shyam Billa"
   ]
  },
  {
   "cell_type": "markdown",
   "id": "c9cc6924-aba6-4e91-a056-a7bf92051bd5",
   "metadata": {},
   "source": [
    "Course: BUDT704"
   ]
  },
  {
   "cell_type": "markdown",
   "id": "b64d83ff-4459-4ecd-b1c8-25bd40d77d7e",
   "metadata": {},
   "source": [
    "Section: 501"
   ]
  },
  {
   "cell_type": "markdown",
   "id": "25143353-9dbb-460f-b03a-2904847af832",
   "metadata": {},
   "source": [
    "Date: 10/07/22"
   ]
  },
  {
   "cell_type": "markdown",
   "id": "cc37f138-d8b1-466c-af75-d7fd39edaca6",
   "metadata": {
    "tags": []
   },
   "source": [
    "# Bank Customer Analysis"
   ]
  },
  {
   "cell_type": "markdown",
   "id": "e22bf592-2371-48db-994f-2e2fd52ddb41",
   "metadata": {
    "tags": []
   },
   "source": [
    "The Terp Savings & Loan bank in College Park wishes to understand its customers. As a data analyst in the credit department, gaining insights from the data exported from TerpCRM will help business management to take necessary actions to develop customer relationships."
   ]
  },
  {
   "cell_type": "code",
   "execution_count": 1,
   "id": "1a7e3125-ceef-4a50-8b8b-ea3a8da0e682",
   "metadata": {
    "tags": []
   },
   "outputs": [],
   "source": [
    "# Load the libraries required for the data analysis\n",
    "\n",
    "import numpy as np\n",
    "import matplotlib.pyplot as plt\n",
    "import seaborn as sns"
   ]
  },
  {
   "cell_type": "markdown",
   "id": "5643921e-05ce-4f9c-a022-036d9bba9080",
   "metadata": {
    "tags": []
   },
   "source": [
    "### 1. Credit Limit and Total Revolving Balance on the credit card\n",
    "\n",
    "We will first load the entire dataset exported from TerpCRM:"
   ]
  },
  {
   "cell_type": "code",
   "execution_count": 2,
   "id": "09001a74-d557-4edb-b5f2-9cd0dae53a62",
   "metadata": {},
   "outputs": [
    {
     "name": "stdout",
     "output_type": "stream",
     "text": [
      "[['768805383' 'Existing Customer' '45' ... '42' '1.625' '0.061']\n",
      " ['818770008' 'Existing Customer' '49' ... '33' '3.714' '0.105']\n",
      " ['713982108' 'Existing Customer' '51' ... '20' '2.333' '0']\n",
      " ...\n",
      " ['716506083' 'Attrited Customer' '44' ... '60' '0.818' '0']\n",
      " ['717406983' 'Attrited Customer' '30' ... '62' '0.722' '0']\n",
      " ['714337233' 'Attrited Customer' '43' ... '61' '0.649' '0.189']]\n"
     ]
    }
   ],
   "source": [
    "# Load the dataset exported from TerpCRM\n",
    "\n",
    "imported_dataset = np.loadtxt(r'HW3-credit-card-consumers.csv', skiprows=1, dtype=str, delimiter=',')\n",
    "print(imported_dataset)"
   ]
  },
  {
   "cell_type": "markdown",
   "id": "de2b4422-b37c-4e50-bca6-974fd4bb7cc9",
   "metadata": {},
   "source": [
    "Now let us load credit limit and total revolving balance variables of consumers and then perform some calculations:"
   ]
  },
  {
   "cell_type": "code",
   "execution_count": 3,
   "id": "f1c659d6-901d-4da1-9055-7fc81aed2418",
   "metadata": {
    "tags": []
   },
   "outputs": [
    {
     "name": "stdout",
     "output_type": "stream",
     "text": [
      "The first 5 values for credit limit variable in dollars: [12691.  8256.  3418.  3313.  4716.]\n",
      "The first 5 values for total revolving balance variable in dollars: [ 777  864    0 2517    0]\n"
     ]
    }
   ],
   "source": [
    "# Load the variables\n",
    "\n",
    "credit_limit = imported_dataset[:,13].astype(float)\n",
    "total_revolving_bal = imported_dataset[:,14].astype(int)\n",
    "\n",
    "# Print the first 5 values of each variable, display output\n",
    "\n",
    "print(f'The first 5 values for credit limit variable in dollars: {credit_limit[0:5]}')\n",
    "print(f'The first 5 values for total revolving balance variable in dollars: {total_revolving_bal[0:5]}')"
   ]
  },
  {
   "cell_type": "code",
   "execution_count": 4,
   "id": "8dd2e464-a1ed-463c-948d-84aa34eaced7",
   "metadata": {},
   "outputs": [
    {
     "name": "stdout",
     "output_type": "stream",
     "text": [
      "Total number of customers in the bank: 10127\n"
     ]
    }
   ],
   "source": [
    "# Determine total number of customers in the bank\n",
    "\n",
    "# Load variable having total count of client ID number column\n",
    "total_customer_number = len(imported_dataset[:,1])\n",
    "\n",
    "# Display output\n",
    "\n",
    "print(f'Total number of customers in the bank: {total_customer_number}' )"
   ]
  },
  {
   "cell_type": "code",
   "execution_count": 5,
   "id": "4d513467-5ca1-4728-a723-001fd0f5df66",
   "metadata": {},
   "outputs": [
    {
     "name": "stdout",
     "output_type": "stream",
     "text": [
      "Range of credit limits offered by the bank is from $1438.3 to $34516.0\n"
     ]
    }
   ],
   "source": [
    "# Determine range of credit limits offered by the bank\n",
    "\n",
    "minimum_credit_limit = credit_limit.min()\n",
    "maximum_credit_limit = credit_limit.max()\n",
    "\n",
    "# Display output\n",
    "\n",
    "print(f'Range of credit limits offered by the bank is from ${minimum_credit_limit} to ${maximum_credit_limit}')"
   ]
  },
  {
   "cell_type": "code",
   "execution_count": 6,
   "id": "ed88166c-93f8-4918-8fa1-f6f85303a908",
   "metadata": {},
   "outputs": [
    {
     "name": "stdout",
     "output_type": "stream",
     "text": [
      "Total credit available for all customers in the bank: $87415795.1\n"
     ]
    }
   ],
   "source": [
    "# Determine total credit available in the bank for all customers\n",
    "\n",
    "total_credit_limit = credit_limit.sum()\n",
    "\n",
    "# Display output\n",
    "\n",
    "print(f'Total credit available for all customers in the bank: ${total_credit_limit}')"
   ]
  },
  {
   "cell_type": "code",
   "execution_count": 7,
   "id": "0f9ab7b2-aba5-4fa0-89eb-22fc5a05055d",
   "metadata": {},
   "outputs": [
    {
     "name": "stdout",
     "output_type": "stream",
     "text": [
      "Percentage of customers having revolving balance less than average revolving balance is: 44.65%\n"
     ]
    }
   ],
   "source": [
    "# Determine percentage of customers having revolving balance less than average revolving balance\n",
    "\n",
    "\n",
    "average_revolving_balance = total_revolving_bal.mean()\n",
    "temp_array = total_revolving_bal[total_revolving_bal < average_revolving_balance]\n",
    "rev_percentage_value = ( len(temp_array) / len(total_revolving_bal) ) * 100\n",
    "\n",
    "# Display output\n",
    "\n",
    "print(f'Percentage of customers having revolving balance less than average revolving balance is: {rev_percentage_value:0.2f}%')"
   ]
  },
  {
   "cell_type": "code",
   "execution_count": 8,
   "id": "48f6df9b-f5c6-402f-a3e2-0a768f802f69",
   "metadata": {},
   "outputs": [
    {
     "name": "stdout",
     "output_type": "stream",
     "text": [
      "The bank need not worry about obtaining credit card insurance since only 6.59% of customers have a credit limit above $30000\n"
     ]
    }
   ],
   "source": [
    "# Determine if credit card insurance is to be obtained by the bank\n",
    "\n",
    "credit_insurance_array = credit_limit[credit_limit > 30000]\n",
    "credit_percentage_value = ( len(credit_insurance_array) / len(credit_limit) ) * 100\n",
    "\n",
    "# Display output\n",
    "\n",
    "print(f'The bank need not worry about obtaining credit card insurance since only {credit_percentage_value:0.2f}% of customers \\\n",
    "have a credit limit above $30000')"
   ]
  },
  {
   "cell_type": "markdown",
   "id": "0d9d2188-f4ea-4513-a89b-97357668d06d",
   "metadata": {},
   "source": [
    "Since the pecentage of customers having credit limit above $30K is less than the threshold value of 10%, the bank need not worry."
   ]
  },
  {
   "cell_type": "markdown",
   "id": "eb1c2dbc-602d-413c-b409-9605930782b0",
   "metadata": {
    "tags": []
   },
   "source": [
    "### 2. Education Levels of the customers\n",
    "\n",
    "Let's do data visualization using a bar chart to make inferences on different levels of education:"
   ]
  },
  {
   "cell_type": "code",
   "execution_count": 9,
   "id": "110fee06-332d-44d4-a0b8-3489f7d7c558",
   "metadata": {},
   "outputs": [
    {
     "name": "stdout",
     "output_type": "stream",
     "text": [
      "Frequency values for ['College' 'Doctorate' 'Graduate' 'High School' 'Post-Graduate'\n",
      " 'Uneducated' 'Unknown'] education levels are [1013  451 3128 2013  516 1487 1519] respectively\n",
      "Percentage values for ['College' 'Doctorate' 'Graduate' 'High School' 'Post-Graduate'\n",
      " 'Uneducated' 'Unknown'] education levels are [10.00296238  4.4534413  30.88772588 19.87755505  5.09528982 14.6835193\n",
      " 14.99950627] respectively\n",
      " The total percentage value: 100.0%\n"
     ]
    },
    {
     "data": {
      "image/png": "[encoded data removed]",
      "text/plain": [
       "<Figure size 864x504 with 1 Axes>"
      ]
     },
     "metadata": {
      "needs_background": "light"
     },
     "output_type": "display_data"
    }
   ],
   "source": [
    "# Load the variable from the dataset\n",
    "\n",
    "education_level = imported_dataset[:,5]\n",
    "\n",
    "# Determine the frequency and percentage of all observations\n",
    "\n",
    "education_lvl_unique, education_lvl_frequency = np.unique(education_level, return_counts=True)\n",
    "education_percentage_value = ( education_lvl_frequency / np.sum(education_lvl_frequency) ) * 100\n",
    "\n",
    "# Print the frequency and percentage of all observations, display output\n",
    "\n",
    "print(f'Frequency values for {education_lvl_unique} education levels are {education_lvl_frequency} respectively')\n",
    "print(f'Percentage values for {education_lvl_unique} education levels are {education_percentage_value} respectively')\n",
    "\n",
    "# Verify total percentage values in the array are true\n",
    "total_percentage_value = education_percentage_value.sum()\n",
    "print(f' The total percentage value: {total_percentage_value}%')\n",
    "\n",
    "\n",
    "# Bar chart  \n",
    "\n",
    "plt.rcParams[\"figure.figsize\"] = (12,7)\n",
    "ax = sns.barplot(x=education_lvl_unique, y=education_percentage_value)\n",
    "\n",
    "\n",
    "# Chart Title\n",
    "\n",
    "plt.title('Bank customer education levels as percentages', fontsize=15)\n",
    "\n",
    "# Horizontal axis attributes\n",
    "\n",
    "plt.xlabel('Education Levels', fontsize=15)\n",
    "plt.xticks(fontsize=12)\n",
    "\n",
    "# Vertical axis attributes\n",
    "\n",
    "plt.ylabel('Values(%)', fontsize=15)\n",
    "plt.yticks(fontsize=12)\n",
    "plt.ylim(0,40)\n",
    "\n",
    "# Display percentage values in the bar chart for each level of education.\n",
    "\n",
    "patches = ax.patches\n",
    "for index in range(len(patches)):\n",
    "    x = patches[index].get_x() + patches[index].get_width()/2\n",
    "    y = patches[index].get_height()+.05\n",
    "    ax.annotate('{:.2f}%'.format(education_percentage_value[index]), (x, y), ha='center', va=\"bottom\", fontsize=12)\n",
    "\n",
    "\n",
    "# Display the plot\n",
    "\n",
    "plt.show()\n"
   ]
  },
  {
   "cell_type": "markdown",
   "id": "fcd88279-99e2-454d-8c0e-6d25ecda442b",
   "metadata": {},
   "source": [
    "#### Observation:\n",
    "The above bar chart depicts the proportion of credit card consumers of different education levels in the College Park area.\n",
    "Graduated customers are the highest number of credit card users accounting for 30.89%, while those with doctorate degrees have the least of 4.45%.\n",
    "\n",
    "Moreover, the percentage of customers at the College level (10.00%) is approximately double that of Post-Graduates(5.10%). However, there is no significant difference between the education level percentages of Uneducated and Unknown.\n",
    "\n",
    "#### Inference:\n",
    "From the visualization, the credit card services provided by the bank are probably more inclined to graduate-level residents, followed by high school holders. Furthermore, customers having education degrees higher than graduate level have least preference comparatively to use credit cards offered by this bank."
   ]
  },
  {
   "cell_type": "markdown",
   "id": "ff6eebe1-3bdb-4f59-98f8-89614bd47837",
   "metadata": {
    "tags": []
   },
   "source": [
    "### 3. Gender Inequities?\n",
    "Bank's management believes there are gender inequities in the customer base. It is crucial to determine if their perception is correct. \n",
    "Reducing the gender gap would result in better stability in the banking system and also enhance economic growth.\n",
    "\n",
    "Let us consider the case scenario- if the difference is higher than ten percentage points (10%) between the genders, then conclude management's perception is accurate:"
   ]
  },
  {
   "cell_type": "code",
   "execution_count": 10,
   "id": "c80d3e98-83b2-411e-ac02-259f21546435",
   "metadata": {},
   "outputs": [
    {
     "name": "stdout",
     "output_type": "stream",
     "text": [
      "The frequency values for ['F' 'M'] gender are [5358 4769]\n"
     ]
    },
    {
     "data": {
      "image/png": "[encoded data removed]",
      "text/plain": [
       "<Figure size 864x504 with 1 Axes>"
      ]
     },
     "metadata": {},
     "output_type": "display_data"
    }
   ],
   "source": [
    "# Load the variable to determine total number of males and females from the dataset \n",
    "\n",
    "gender = imported_dataset[:,3]\n",
    "\n",
    "# Determine the frequency for each gender type\n",
    "\n",
    "gender_unique, gender_frequency = np.unique(gender, return_counts=True)\n",
    "\n",
    "# Display output\n",
    "\n",
    "print(f'The frequency values for {gender_unique} gender are {gender_frequency}')\n",
    "\n",
    "# Pie Chart and attributes\n",
    "\n",
    "plt.pie(gender_frequency, labels = gender_unique, autopct='%.2f%%')\n",
    "plt.rcParams[\"figure.figsize\"] = (12,7)\n",
    "plt.title('Customers by Gender', fontsize=15)\n",
    "plt.legend(['Female','Male'], loc=\"best\")\n",
    "\n",
    "# Display the plot\n",
    "\n",
    "plt.show()\n"
   ]
  },
  {
   "cell_type": "markdown",
   "id": "a2198eca-1782-4fe3-96e4-2b5c316a2b15",
   "metadata": {},
   "source": [
    "The above pie chart illustrates the total number of male and female clients for the bank in percentages. Overall, it is evident that the difference in the percentage values of both genders is minimal, much less than 10% (52.91-47.09 = 5.82)%, implying we can assume there is gender equality."
   ]
  },
  {
   "cell_type": "markdown",
   "id": "d92f93ee-0cf8-4e48-ba85-c0e313f01763",
   "metadata": {},
   "source": [
    "In conclusion, the data does not support that there is a significant difference in the number of male and female customers for the bank."
   ]
  },
  {
   "cell_type": "markdown",
   "id": "dd7f15f5-4a96-4a27-9e23-6c82c9da08c7",
   "metadata": {},
   "source": [
    "### 4. Risk Analysis\n",
    "\n",
    "\n",
    "Now, let us figure out and analyze if there is a risk to the bank's operations using the customer's average utilization ratio.\n",
    "We can decide based on the following condition- average utilization ratio less than 20% or greater than 80% poses a risk to the bank's operations:"
   ]
  },
  {
   "cell_type": "code",
   "execution_count": 11,
   "id": "61f061d3-71ed-48a8-8387-d54cf089ffa4",
   "metadata": {},
   "outputs": [
    {
     "name": "stdout",
     "output_type": "stream",
     "text": [
      "Percentage of customers posing a risk to the bank's operations: 57.28%\n"
     ]
    }
   ],
   "source": [
    "# Load the variable\n",
    "\n",
    "avg_utilization_ratio = imported_dataset[:,19].astype(float)\n",
    "\n",
    "# Determine risk percentage value\n",
    "\n",
    "risk_percentage_value = (np.count_nonzero( (avg_utilization_ratio < 1/5) | \n",
    "                                           (avg_utilization_ratio > 4/5) ) ) / len(avg_utilization_ratio) * 100\n",
    "\n",
    "# Display output\n",
    "\n",
    "print(f\"Percentage of customers posing a risk to the bank's operations: {risk_percentage_value:0.2f}%\")"
   ]
  },
  {
   "cell_type": "markdown",
   "id": "ec816c62-85ed-4fdf-883e-525f449a8bb8",
   "metadata": {},
   "source": [
    "In conclusion, the risk percentage value of the customers is significantly high, at 57.28%. Seeing these results, the bank may feel there is a risk posed to the bank's operations."
   ]
  },
  {
   "cell_type": "markdown",
   "id": "f2a0bac9-f7dd-4e3b-b534-b2205fe4b699",
   "metadata": {},
   "source": [
    "#### Inference"
   ]
  },
  {
   "cell_type": "markdown",
   "id": "809df90f-ed5e-4f2f-90fc-70849a325b58",
   "metadata": {},
   "source": [
    "We can infer that more than half of the customers satisfy the condition to pose a risk to the operations of Terp Savings & Loan Bank. The bank should identify the reasons for over or under-utilization of the credit limit. Data needs to be collected for the underlying factors and then perform necessary steps to address them."
   ]
  },
  {
   "cell_type": "code",
   "execution_count": 12,
   "id": "9c7de48e-b781-4b34-8d48-e6e6aba4042f",
   "metadata": {},
   "outputs": [
    {
     "name": "stdout",
     "output_type": "stream",
     "text": [
      "Percentage of customers having less than 20% average utilization of credit limit: 52.67%\n",
      "Percentage of customers having greater than 80% average utilization of credit limit: 4.61%\n"
     ]
    }
   ],
   "source": [
    "# On average credit utilization less than 20%, frequency and percentage\n",
    "\n",
    "avg_utilization_ratio1 = np.count_nonzero(avg_utilization_ratio < 1/5)\n",
    "risk_percentage_value1 = avg_utilization_ratio1 / len(avg_utilization_ratio) * 100\n",
    "\n",
    "# On average credit utilization greater than 80%, frequency and percentage\n",
    "\n",
    "avg_utilization_ratio2 = np.count_nonzero(avg_utilization_ratio > 4/5)\n",
    "risk_percentage_value2 = avg_utilization_ratio2 / len(avg_utilization_ratio) * 100\n",
    "\n",
    "# Display output\n",
    "\n",
    "print(f'Percentage of customers having less than 20% average utilization of credit limit: {risk_percentage_value1:.2f}%')\n",
    "print(f'Percentage of customers having greater than 80% average utilization of credit limit: {risk_percentage_value2:.2f}%')"
   ]
  },
  {
   "cell_type": "markdown",
   "id": "91d71418-2373-439c-8427-745d14c6f2af",
   "metadata": {},
   "source": [
    "The bank should prioritize marketing and advertisements, especially for customers with average utilization of credit limit of less than 20%, to increase their credit usage by providing special rewards/incentives. Converting this category of customers into non-risk would drastically decrease the risk percentage value."
   ]
  },
  {
   "cell_type": "markdown",
   "id": "853c5377-748b-4156-9870-15434b8c607c",
   "metadata": {},
   "source": [
    "### 4. Income Range\n",
    "\n",
    "Bank's management has approved a new proposal to create a new ad campaign. Let us determine which income range the bank should target to attract new customers:"
   ]
  },
  {
   "cell_type": "code",
   "execution_count": 13,
   "id": "8927095c-36dd-4046-9ee8-46a847683c4f",
   "metadata": {},
   "outputs": [
    {
     "name": "stdout",
     "output_type": "stream",
     "text": [
      "Frequency values for each income range ['$120K +' '$40K - $60K' '$60K - $80K' '$80K - $120K' 'Less than $40K'\n",
      " 'Unknown'] are [ 727 1790 1402 1535 3561 1112] respectively\n"
     ]
    }
   ],
   "source": [
    "# Load the variable\n",
    "\n",
    "income_category = imported_dataset[:,7]\n",
    "\n",
    "# Determine the frequency for each income range\n",
    "\n",
    "income_category_unique, income_category_frequency = np.unique(income_category, return_counts=True)\n",
    "\n",
    "# Display output\n",
    "\n",
    "print(f'Frequency values for each income range {income_category_unique} are {income_category_frequency} respectively')\n"
   ]
  },
  {
   "cell_type": "code",
   "execution_count": 14,
   "id": "c69574d2-1eb8-4dd9-94d5-61fed84a9d39",
   "metadata": {},
   "outputs": [
    {
     "data": {
      "image/png": "[encoded data removed]",
      "text/plain": [
       "<Figure size 864x504 with 1 Axes>"
      ]
     },
     "metadata": {
      "needs_background": "light"
     },
     "output_type": "display_data"
    }
   ],
   "source": [
    "# Histogram Plot\n",
    "\n",
    "sns.histplot(x=income_category)\n",
    "\n",
    "# Chart Title\n",
    "\n",
    "plt.title('Customer Salary Data', fontsize=15)\n",
    "\n",
    "# Horizontal axis attributes\n",
    "\n",
    "plt.xlabel('Income Ranges', fontsize=15)\n",
    "plt.xticks(fontsize=12)\n",
    "\n",
    "# Horizontal axis attributes\n",
    "\n",
    "plt.ylabel('Values', fontsize=15)\n",
    "plt.yticks(fontsize=12)\n",
    "plt.ylim(0,5000)\n",
    "\n",
    "# Display the plot\n",
    "\n",
    "plt.show()\n"
   ]
  },
  {
   "cell_type": "markdown",
   "id": "b14230c4-3b3a-4af6-8156-97c073665322",
   "metadata": {},
   "source": [
    "The above histogram shows the customer income data for the bank. We have different income ranges along the horizantal axis and corresponding frequency values on the vertical axis. \n",
    "Overall, the income range with the highest number of customers is 'Less than $40k' category."
   ]
  },
  {
   "cell_type": "code",
   "execution_count": 15,
   "id": "c22181ef-ca15-4f22-b4eb-8eb1165cacbd",
   "metadata": {},
   "outputs": [
    {
     "name": "stdout",
     "output_type": "stream",
     "text": [
      "Number of customers in 'Less than $40k' income range: 3561\n"
     ]
    }
   ],
   "source": [
    "print(f\"Number of customers in 'Less than $40k' income range: {np.max(income_category_frequency)}\")"
   ]
  },
  {
   "cell_type": "markdown",
   "id": "db2b13ed-a2be-4388-bdb6-02d60fd70488",
   "metadata": {},
   "source": [
    "In conclusion, the management should target the 'Less than $40k' income range for the following reasons:\n",
    "1. Campaign Impact- An advertisement needs to get noticed. More customers in a particular income range will create a positive network effect. \n",
    "2. Referral- Give existing customers in this range reward/loyalty points if they bring in a new customer to the bank.\n",
    "\n"
   ]
  },
  {
   "cell_type": "markdown",
   "id": "904c1ef1-ab7d-460c-bc25-b7be51ca24fc",
   "metadata": {},
   "source": [
    "### 4. Bundling\n",
    "\n",
    "It is interesting to analyze how many products are used by each bank customer. In business terms, it is defined as the total relationship count between the bank and a client. \n",
    "If the bank wishes to increase the product usage, bundling is a perfect strategy:"
   ]
  },
  {
   "cell_type": "code",
   "execution_count": 16,
   "id": "3961733e-4b95-4b65-a9d0-1b433bf1bf74",
   "metadata": {},
   "outputs": [
    {
     "name": "stdout",
     "output_type": "stream",
     "text": [
      "There are [ 910 1243 2305 1912 1891 1866] customers using [1 2 3 4 5 6] bank products respectively\n"
     ]
    },
    {
     "data": {
      "image/png": "[encoded data removed]",
      "text/plain": [
       "<Figure size 864x504 with 1 Axes>"
      ]
     },
     "metadata": {
      "needs_background": "light"
     },
     "output_type": "display_data"
    }
   ],
   "source": [
    "# Load the variable\n",
    "\n",
    "total_relationship_count = imported_dataset[:,10].astype(int)\n",
    "\n",
    "total_relationship_unique, total_relationship_frequency = np.unique(total_relationship_count, return_counts=True)\n",
    "print(f'There are {total_relationship_frequency} customers using {total_relationship_unique} bank products respectively')\n",
    "\n",
    "\n",
    "# Bar chart \n",
    "\n",
    "plt.rcParams[\"figure.figsize\"] = (12,7)\n",
    "sns.barplot(x=total_relationship_unique, y=total_relationship_frequency)\n",
    "\n",
    "\n",
    "# Chart Title\n",
    "\n",
    "plt.title('Bank Product Usage', fontsize=15)\n",
    "\n",
    "# Horizontal axis attributes\n",
    "\n",
    "plt.xlabel('Number of products', fontsize=15)\n",
    "plt.xticks(fontsize=12)\n",
    "\n",
    "# Vertical axis attributes\n",
    "\n",
    "plt.yticks(fontsize=12)\n",
    "plt.ylabel('Number of customers', fontsize=15)\n",
    "plt.ylim(0,3000)\n",
    "\n",
    "# Display plot\n",
    "\n",
    "plt.show()\n"
   ]
  },
  {
   "cell_type": "markdown",
   "id": "ea1944fc-1477-4ba5-afd3-01bb150e5150",
   "metadata": {},
   "source": [
    "#### Observation:\n",
    "The above barplot illustrates the number of products used by the bank's clientele in the range of one to six. \n",
    "To begin with, customers using more than three products offered by the bank follow a similar trend, having approximately equal values.\n",
    "Moreover, there are 2305 customers with a total relationship count of three (utilizing three products), the largest compared to all others. In contrast, only 910 customers use one bank product.\n",
    "\n",
    "#### Inference:\n",
    "Let us figure out if bundling the products has any advantages with the help of the given dataset.\n",
    "Bundling is the practice of selling two or more products together. All the existing customers using only one product should choose at least one additional product. In return, the bank can offer some incentives to these customers. It will eventually increase the bank's profit.\n"
   ]
  },
  {
   "cell_type": "markdown",
   "id": "8cc35c2f-354e-47b9-a2a7-4fd63c78a1dd",
   "metadata": {},
   "source": [
    "\"I pledge on my honor that I have not given nor received any unauthorized\n",
    "     assistance on this assignment.\""
   ]
  },
  {
   "cell_type": "markdown",
   "id": "6cd59016-2ba2-4e4d-9c58-f96732343e40",
   "metadata": {},
   "source": [
    "--Pruthvi Shyam Billa"
   ]
  }
 ],
 "metadata": {
  "kernelspec": {
   "display_name": "Python 3 (ipykernel)",
   "language": "python",
   "name": "python3"
  },
  "language_info": {
   "codemirror_mode": {
    "name": "ipython",
    "version": 3
   },
   "file_extension": ".py",
   "mimetype": "text/x-python",
   "name": "python",
   "nbconvert_exporter": "python",
   "pygments_lexer": "ipython3",
   "version": "3.9.12"
  }
 },
 "nbformat": 4,
 "nbformat_minor": 5
}
