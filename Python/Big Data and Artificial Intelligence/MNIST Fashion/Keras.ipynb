{
  "cells": [
    {
      "cell_type": "markdown",
      "metadata": {
        "id": "jYysdyb-CaWM"
      },
      "source": [
        "# Train your first neural network: Image classification for retail products\n",
        "\n",
        "You will implement a model to classify the images of retail products (predict and label the images in 10 classes such as dress, coat, or shirt)."
      ]
    },
    {
      "cell_type": "markdown",
      "metadata": {
        "id": "FbVhjPpzn6BM"
      },
      "source": [
        "Import the necessary libraries and print the version of TensorFlow API:"
      ]
    },
    {
      "cell_type": "code",
      "execution_count": null,
      "metadata": {
        "colab": {
          "base_uri": "https://localhost:8080/"
        },
        "id": "dzLKpmZICaWN",
        "outputId": "10369148-df5d-4f64-f3fc-0a9e9d83d001"
      },
      "outputs": [
        {
          "name": "stdout",
          "output_type": "stream",
          "text": [
            "2.14.0\n"
          ]
        }
      ],
      "source": [
        "# TensorFlow and tf.keras\n",
        "import tensorflow as tf\n",
        "from tensorflow import keras\n",
        "\n",
        "# Helper libraries\n",
        "import numpy as np\n",
        "import matplotlib.pyplot as plt\n",
        "\n",
        "print(tf.__version__)\n",
        "\n",
        "# Set the random seed to 1 (or any other integer value)\n",
        "tf.random.set_seed(1)\n"
      ]
    },
    {
      "cell_type": "markdown",
      "metadata": {
        "id": "yR0EdgrLCaWR"
      },
      "source": [
        "## Import the Fashion MNIST dataset"
      ]
    },
    {
      "cell_type": "markdown",
      "metadata": {
        "id": "DLdCchMdCaWQ"
      },
      "source": [
        "We will use the [Fashion MNIST](https://github.com/zalandoresearch/fashion-mnist) dataset which contains 70,000 grayscale images in 10 categories. We will use 60,000 images to train the network and 10,000 images to evaluate how accurately the network learned to classify images. The following are some examples of the images (each image is 28 x 28 pixels):\n",
        "\n",
        "<table>\n",
        "  <tr><td>\n",
        "    <img src=\"https://tensorflow.org/images/fashion-mnist-sprite.png\"\n",
        "         alt=\"Fashion MNIST sprite\"  width=\"600\">\n",
        "  </td></tr>\n",
        "  <tr><td align=\"center\">\n",
        "    <b>Figure 1.</b> <a href=\"https://github.com/zalandoresearch/fashion-mnist\">Fashion-MNIST samples</a> (by Zalando, MIT License).<br/>&nbsp;\n",
        "  </td></tr>\n",
        "</table>\n",
        "\n",
        "Import and load the data from TensorFow (the data is already split into test and training sets):"
      ]
    },
    {
      "cell_type": "code",
      "execution_count": null,
      "metadata": {
        "colab": {
          "base_uri": "https://localhost:8080/"
        },
        "id": "7MqDQO0KCaWS",
        "outputId": "bdb9c89a-0cc9-431a-cdc3-b5cc2b9c6804"
      },
      "outputs": [
        {
          "name": "stdout",
          "output_type": "stream",
          "text": [
            "Downloading data from https://storage.googleapis.com/tensorflow/tf-keras-datasets/train-labels-idx1-ubyte.gz\n",
            "29515/29515 [==============================] - 0s 0us/step\n",
            "Downloading data from https://storage.googleapis.com/tensorflow/tf-keras-datasets/train-images-idx3-ubyte.gz\n",
            "26421880/26421880 [==============================] - 0s 0us/step\n",
            "Downloading data from https://storage.googleapis.com/tensorflow/tf-keras-datasets/t10k-labels-idx1-ubyte.gz\n",
            "5148/5148 [==============================] - 0s 0us/step\n",
            "Downloading data from https://storage.googleapis.com/tensorflow/tf-keras-datasets/t10k-images-idx3-ubyte.gz\n",
            "4422102/4422102 [==============================] - 0s 0us/step\n"
          ]
        }
      ],
      "source": [
        "fashion_mnist = keras.datasets.fashion_mnist\n",
        "\n",
        "(train_images, train_labels), (test_images, test_labels) = fashion_mnist.load_data()"
      ]
    },
    {
      "cell_type": "markdown",
      "metadata": {
        "id": "t9FDsUlxCaWW"
      },
      "source": [
        "The *images* are defined as pixel values ranging between 0 and 255 (each image with 28x28=784 values). These values correspond to a shade of gray:\n",
        "\n",
        "<table>\n",
        "  <tr><td>\n",
        "    <img src=\"http://what-when-how.com/wp-content/uploads/2012/07/tmp26dc25_thumb2.png\"\n",
        "         alt=\"Shades of grey\" width=\"400\">\n",
        "  </td></tr>\n",
        "  <tr><td align=\"center\">\n",
        "    <b>Figure 2.</b> 256 (not 50) shades of grey.<br/>&nbsp;\n",
        "  </td></tr>\n",
        "</table>\n",
        "\n",
        "The *labels* are integers, ranging from 0 to 9. These correspond to the *class* of clothing the image represents:\n",
        "\n",
        "<table>\n",
        "  <tr>\n",
        "    <th>Label</th>\n",
        "    <th>Class</th>\n",
        "  </tr>\n",
        "  <tr>\n",
        "    <td>0</td>\n",
        "    <td>T-shirt/top</td>\n",
        "  </tr>\n",
        "  <tr>\n",
        "    <td>1</td>\n",
        "    <td>Trouser</td>\n",
        "  </tr>\n",
        "    <tr>\n",
        "    <td>2</td>\n",
        "    <td>Pullover</td>\n",
        "  </tr>\n",
        "    <tr>\n",
        "    <td>3</td>\n",
        "    <td>Dress</td>\n",
        "  </tr>\n",
        "    <tr>\n",
        "    <td>4</td>\n",
        "    <td>Coat</td>\n",
        "  </tr>\n",
        "    <tr>\n",
        "    <td>5</td>\n",
        "    <td>Sandal</td>\n",
        "  </tr>\n",
        "    <tr>\n",
        "    <td>6</td>\n",
        "    <td>Shirt</td>\n",
        "  </tr>\n",
        "    <tr>\n",
        "    <td>7</td>\n",
        "    <td>Sneaker</td>\n",
        "  </tr>\n",
        "    <tr>\n",
        "    <td>8</td>\n",
        "    <td>Bag</td>\n",
        "  </tr>\n",
        "    <tr>\n",
        "    <td>9</td>\n",
        "    <td>Ankle boot</td>\n",
        "  </tr>\n",
        "</table>\n",
        "\n",
        "Assign *class names* to the labels (we will use the class names later when plotting the images):"
      ]
    },
    {
      "cell_type": "code",
      "execution_count": null,
      "metadata": {
        "id": "IjnLH5S2CaWx"
      },
      "outputs": [],
      "source": [
        "class_names = ['T-shirt/top', 'Trouser', 'Pullover', 'Dress', 'Coat',\n",
        "               'Sandal', 'Shirt', 'Sneaker', 'Bag', 'Ankle boot']"
      ]
    },
    {
      "cell_type": "markdown",
      "metadata": {
        "id": "Brm0b_KACaWX"
      },
      "source": [
        "## Explore the data\n",
        "\n",
        "Explore the format of the **training** dataset (60,000 images with each image is represented as 28 x 28 pixels):"
      ]
    },
    {
      "cell_type": "code",
      "execution_count": null,
      "metadata": {
        "colab": {
          "base_uri": "https://localhost:8080/"
        },
        "id": "zW5k_xz1CaWX",
        "outputId": "dbb12f9b-adcb-4fc2-cdf4-7380ef861cce"
      },
      "outputs": [
        {
          "data": {
            "text/plain": [
              "(60000, 28, 28)"
            ]
          },
          "execution_count": 4,
          "metadata": {},
          "output_type": "execute_result"
        }
      ],
      "source": [
        "train_images.shape"
      ]
    },
    {
      "cell_type": "markdown",
      "metadata": {
        "id": "YSlYxFuRCaWk"
      },
      "source": [
        "Explore the labels of the **training** dataset (each label is an integer between 0 and 9):"
      ]
    },
    {
      "cell_type": "code",
      "execution_count": null,
      "metadata": {
        "colab": {
          "base_uri": "https://localhost:8080/"
        },
        "id": "XKnCTHz4CaWg",
        "outputId": "b0a365ec-713d-4321-b3d5-050a5de5f9d2"
      },
      "outputs": [
        {
          "data": {
            "text/plain": [
              "array([9, 0, 0, ..., 3, 0, 5], dtype=uint8)"
            ]
          },
          "execution_count": 5,
          "metadata": {},
          "output_type": "execute_result"
        }
      ],
      "source": [
        "train_labels"
      ]
    },
    {
      "cell_type": "markdown",
      "metadata": {
        "id": "TMPI88iZpO2T"
      },
      "source": [
        "Explore the format of the **test** dataset (10,000 images with each image is represented as 28 x 28 pixels):"
      ]
    },
    {
      "cell_type": "code",
      "execution_count": null,
      "metadata": {
        "colab": {
          "base_uri": "https://localhost:8080/"
        },
        "id": "2KFnYlcwCaWl",
        "outputId": "25eb684f-e40c-4229-d01c-0e7b92ad4bc0"
      },
      "outputs": [
        {
          "data": {
            "text/plain": [
              "(10000, 28, 28)"
            ]
          },
          "execution_count": 6,
          "metadata": {},
          "output_type": "execute_result"
        }
      ],
      "source": [
        "test_images.shape"
      ]
    },
    {
      "cell_type": "markdown",
      "metadata": {
        "id": "rd0A0Iu0CaWq"
      },
      "source": [
        "Explore the labels of the **test** dataset (each label is an integer between 0 and 9):"
      ]
    },
    {
      "cell_type": "code",
      "execution_count": null,
      "metadata": {
        "colab": {
          "base_uri": "https://localhost:8080/"
        },
        "id": "iJmPr5-ACaWn",
        "outputId": "e14a2ba2-5b1e-4dd0-bd99-b7532c404c1d"
      },
      "outputs": [
        {
          "data": {
            "text/plain": [
              "array([9, 2, 1, ..., 8, 1, 5], dtype=uint8)"
            ]
          },
          "execution_count": 7,
          "metadata": {},
          "output_type": "execute_result"
        }
      ],
      "source": [
        "test_labels"
      ]
    },
    {
      "cell_type": "markdown",
      "metadata": {
        "id": "ES6uQoLKCaWr"
      },
      "source": [
        "## Preprocess the data\n",
        "\n",
        "See how an image looks like (28 by 28 pixels, each pixel having a value between 0 and 255):"
      ]
    },
    {
      "cell_type": "code",
      "execution_count": null,
      "metadata": {
        "colab": {
          "base_uri": "https://localhost:8080/",
          "height": 430
        },
        "id": "m4VEw8Ud9Quh",
        "outputId": "da44a857-8886-4919-d9be-d140f6fe7312"
      },
      "outputs": [
        {
          "data": {
            "image/png": "[encoded data removed]",
            "text/plain": [
              "<Figure size 640x480 with 2 Axes>"
            ]
          },
          "metadata": {},
          "output_type": "display_data"
        }
      ],
      "source": [
        "plt.figure()\n",
        "plt.imshow(train_images[0],cmap=plt.cm.binary)\n",
        "plt.colorbar()\n",
        "plt.grid(False)"
      ]
    },
    {
      "cell_type": "markdown",
      "metadata": {
        "id": "Wz7l27Lz9S1P"
      },
      "source": [
        "Scale the pixel values to a range of 0 to 1 for both the **training** and **test** datasets (this is how the neural network model expects the input):"
      ]
    },
    {
      "cell_type": "code",
      "execution_count": null,
      "metadata": {
        "id": "bW5WzIPlCaWv"
      },
      "outputs": [],
      "source": [
        "train_images = train_images / 255.0\n",
        "\n",
        "test_images = test_images / 255.0"
      ]
    },
    {
      "cell_type": "markdown",
      "metadata": {
        "id": "ji1e-3ghBCuA"
      },
      "source": [
        "Confirm that the pixel values are now between 0 and 1:"
      ]
    },
    {
      "cell_type": "code",
      "execution_count": null,
      "metadata": {
        "colab": {
          "base_uri": "https://localhost:8080/",
          "height": 435
        },
        "id": "Womwp5CjA_2-",
        "outputId": "d0904297-7aa2-4c1b-96c9-63ee618df5c1"
      },
      "outputs": [
        {
          "data": {
            "image/png": "[encoded data removed]",
            "text/plain": [
              "<Figure size 640x480 with 2 Axes>"
            ]
          },
          "metadata": {},
          "output_type": "display_data"
        }
      ],
      "source": [
        "plt.figure()\n",
        "plt.imshow(train_images[0],cmap=plt.cm.binary)\n",
        "plt.colorbar()\n",
        "plt.grid(False)"
      ]
    },
    {
      "cell_type": "markdown",
      "metadata": {
        "id": "Ee638AlnCaWz"
      },
      "source": [
        "Display the first 25 images from the *training set* with the class name below each image and verify that the data looks good:"
      ]
    },
    {
      "cell_type": "code",
      "execution_count": null,
      "metadata": {
        "colab": {
          "base_uri": "https://localhost:8080/",
          "height": 826
        },
        "id": "oZTImqg_CaW1",
        "outputId": "58846e58-7478-4794-bf89-619101400ed8"
      },
      "outputs": [
        {
          "data": {
            "image/png": "[encoded data removed]",
            "text/plain": [
              "<Figure size 1000x1000 with 25 Axes>"
            ]
          },
          "metadata": {},
          "output_type": "display_data"
        }
      ],
      "source": [
        "plt.figure(figsize=(10,10))\n",
        "for i in range(25):\n",
        "    plt.subplot(5,5,i+1)\n",
        "    plt.xticks([])\n",
        "    plt.yticks([])\n",
        "    plt.grid(False)\n",
        "    plt.imshow(train_images[i], cmap=plt.cm.binary)\n",
        "    plt.xlabel(class_names[train_labels[i]])"
      ]
    },
    {
      "cell_type": "markdown",
      "metadata": {
        "id": "59veuiEZCaW4"
      },
      "source": [
        "## Build the model\n",
        "\n",
        "Building the neural network requires (1) setting up the layers of the model, then (2) compiling the model."
      ]
    },
    {
      "cell_type": "markdown",
      "metadata": {
        "id": "Gxg1XGm0eOBy"
      },
      "source": [
        "### Setup the layers\n",
        "\n",
        "The basic building block of a neural network is the *layer*. Layers extract representations from the data. Create three layers:"
      ]
    },
    {
      "cell_type": "code",
      "execution_count": null,
      "metadata": {
        "colab": {
          "base_uri": "https://localhost:8080/"
        },
        "id": "9ODch-OFCaW4",
        "outputId": "e6d7b8a7-fdf1-415e-9356-b9ecefdc47eb",
        "scrolled": true
      },
      "outputs": [
        {
          "name": "stdout",
          "output_type": "stream",
          "text": [
            "Model: \"sequential\"\n",
            "_________________________________________________________________\n",
            " Layer (type)                Output Shape              Param #   \n",
            "=================================================================\n",
            " flatten (Flatten)           (None, 784)               0         \n",
            "                                                                 \n",
            " dense (Dense)               (None, 128)               100480    \n",
            "                                                                 \n",
            " dense_1 (Dense)             (None, 10)                1290      \n",
            "                                                                 \n",
            "=================================================================\n",
            "Total params: 101770 (397.54 KB)\n",
            "Trainable params: 101770 (397.54 KB)\n",
            "Non-trainable params: 0 (0.00 Byte)\n",
            "_________________________________________________________________\n"
          ]
        }
      ],
      "source": [
        "model = keras.Sequential([\n",
        "    keras.layers.Flatten(input_shape=(28, 28)), # DO NOT CHANGE ANYTHING IN THIS LAYER\n",
        "    keras.layers.Dense(128, activation=tf.nn.relu),\n",
        "    keras.layers.Dense(10, activation=tf.nn.softmax) # DO NOT CHANGE ANYTHING IN THIS LAYER\n",
        "])\n",
        "\n",
        "model.summary()"
      ]
    },
    {
      "cell_type": "markdown",
      "metadata": {
        "id": "gut8A_7rCaW6"
      },
      "source": [
        "\n",
        "### Compile the model\n",
        "\n",
        "Define the loss function, optimizer, and performance metric using the model's *compile* step:"
      ]
    },
    {
      "cell_type": "code",
      "execution_count": null,
      "metadata": {
        "id": "Lhan11blCaW7"
      },
      "outputs": [],
      "source": [
        "model.compile(loss='sparse_categorical_crossentropy',\n",
        "              optimizer=tf.keras.optimizers.Adam(),\n",
        "              metrics=['accuracy']) #The fraction of the images that are correctly classified."
      ]
    },
    {
      "cell_type": "markdown",
      "metadata": {
        "id": "qKF6uW-BCaW-"
      },
      "source": [
        "## Train the model\n",
        "\n",
        "Train the model for 5 epochs using the images and their labels in the training set:"
      ]
    },
    {
      "cell_type": "code",
      "execution_count": null,
      "metadata": {
        "colab": {
          "base_uri": "https://localhost:8080/"
        },
        "id": "xvwvpA64CaW_",
        "outputId": "bef31322-bbd2-4819-bcd8-2bf50fb4ad0c"
      },
      "outputs": [
        {
          "name": "stdout",
          "output_type": "stream",
          "text": [
            "Epoch 1/5\n",
            "600/600 [==============================] - 8s 3ms/step - loss: 0.5369 - accuracy: 0.8143\n",
            "Epoch 2/5\n",
            "600/600 [==============================] - 2s 3ms/step - loss: 0.3997 - accuracy: 0.8581\n",
            "Epoch 3/5\n",
            "600/600 [==============================] - 2s 3ms/step - loss: 0.3591 - accuracy: 0.8711\n",
            "Epoch 4/5\n",
            "600/600 [==============================] - 2s 3ms/step - loss: 0.3368 - accuracy: 0.8792\n",
            "Epoch 5/5\n",
            "600/600 [==============================] - 2s 3ms/step - loss: 0.3184 - accuracy: 0.8849\n"
          ]
        },
        {
          "data": {
            "text/plain": [
              "<keras.src.callbacks.History at 0x7f9a04df6fb0>"
            ]
          },
          "execution_count": 14,
          "metadata": {},
          "output_type": "execute_result"
        }
      ],
      "source": [
        "model.fit(train_images, train_labels, batch_size =100, epochs=5)"
      ]
    },
    {
      "cell_type": "code",
      "execution_count": null,
      "metadata": {
        "colab": {
          "base_uri": "https://localhost:8080/"
        },
        "id": "9YxOm9pxs9dj",
        "outputId": "624f207b-d72c-4bc9-b04d-98dc66389c83",
        "scrolled": true
      },
      "outputs": [
        {
          "data": {
            "text/plain": [
              "{'name': 'sequential',\n",
              " 'layers': [{'module': 'keras.layers',\n",
              "   'class_name': 'InputLayer',\n",
              "   'config': {'batch_input_shape': (None, 28, 28),\n",
              "    'dtype': 'float32',\n",
              "    'sparse': False,\n",
              "    'ragged': False,\n",
              "    'name': 'flatten_input'},\n",
              "   'registered_name': None},\n",
              "  {'module': 'keras.layers',\n",
              "   'class_name': 'Flatten',\n",
              "   'config': {'name': 'flatten',\n",
              "    'trainable': True,\n",
              "    'dtype': 'float32',\n",
              "    'batch_input_shape': (None, 28, 28),\n",
              "    'data_format': 'channels_last'},\n",
              "   'registered_name': None,\n",
              "   'build_config': {'input_shape': (None, 28, 28)}},\n",
              "  {'module': 'keras.layers',\n",
              "   'class_name': 'Dense',\n",
              "   'config': {'name': 'dense',\n",
              "    'trainable': True,\n",
              "    'dtype': 'float32',\n",
              "    'units': 128,\n",
              "    'activation': 'relu',\n",
              "    'use_bias': True,\n",
              "    'kernel_initializer': {'module': 'keras.initializers',\n",
              "     'class_name': 'GlorotUniform',\n",
              "     'config': {'seed': None},\n",
              "     'registered_name': None},\n",
              "    'bias_initializer': {'module': 'keras.initializers',\n",
              "     'class_name': 'Zeros',\n",
              "     'config': {},\n",
              "     'registered_name': None},\n",
              "    'kernel_regularizer': None,\n",
              "    'bias_regularizer': None,\n",
              "    'activity_regularizer': None,\n",
              "    'kernel_constraint': None,\n",
              "    'bias_constraint': None},\n",
              "   'registered_name': None,\n",
              "   'build_config': {'input_shape': (None, 784)}},\n",
              "  {'module': 'keras.layers',\n",
              "   'class_name': 'Dense',\n",
              "   'config': {'name': 'dense_1',\n",
              "    'trainable': True,\n",
              "    'dtype': 'float32',\n",
              "    'units': 10,\n",
              "    'activation': 'softmax',\n",
              "    'use_bias': True,\n",
              "    'kernel_initializer': {'module': 'keras.initializers',\n",
              "     'class_name': 'GlorotUniform',\n",
              "     'config': {'seed': None},\n",
              "     'registered_name': None},\n",
              "    'bias_initializer': {'module': 'keras.initializers',\n",
              "     'class_name': 'Zeros',\n",
              "     'config': {},\n",
              "     'registered_name': None},\n",
              "    'kernel_regularizer': None,\n",
              "    'bias_regularizer': None,\n",
              "    'activity_regularizer': None,\n",
              "    'kernel_constraint': None,\n",
              "    'bias_constraint': None},\n",
              "   'registered_name': None,\n",
              "   'build_config': {'input_shape': (None, 128)}}]}"
            ]
          },
          "execution_count": 15,
          "metadata": {},
          "output_type": "execute_result"
        }
      ],
      "source": [
        "model.get_config()"
      ]
    },
    {
      "cell_type": "markdown",
      "metadata": {
        "id": "W3ZVOhugCaXA"
      },
      "source": [
        "As the model trains, the loss and accuracy metrics are displayed. This model reaches an accuracy of about 0.88 (or 88%) on the training data."
      ]
    },
    {
      "cell_type": "markdown",
      "metadata": {
        "id": "oEw4bZgGCaXB"
      },
      "source": [
        "## Evaluate the model\n",
        "\n",
        "Evaluate the accuracy of the model by making predictions using the model in the test dataset:"
      ]
    },
    {
      "cell_type": "code",
      "execution_count": null,
      "metadata": {
        "colab": {
          "base_uri": "https://localhost:8080/"
        },
        "id": "VflXLEeECaXC",
        "outputId": "b18824a0-3898-4c8e-dbad-f553c495eda3"
      },
      "outputs": [
        {
          "name": "stdout",
          "output_type": "stream",
          "text": [
            "313/313 [==============================] - 1s 3ms/step - loss: 0.3550 - accuracy: 0.8712\n",
            "Test accuracy: 0.8712000250816345\n"
          ]
        }
      ],
      "source": [
        "test_loss, test_acc = model.evaluate(test_images, test_labels)\n",
        "\n",
        "print('Test accuracy:', test_acc)"
      ]
    },
    {
      "cell_type": "markdown",
      "metadata": {
        "id": "xsoS7CPDCaXH"
      },
      "source": [
        "## Make predictions\n",
        "\n",
        "Store the predictions for all images in the test dataset:"
      ]
    },
    {
      "cell_type": "code",
      "execution_count": null,
      "metadata": {
        "colab": {
          "base_uri": "https://localhost:8080/"
        },
        "id": "Gl91RPhdCaXI",
        "outputId": "65b909d5-57e3-445f-96d2-071de0592afc"
      },
      "outputs": [
        {
          "name": "stdout",
          "output_type": "stream",
          "text": [
            "313/313 [==============================] - 1s 2ms/step\n"
          ]
        }
      ],
      "source": [
        "predictions = model.predict(test_images)"
      ]
    },
    {
      "cell_type": "markdown",
      "metadata": {
        "id": "x9Kk1voUCaXJ"
      },
      "source": [
        "Display the probabilities in the prediction of the first image:"
      ]
    },
    {
      "cell_type": "code",
      "execution_count": null,
      "metadata": {
        "colab": {
          "base_uri": "https://localhost:8080/"
        },
        "id": "3DmJEUinCaXK",
        "outputId": "6b4c6b9e-081d-4123-9d8b-c0415643d436"
      },
      "outputs": [
        {
          "data": {
            "text/plain": [
              "array([1.8042312e-05, 1.1553840e-07, 4.0121117e-06, 3.3319677e-06,\n",
              "       1.0808432e-05, 2.1935072e-02, 1.9773261e-05, 7.2740063e-02,\n",
              "       6.1421917e-04, 9.0465462e-01], dtype=float32)"
            ]
          },
          "execution_count": 18,
          "metadata": {},
          "output_type": "execute_result"
        }
      ],
      "source": [
        "predictions[0] #222 for a false prediction"
      ]
    },
    {
      "cell_type": "markdown",
      "metadata": {
        "id": "-hw1hgeSCaXN"
      },
      "source": [
        "Display the label that is prediced with the highest probability:"
      ]
    },
    {
      "cell_type": "code",
      "execution_count": null,
      "metadata": {
        "colab": {
          "base_uri": "https://localhost:8080/"
        },
        "id": "qsqenuPnCaXO",
        "outputId": "6ec2ccd8-d4d4-4b3c-9ee2-7d69d0aa4bfc"
      },
      "outputs": [
        {
          "data": {
            "text/plain": [
              "9"
            ]
          },
          "execution_count": 19,
          "metadata": {},
          "output_type": "execute_result"
        }
      ],
      "source": [
        "np.argmax(predictions[0])"
      ]
    },
    {
      "cell_type": "markdown",
      "metadata": {
        "id": "E51yS7iCCaXO"
      },
      "source": [
        "Confirm whether the prediction is correct by checking the actual label of the first image:"
      ]
    },
    {
      "cell_type": "code",
      "execution_count": null,
      "metadata": {
        "colab": {
          "base_uri": "https://localhost:8080/"
        },
        "id": "Sd7Pgsu6CaXP",
        "outputId": "9ffbd40b-2be8-40d5-e925-1c8fbbdc16b0"
      },
      "outputs": [
        {
          "data": {
            "text/plain": [
              "9"
            ]
          },
          "execution_count": 20,
          "metadata": {},
          "output_type": "execute_result"
        }
      ],
      "source": [
        "test_labels[0]"
      ]
    },
    {
      "cell_type": "markdown",
      "metadata": {
        "id": "ygh2yYC972ne"
      },
      "source": [
        "Define two helper functions (we will use the functions later when plotting the results):"
      ]
    },
    {
      "cell_type": "code",
      "execution_count": null,
      "metadata": {
        "id": "DvYmmrpIy6Y1"
      },
      "outputs": [],
      "source": [
        "def plot_image(i, predictions_array, true_label, img):\n",
        "  predictions_array, true_label, img = predictions_array[i], true_label[i], img[i]\n",
        "  plt.grid(False)\n",
        "  plt.xticks([])\n",
        "  plt.yticks([])\n",
        "\n",
        "  plt.imshow(img, cmap=plt.cm.binary)\n",
        "\n",
        "  predicted_label = np.argmax(predictions_array)\n",
        "  if predicted_label == true_label:\n",
        "    color = 'blue'\n",
        "  else:\n",
        "    color = 'red'\n",
        "\n",
        "  plt.xlabel(\"{} {:2.0f}% ({})\".format(class_names[predicted_label],\n",
        "                                100*np.max(predictions_array),\n",
        "                                class_names[true_label]),\n",
        "                                color=color)\n",
        "\n",
        "def plot_value_array(i, predictions_array, true_label):\n",
        "  predictions_array, true_label = predictions_array[i], true_label[i]\n",
        "  plt.grid(False)\n",
        "  plt.xticks([])\n",
        "  plt.yticks([])\n",
        "  thisplot = plt.bar(range(10), predictions_array, color=\"#777777\")\n",
        "  plt.ylim([0, 1])\n",
        "  predicted_label = np.argmax(predictions_array)\n",
        "\n",
        "  thisplot[predicted_label].set_color('red')\n",
        "  thisplot[true_label].set_color('blue')"
      ]
    },
    {
      "cell_type": "markdown",
      "metadata": {
        "id": "d4Ov9OFDMmOD"
      },
      "source": [
        "Display the 1st image, its predicted label with the probability and its true label:"
      ]
    },
    {
      "cell_type": "code",
      "execution_count": null,
      "metadata": {
        "colab": {
          "base_uri": "https://localhost:8080/",
          "height": 267
        },
        "id": "HV5jw-5HwSmO",
        "outputId": "2d6fce5b-e710-41c1-a753-56b7df7e2423"
      },
      "outputs": [
        {
          "data": {
            "image/png": "[encoded data removed]",
            "text/plain": [
              "<Figure size 600x300 with 1 Axes>"
            ]
          },
          "metadata": {},
          "output_type": "display_data"
        }
      ],
      "source": [
        "i = 0\n",
        "plt.figure(figsize=(6,3))\n",
        "plt.subplot(1,2,1)\n",
        "plot_image(i, predictions, test_labels, test_images)\n",
        "#plt.subplot(1,2,2)\n",
        "#plot_value_array(i, predictions,  test_labels)"
      ]
    },
    {
      "cell_type": "markdown",
      "metadata": {
        "id": "IhR4IT0j6nSQ"
      },
      "source": [
        "Display the plot of all predicted probabilities for the 1st image:"
      ]
    },
    {
      "cell_type": "code",
      "execution_count": null,
      "metadata": {
        "colab": {
          "base_uri": "https://localhost:8080/",
          "height": 495
        },
        "id": "8VAWuHqO5Q0Y",
        "outputId": "ba0870ff-4c43-4a97-818e-a1bebd774be7"
      },
      "outputs": [
        {
          "name": "stdout",
          "output_type": "stream",
          "text": [
            "1/1 [==============================] - 0s 36ms/step\n"
          ]
        },
        {
          "data": {
            "image/png": "[encoded data removed]",
            "text/plain": [
              "<Figure size 640x480 with 1 Axes>"
            ]
          },
          "metadata": {},
          "output_type": "display_data"
        }
      ],
      "source": [
        "plot_value_array(0, model.predict(np.expand_dims(test_images[0],0)), test_labels)\n",
        "_ = plt.xticks(range(10), class_names, rotation=45)"
      ]
    },
    {
      "cell_type": "markdown",
      "metadata": {
        "id": "D0pabHQKZ4yz"
      },
      "source": [
        "Display the 223rd image, its predicted label with the probability and its true label:"
      ]
    },
    {
      "cell_type": "code",
      "execution_count": null,
      "metadata": {
        "colab": {
          "base_uri": "https://localhost:8080/",
          "height": 267
        },
        "id": "Ko-uzOufSCSe",
        "outputId": "9ae1a873-c297-4e2d-b124-3f9a29543816"
      },
      "outputs": [
        {
          "data": {
            "image/png": "[encoded data removed]",
            "text/plain": [
              "<Figure size 600x300 with 1 Axes>"
            ]
          },
          "metadata": {},
          "output_type": "display_data"
        }
      ],
      "source": [
        "i = 222\n",
        "plt.figure(figsize=(6,3))\n",
        "plt.subplot(1,2,1)\n",
        "plot_image(i, predictions, test_labels, test_images)\n",
        "#plt.subplot(1,2,2)\n",
        "#plot_value_array(i, predictions,  test_labels)"
      ]
    },
    {
      "cell_type": "markdown",
      "metadata": {
        "id": "hAcgQzko7Il7"
      },
      "source": [
        "Display the plot of all predicted probabilities for the 223rd image:"
      ]
    },
    {
      "cell_type": "code",
      "execution_count": null,
      "metadata": {
        "colab": {
          "base_uri": "https://localhost:8080/",
          "height": 495
        },
        "id": "mjoCDYtx6H0B",
        "outputId": "599e6f28-8c9d-45f2-f1fb-04405442cdce"
      },
      "outputs": [
        {
          "name": "stdout",
          "output_type": "stream",
          "text": [
            "1/1 [==============================] - 0s 24ms/step\n"
          ]
        },
        {
          "data": {
            "image/png": "[encoded data removed]",
            "text/plain": [
              "<Figure size 640x480 with 1 Axes>"
            ]
          },
          "metadata": {},
          "output_type": "display_data"
        }
      ],
      "source": [
        "plot_value_array(0, model.predict(np.expand_dims(test_images[222],0)), test_labels)\n",
        "_ = plt.xticks(range(10), class_names, rotation=45)"
      ]
    },
    {
      "cell_type": "markdown",
      "metadata": {
        "id": "kgdvGD52CaXR"
      },
      "source": [
        "Plot several images with their predictions (correct prediction labels are blue and incorrect ones are red):"
      ]
    },
    {
      "cell_type": "code",
      "execution_count": null,
      "metadata": {
        "colab": {
          "base_uri": "https://localhost:8080/",
          "height": 980
        },
        "id": "hQlnbqaw2Qu_",
        "outputId": "10ba4032-e96e-4519-9f9b-a438dedf4cfd"
      },
      "outputs": [
        {
          "data": {
            "image/png": "[encoded data removed]",
            "text/plain": [
              "<Figure size 1600x1200 with 48 Axes>"
            ]
          },
          "metadata": {},
          "output_type": "display_data"
        }
      ],
      "source": [
        "# Plot the first X test images, their predicted label, and the true label\n",
        "# Color correct predictions in blue, incorrect predictions in red\n",
        "num_rows = 6\n",
        "num_cols = 4\n",
        "num_images = num_rows*num_cols\n",
        "plt.figure(figsize=(2*2*num_cols, 2*num_rows))\n",
        "for i in range(num_images):\n",
        "  plt.subplot(num_rows, 2*num_cols, 2*i+1)\n",
        "  plot_image(i, predictions, test_labels, test_images)\n",
        "  plt.subplot(num_rows, 2*num_cols, 2*i+2)\n",
        "  plot_value_array(i, predictions, test_labels)\n"
      ]
    },
    {
      "cell_type": "code",
      "execution_count": null,
      "metadata": {
        "colab": {
          "base_uri": "https://localhost:8080/"
        },
        "id": "kxZa_Mjlnwvz",
        "outputId": "a0d47663-86d5-4457-e9af-8dfb1b56603b"
      },
      "outputs": [
        {
          "name": "stdout",
          "output_type": "stream",
          "text": [
            "Model: \"sequential_1\"\n",
            "_________________________________________________________________\n",
            " Layer (type)                Output Shape              Param #   \n",
            "=================================================================\n",
            " flatten_1 (Flatten)         (None, 784)               0         \n",
            "                                                                 \n",
            " dense_2 (Dense)             (None, 256)               200960    \n",
            "                                                                 \n",
            " dense_3 (Dense)             (None, 128)               32896     \n",
            "                                                                 \n",
            " dense_4 (Dense)             (None, 10)                1290      \n",
            "                                                                 \n",
            "=================================================================\n",
            "Total params: 235146 (918.54 KB)\n",
            "Trainable params: 235146 (918.54 KB)\n",
            "Non-trainable params: 0 (0.00 Byte)\n",
            "_________________________________________________________________\n",
            "Epoch 1/10\n",
            "600/600 [==============================] - 3s 3ms/step - loss: 0.4989 - accuracy: 0.8240\n",
            "Epoch 2/10\n",
            "600/600 [==============================] - 2s 3ms/step - loss: 0.3627 - accuracy: 0.8685\n",
            "Epoch 3/10\n",
            "600/600 [==============================] - 2s 4ms/step - loss: 0.3261 - accuracy: 0.8804\n",
            "Epoch 4/10\n",
            "600/600 [==============================] - 2s 3ms/step - loss: 0.3028 - accuracy: 0.8881\n",
            "Epoch 5/10\n",
            "600/600 [==============================] - 2s 3ms/step - loss: 0.2846 - accuracy: 0.8943\n",
            "Epoch 6/10\n",
            "600/600 [==============================] - 2s 3ms/step - loss: 0.2701 - accuracy: 0.8990\n",
            "Epoch 7/10\n",
            "600/600 [==============================] - 2s 3ms/step - loss: 0.2577 - accuracy: 0.9039\n",
            "Epoch 8/10\n",
            "600/600 [==============================] - 2s 3ms/step - loss: 0.2457 - accuracy: 0.9081\n",
            "Epoch 9/10\n",
            "600/600 [==============================] - 2s 3ms/step - loss: 0.2358 - accuracy: 0.9098\n",
            "Epoch 10/10\n",
            "600/600 [==============================] - 2s 4ms/step - loss: 0.2259 - accuracy: 0.9153\n",
            "313/313 [==============================] - 1s 2ms/step - loss: 0.3149 - accuracy: 0.8870\n",
            "Test accuracy: 0.8870000243186951\n"
          ]
        }
      ],
      "source": [
        "model1 = keras.Sequential([\n",
        "    keras.layers.Flatten(input_shape=(28, 28)),\n",
        "    keras.layers.Dense(256, activation=tf.nn.relu),\n",
        "    keras.layers.Dense(128, activation=tf.nn.relu),\n",
        "    keras.layers.Dense(10, activation=tf.nn.softmax)\n",
        "])\n",
        "\n",
        "\n",
        "model1.summary()\n",
        "\n",
        "model1.compile(loss='sparse_categorical_crossentropy',\n",
        "              optimizer=tf.keras.optimizers.Adam(),\n",
        "              metrics=['accuracy']) #The fraction of the images that are correctly classified.\n",
        "\n",
        "model1.fit(train_images, train_labels, batch_size =100, epochs=10)\n",
        "\n",
        "test_loss, test_acc = model1.evaluate(test_images, test_labels)\n",
        "\n",
        "print('Test accuracy:', test_acc)"
      ]
    },
    {
      "cell_type": "code",
      "execution_count": null,
      "metadata": {
        "colab": {
          "base_uri": "https://localhost:8080/"
        },
        "id": "VnnWzFX_nws1",
        "outputId": "785811ed-1943-4bdb-df9e-34eafb6afe4c"
      },
      "outputs": [
        {
          "name": "stdout",
          "output_type": "stream",
          "text": [
            "Model: \"sequential_2\"\n",
            "_________________________________________________________________\n",
            " Layer (type)                Output Shape              Param #   \n",
            "=================================================================\n",
            " flatten_2 (Flatten)         (None, 784)               0         \n",
            "                                                                 \n",
            " dense_5 (Dense)             (None, 256)               200960    \n",
            "                                                                 \n",
            " dense_6 (Dense)             (None, 128)               32896     \n",
            "                                                                 \n",
            " dense_7 (Dense)             (None, 10)                1290      \n",
            "                                                                 \n",
            "=================================================================\n",
            "Total params: 235146 (918.54 KB)\n",
            "Trainable params: 235146 (918.54 KB)\n",
            "Non-trainable params: 0 (0.00 Byte)\n",
            "_________________________________________________________________\n",
            "Epoch 1/9\n",
            "600/600 [==============================] - 3s 3ms/step - loss: 0.4989 - accuracy: 0.8232\n",
            "Epoch 2/9\n",
            "600/600 [==============================] - 2s 3ms/step - loss: 0.3616 - accuracy: 0.8678\n",
            "Epoch 3/9\n",
            "600/600 [==============================] - 2s 3ms/step - loss: 0.3236 - accuracy: 0.8810\n",
            "Epoch 4/9\n",
            "600/600 [==============================] - 2s 3ms/step - loss: 0.3020 - accuracy: 0.8879\n",
            "Epoch 5/9\n",
            "600/600 [==============================] - 2s 3ms/step - loss: 0.2839 - accuracy: 0.8941\n",
            "Epoch 6/9\n",
            "600/600 [==============================] - 2s 3ms/step - loss: 0.2690 - accuracy: 0.8993\n",
            "Epoch 7/9\n",
            "600/600 [==============================] - 2s 3ms/step - loss: 0.2585 - accuracy: 0.9032\n",
            "Epoch 8/9\n",
            "600/600 [==============================] - 2s 3ms/step - loss: 0.2467 - accuracy: 0.9075\n",
            "Epoch 9/9\n",
            "600/600 [==============================] - 2s 3ms/step - loss: 0.2371 - accuracy: 0.9100\n",
            "313/313 [==============================] - 1s 2ms/step - loss: 0.3180 - accuracy: 0.8863\n",
            "Test accuracy: 0.8863000273704529\n"
          ]
        }
      ],
      "source": [
        "model2 = keras.Sequential([\n",
        "    keras.layers.Flatten(input_shape=(28, 28)),\n",
        "    keras.layers.Dense(256, activation=tf.nn.relu),\n",
        "    keras.layers.Dense(128, activation=tf.nn.relu),\n",
        "    keras.layers.Dense(10, activation=tf.nn.softmax)\n",
        "])\n",
        "\n",
        "\n",
        "model2.summary()\n",
        "\n",
        "model2.compile(loss='sparse_categorical_crossentropy',\n",
        "              optimizer=tf.keras.optimizers.Adam(),\n",
        "              metrics=['accuracy']) #The fraction of the images that are correctly classified.\n",
        "\n",
        "model2.fit(train_images, train_labels, batch_size =100, epochs=9)\n",
        "\n",
        "test_loss, test_acc = model2.evaluate(test_images, test_labels)\n",
        "\n",
        "print('Test accuracy:', test_acc)"
      ]
    },
    {
      "cell_type": "code",
      "execution_count": null,
      "metadata": {
        "colab": {
          "base_uri": "https://localhost:8080/"
        },
        "id": "BbKXVkDhnwb0",
        "outputId": "6dcb8df8-280b-4c26-8aeb-28c32face5c0"
      },
      "outputs": [
        {
          "name": "stdout",
          "output_type": "stream",
          "text": [
            "Model: \"sequential_3\"\n",
            "_________________________________________________________________\n",
            " Layer (type)                Output Shape              Param #   \n",
            "=================================================================\n",
            " flatten_3 (Flatten)         (None, 784)               0         \n",
            "                                                                 \n",
            " dense_8 (Dense)             (None, 256)               200960    \n",
            "                                                                 \n",
            " dense_9 (Dense)             (None, 128)               32896     \n",
            "                                                                 \n",
            " dense_10 (Dense)            (None, 10)                1290      \n",
            "                                                                 \n",
            "=================================================================\n",
            "Total params: 235146 (918.54 KB)\n",
            "Trainable params: 235146 (918.54 KB)\n",
            "Non-trainable params: 0 (0.00 Byte)\n",
            "_________________________________________________________________\n",
            "Epoch 1/11\n",
            "600/600 [==============================] - 3s 3ms/step - loss: 0.4952 - accuracy: 0.8233\n",
            "Epoch 2/11\n",
            "600/600 [==============================] - 2s 3ms/step - loss: 0.3613 - accuracy: 0.8673\n",
            "Epoch 3/11\n",
            "600/600 [==============================] - 2s 3ms/step - loss: 0.3242 - accuracy: 0.8809\n",
            "Epoch 4/11\n",
            "600/600 [==============================] - 2s 3ms/step - loss: 0.3000 - accuracy: 0.8893\n",
            "Epoch 5/11\n",
            "600/600 [==============================] - 2s 3ms/step - loss: 0.2829 - accuracy: 0.8948\n",
            "Epoch 6/11\n",
            "600/600 [==============================] - 2s 3ms/step - loss: 0.2693 - accuracy: 0.8997\n",
            "Epoch 7/11\n",
            "600/600 [==============================] - 2s 3ms/step - loss: 0.2571 - accuracy: 0.9046\n",
            "Epoch 8/11\n",
            "600/600 [==============================] - 2s 3ms/step - loss: 0.2433 - accuracy: 0.9090\n",
            "Epoch 9/11\n",
            "600/600 [==============================] - 2s 3ms/step - loss: 0.2370 - accuracy: 0.9109\n",
            "Epoch 10/11\n",
            "600/600 [==============================] - 2s 3ms/step - loss: 0.2260 - accuracy: 0.9140\n",
            "Epoch 11/11\n",
            "600/600 [==============================] - 2s 3ms/step - loss: 0.2175 - accuracy: 0.9172\n",
            "313/313 [==============================] - 1s 2ms/step - loss: 0.3395 - accuracy: 0.8844\n",
            "Test accuracy: 0.8844000101089478\n"
          ]
        }
      ],
      "source": [
        "model3 = keras.Sequential([\n",
        "    keras.layers.Flatten(input_shape=(28, 28)),\n",
        "    keras.layers.Dense(256, activation=tf.nn.relu),\n",
        "    keras.layers.Dense(128, activation=tf.nn.relu),\n",
        "    keras.layers.Dense(10, activation=tf.nn.softmax)\n",
        "])\n",
        "\n",
        "\n",
        "model3.summary()\n",
        "\n",
        "model3.compile(loss='sparse_categorical_crossentropy',\n",
        "              optimizer=tf.keras.optimizers.Adam(),\n",
        "              metrics=['accuracy']) #The fraction of the images that are correctly classified.\n",
        "\n",
        "model3.fit(train_images, train_labels, batch_size =100, epochs=11)\n",
        "\n",
        "test_loss, test_acc = model3.evaluate(test_images, test_labels)\n",
        "\n",
        "print('Test accuracy:', test_acc)"
      ]
    },
    {
      "cell_type": "code",
      "execution_count": null,
      "metadata": {
        "colab": {
          "base_uri": "https://localhost:8080/"
        },
        "id": "Rr56pc1ttFjL",
        "outputId": "1d126431-c5bf-4369-c981-f24dfdff48e4"
      },
      "outputs": [
        {
          "name": "stdout",
          "output_type": "stream",
          "text": [
            "Epoch 1/8\n",
            "600/600 [==============================] - 5s 4ms/step - loss: 0.6208 - accuracy: 0.7942\n",
            "Epoch 2/8\n",
            "600/600 [==============================] - 2s 3ms/step - loss: 0.3896 - accuracy: 0.8614\n",
            "Epoch 3/8\n",
            "600/600 [==============================] - 2s 3ms/step - loss: 0.3435 - accuracy: 0.8763\n",
            "Epoch 4/8\n",
            "600/600 [==============================] - 2s 3ms/step - loss: 0.3186 - accuracy: 0.8845\n",
            "Epoch 5/8\n",
            "600/600 [==============================] - 2s 3ms/step - loss: 0.2971 - accuracy: 0.8919\n",
            "Epoch 6/8\n",
            "600/600 [==============================] - 2s 3ms/step - loss: 0.2798 - accuracy: 0.8965\n",
            "Epoch 7/8\n",
            "600/600 [==============================] - 3s 4ms/step - loss: 0.2674 - accuracy: 0.9012\n",
            "Epoch 8/8\n",
            "600/600 [==============================] - 2s 3ms/step - loss: 0.2554 - accuracy: 0.9051\n",
            "313/313 [==============================] - 1s 2ms/step - loss: 0.3145 - accuracy: 0.8865\n",
            "Test accuracy: 0.8865000009536743\n"
          ]
        }
      ],
      "source": [
        "model4 = keras.Sequential([\n",
        "    keras.layers.Flatten(input_shape=(28, 28)),\n",
        "    keras.layers.Dense(256, activation=tf.nn.relu),\n",
        "    keras.layers.Dense(64, activation=tf.nn.relu),\n",
        "    keras.layers.Dense(64, activation=tf.nn.sigmoid),\n",
        "    keras.layers.Dense(10, activation=tf.nn.softmax)\n",
        "])\n",
        "\n",
        "model4.compile(loss='sparse_categorical_crossentropy',\n",
        "              optimizer=tf.keras.optimizers.Adam(),\n",
        "              metrics=['accuracy']) #The fraction of the images that are correctly classified.\n",
        "\n",
        "model4.fit(train_images, train_labels, batch_size =100, epochs=8)\n",
        "\n",
        "test_loss, test_acc = model4.evaluate(test_images, test_labels)\n",
        "\n",
        "print('Test accuracy:', test_acc)"
      ]
    },
    {
      "cell_type": "code",
      "execution_count": null,
      "metadata": {
        "colab": {
          "base_uri": "https://localhost:8080/"
        },
        "id": "mIrmOqf4tFao",
        "outputId": "db12e511-d585-4f4c-a546-0e39fd6a38c1"
      },
      "outputs": [
        {
          "name": "stdout",
          "output_type": "stream",
          "text": [
            "Epoch 1/10\n",
            "600/600 [==============================] - 2s 3ms/step - loss: 0.4991 - accuracy: 0.8231\n",
            "Epoch 2/10\n",
            "600/600 [==============================] - 2s 3ms/step - loss: 0.3623 - accuracy: 0.8670\n",
            "Epoch 3/10\n",
            "600/600 [==============================] - 2s 3ms/step - loss: 0.3269 - accuracy: 0.8790\n",
            "Epoch 4/10\n",
            "600/600 [==============================] - 2s 4ms/step - loss: 0.3023 - accuracy: 0.8877\n",
            "Epoch 5/10\n",
            "600/600 [==============================] - 2s 3ms/step - loss: 0.2853 - accuracy: 0.8942\n",
            "Epoch 6/10\n",
            "600/600 [==============================] - 2s 3ms/step - loss: 0.2702 - accuracy: 0.8992\n",
            "Epoch 7/10\n",
            "600/600 [==============================] - 2s 3ms/step - loss: 0.2586 - accuracy: 0.9035\n",
            "Epoch 8/10\n",
            "600/600 [==============================] - 2s 3ms/step - loss: 0.2460 - accuracy: 0.9082\n",
            "Epoch 9/10\n",
            "600/600 [==============================] - 2s 3ms/step - loss: 0.2381 - accuracy: 0.9096\n",
            "Epoch 10/10\n",
            "600/600 [==============================] - 2s 3ms/step - loss: 0.2242 - accuracy: 0.9161\n",
            "313/313 [==============================] - 1s 2ms/step - loss: 0.3114 - accuracy: 0.8902\n",
            "Test accuracy: 0.8902000188827515\n"
          ]
        }
      ],
      "source": [
        "model5 = keras.Sequential([\n",
        "    keras.layers.Flatten(input_shape=(28, 28)),\n",
        "    keras.layers.Dense(256, activation=tf.nn.relu),\n",
        "    keras.layers.Dense(128, activation=tf.nn.relu),\n",
        "    keras.layers.Dense(10, activation=tf.nn.softmax)\n",
        "])\n",
        "\n",
        "model5.compile(loss='sparse_categorical_crossentropy',\n",
        "              optimizer=tf.keras.optimizers.Adam(),\n",
        "              metrics=['accuracy']) #The fraction of the images that are correctly classified.\n",
        "\n",
        "model5.fit(train_images, train_labels, batch_size =100, epochs=10)\n",
        "\n",
        "test_loss, test_acc = model5.evaluate(test_images, test_labels)\n",
        "\n",
        "print('Test accuracy:', test_acc)"
      ]
    },
    {
      "cell_type": "code",
      "execution_count": null,
      "metadata": {
        "colab": {
          "base_uri": "https://localhost:8080/"
        },
        "id": "vVXghAcatFPj",
        "outputId": "215b1c0b-f8ee-4c40-cdaa-5f2b1ae782fc"
      },
      "outputs": [
        {
          "name": "stdout",
          "output_type": "stream",
          "text": [
            "Epoch 1/30\n",
            "600/600 [==============================] - 3s 3ms/step - loss: 0.4507 - accuracy: 0.8380\n",
            "Epoch 2/30\n",
            "600/600 [==============================] - 2s 4ms/step - loss: 0.3336 - accuracy: 0.8775\n",
            "Epoch 3/30\n",
            "600/600 [==============================] - 2s 4ms/step - loss: 0.3019 - accuracy: 0.8894\n",
            "Epoch 4/30\n",
            "600/600 [==============================] - 2s 3ms/step - loss: 0.2802 - accuracy: 0.8959\n",
            "Epoch 5/30\n",
            "600/600 [==============================] - 2s 4ms/step - loss: 0.2627 - accuracy: 0.9013\n",
            "Epoch 6/30\n",
            "600/600 [==============================] - 2s 3ms/step - loss: 0.2461 - accuracy: 0.9076\n",
            "Epoch 7/30\n",
            "600/600 [==============================] - 2s 3ms/step - loss: 0.2358 - accuracy: 0.9114\n",
            "Epoch 8/30\n",
            "600/600 [==============================] - 2s 4ms/step - loss: 0.2230 - accuracy: 0.9164\n",
            "Epoch 9/30\n",
            "600/600 [==============================] - 2s 4ms/step - loss: 0.2133 - accuracy: 0.9192\n",
            "Epoch 10/30\n",
            "600/600 [==============================] - 2s 4ms/step - loss: 0.2007 - accuracy: 0.9226\n",
            "Epoch 11/30\n",
            "600/600 [==============================] - 2s 3ms/step - loss: 0.1935 - accuracy: 0.9257\n",
            "Epoch 12/30\n",
            "600/600 [==============================] - 2s 4ms/step - loss: 0.1831 - accuracy: 0.9302\n",
            "Epoch 13/30\n",
            "600/600 [==============================] - 3s 4ms/step - loss: 0.1786 - accuracy: 0.9320\n",
            "Epoch 14/30\n",
            "600/600 [==============================] - 3s 4ms/step - loss: 0.1696 - accuracy: 0.9344\n",
            "Epoch 15/30\n",
            "600/600 [==============================] - 2s 4ms/step - loss: 0.1619 - accuracy: 0.9392\n",
            "Epoch 16/30\n",
            "600/600 [==============================] - 2s 4ms/step - loss: 0.1553 - accuracy: 0.9411\n",
            "Epoch 17/30\n",
            "600/600 [==============================] - 3s 4ms/step - loss: 0.1499 - accuracy: 0.9431\n",
            "Epoch 18/30\n",
            "600/600 [==============================] - 2s 4ms/step - loss: 0.1434 - accuracy: 0.9449\n",
            "Epoch 19/30\n",
            "600/600 [==============================] - 3s 4ms/step - loss: 0.1380 - accuracy: 0.9468\n",
            "Epoch 20/30\n",
            "600/600 [==============================] - 2s 4ms/step - loss: 0.1336 - accuracy: 0.9492\n",
            "Epoch 21/30\n",
            "600/600 [==============================] - 2s 4ms/step - loss: 0.1286 - accuracy: 0.9511\n",
            "Epoch 22/30\n",
            "600/600 [==============================] - 2s 3ms/step - loss: 0.1230 - accuracy: 0.9527\n",
            "Epoch 23/30\n",
            "600/600 [==============================] - 2s 4ms/step - loss: 0.1149 - accuracy: 0.9558\n",
            "Epoch 24/30\n",
            "600/600 [==============================] - 2s 4ms/step - loss: 0.1146 - accuracy: 0.9559\n",
            "Epoch 25/30\n",
            "600/600 [==============================] - 2s 4ms/step - loss: 0.1113 - accuracy: 0.9575\n",
            "Epoch 26/30\n",
            "600/600 [==============================] - 2s 3ms/step - loss: 0.1056 - accuracy: 0.9592\n",
            "Epoch 27/30\n",
            "600/600 [==============================] - 2s 3ms/step - loss: 0.0998 - accuracy: 0.9614\n",
            "Epoch 28/30\n",
            "600/600 [==============================] - 2s 3ms/step - loss: 0.1012 - accuracy: 0.9607\n",
            "Epoch 29/30\n",
            "600/600 [==============================] - 2s 3ms/step - loss: 0.0971 - accuracy: 0.9621\n",
            "Epoch 30/30\n",
            "600/600 [==============================] - 2s 4ms/step - loss: 0.0915 - accuracy: 0.9657\n",
            "313/313 [==============================] - 1s 3ms/step - loss: 0.4413 - accuracy: 0.8998\n",
            "Test accuracy: 0.8998000025749207\n"
          ]
        }
      ],
      "source": [
        "model6 = keras.Sequential([\n",
        "    keras.layers.Flatten(input_shape=(28, 28)),\n",
        "    keras.layers.Dense(1024, activation=tf.nn.relu6),\n",
        "    keras.layers.Dense(256, activation=tf.nn.relu6),\n",
        "    keras.layers.Dense(10, activation=tf.nn.softmax)\n",
        "])\n",
        "model6.compile(loss='sparse_categorical_crossentropy',\n",
        "              optimizer=tf.keras.optimizers.Nadam(learning_rate= 0.001),\n",
        "              metrics=['accuracy']) #The fraction of the images that are correctly classified.\n",
        "model6.fit(train_images, train_labels, batch_size =100, epochs=30)\n",
        "test_loss, test_acc = model6.evaluate(test_images, test_labels)\n",
        "print('Test accuracy:', test_acc)"
      ]
    },
    {
      "cell_type": "code",
      "execution_count": null,
      "metadata": {
        "colab": {
          "base_uri": "https://localhost:8080/"
        },
        "id": "PJ_-v3HrtEns",
        "outputId": "fa563ce9-9eca-47b9-f0eb-9015b69bb693"
      },
      "outputs": [
        {
          "name": "stdout",
          "output_type": "stream",
          "text": [
            "Epoch 1/30\n",
            "600/600 [==============================] - 4s 4ms/step - loss: 0.4426 - accuracy: 0.8403\n",
            "Epoch 2/30\n",
            "600/600 [==============================] - 2s 4ms/step - loss: 0.3302 - accuracy: 0.8788\n",
            "Epoch 3/30\n",
            "600/600 [==============================] - 2s 4ms/step - loss: 0.2983 - accuracy: 0.8901\n",
            "Epoch 4/30\n",
            "600/600 [==============================] - 2s 4ms/step - loss: 0.2775 - accuracy: 0.8968\n",
            "Epoch 5/30\n",
            "600/600 [==============================] - 3s 4ms/step - loss: 0.2588 - accuracy: 0.9033\n",
            "Epoch 6/30\n",
            "600/600 [==============================] - 2s 4ms/step - loss: 0.2419 - accuracy: 0.9095\n",
            "Epoch 7/30\n",
            "600/600 [==============================] - 2s 4ms/step - loss: 0.2306 - accuracy: 0.9130\n",
            "Epoch 8/30\n",
            "600/600 [==============================] - 2s 4ms/step - loss: 0.2183 - accuracy: 0.9178\n",
            "Epoch 9/30\n",
            "600/600 [==============================] - 2s 4ms/step - loss: 0.2111 - accuracy: 0.9192\n",
            "Epoch 10/30\n",
            "600/600 [==============================] - 2s 4ms/step - loss: 0.1972 - accuracy: 0.9241\n",
            "Epoch 11/30\n",
            "600/600 [==============================] - 2s 4ms/step - loss: 0.1902 - accuracy: 0.9273\n",
            "Epoch 12/30\n",
            "600/600 [==============================] - 2s 4ms/step - loss: 0.1818 - accuracy: 0.9305\n",
            "Epoch 13/30\n",
            "600/600 [==============================] - 2s 4ms/step - loss: 0.1752 - accuracy: 0.9338\n",
            "Epoch 14/30\n",
            "600/600 [==============================] - 2s 4ms/step - loss: 0.1665 - accuracy: 0.9362\n",
            "Epoch 15/30\n",
            "600/600 [==============================] - 2s 4ms/step - loss: 0.1580 - accuracy: 0.9399\n",
            "Epoch 16/30\n",
            "600/600 [==============================] - 3s 4ms/step - loss: 0.1541 - accuracy: 0.9415\n",
            "Epoch 17/30\n",
            "600/600 [==============================] - 2s 4ms/step - loss: 0.1433 - accuracy: 0.9447\n",
            "Epoch 18/30\n",
            "600/600 [==============================] - 2s 4ms/step - loss: 0.1395 - accuracy: 0.9455\n",
            "Epoch 19/30\n",
            "600/600 [==============================] - 2s 4ms/step - loss: 0.1343 - accuracy: 0.9489\n",
            "Epoch 20/30\n",
            "600/600 [==============================] - 2s 4ms/step - loss: 0.1290 - accuracy: 0.9506\n",
            "Epoch 21/30\n",
            "600/600 [==============================] - 3s 4ms/step - loss: 0.1254 - accuracy: 0.9516\n",
            "Epoch 22/30\n",
            "600/600 [==============================] - 3s 4ms/step - loss: 0.1187 - accuracy: 0.9541\n",
            "Epoch 23/30\n",
            "600/600 [==============================] - 2s 4ms/step - loss: 0.1130 - accuracy: 0.9567\n",
            "Epoch 24/30\n",
            "600/600 [==============================] - 2s 4ms/step - loss: 0.1072 - accuracy: 0.9588\n",
            "Epoch 25/30\n",
            "600/600 [==============================] - 2s 4ms/step - loss: 0.1076 - accuracy: 0.9585\n",
            "Epoch 26/30\n",
            "600/600 [==============================] - 2s 4ms/step - loss: 0.1038 - accuracy: 0.9599\n",
            "Epoch 27/30\n",
            "600/600 [==============================] - 3s 4ms/step - loss: 0.0957 - accuracy: 0.9633\n",
            "Epoch 28/30\n",
            "600/600 [==============================] - 2s 4ms/step - loss: 0.0929 - accuracy: 0.9644\n",
            "Epoch 29/30\n",
            "600/600 [==============================] - 2s 4ms/step - loss: 0.0899 - accuracy: 0.9651\n",
            "Epoch 30/30\n",
            "600/600 [==============================] - 2s 4ms/step - loss: 0.0889 - accuracy: 0.9664\n",
            "313/313 [==============================] - 1s 2ms/step - loss: 0.4716 - accuracy: 0.9003\n",
            "Test accuracy: 0.9003000259399414\n"
          ]
        }
      ],
      "source": [
        "model6 = keras.Sequential([\n",
        "    keras.layers.Flatten(input_shape=(28, 28)),\n",
        "    keras.layers.Dense(1024, activation=tf.nn.relu6),\n",
        "    keras.layers.Dense(512, activation=tf.nn.relu6),\n",
        "    keras.layers.Dense(10, activation=tf.nn.softmax)\n",
        "])\n",
        "model6.compile(loss='sparse_categorical_crossentropy',\n",
        "              optimizer=tf.keras.optimizers.Nadam(learning_rate= 0.001),\n",
        "              metrics=['accuracy']) #The fraction of the images that are correctly classified.\n",
        "model6.fit(train_images, train_labels, batch_size =100, epochs=30)\n",
        "test_loss, test_acc = model6.evaluate(test_images, test_labels)\n",
        "print('Test accuracy:', test_acc)"
      ]
    },
    {
      "cell_type": "code",
      "execution_count": null,
      "metadata": {
        "id": "KsONVAJJ_UH0"
      },
      "outputs": [],
      "source": []
    },
    {
      "cell_type": "markdown",
      "metadata": {
        "id": "N8ninG_VmvbN"
      },
      "source": [
        "---\n",
        "\n",
        "# Copyright 2018 The TensorFlow Authors."
      ]
    },
    {
      "cell_type": "code",
      "execution_count": null,
      "metadata": {
        "cellView": "form",
        "id": "XzEU3kdsl41k"
      },
      "outputs": [],
      "source": [
        "#@title Licensed under the Apache License, Version 2.0 (the \"License\");\n",
        "# you may not use this file except in compliance with the License.\n",
        "# You may obtain a copy of the License at\n",
        "#\n",
        "# https://www.apache.org/licenses/LICENSE-2.0\n",
        "#\n",
        "# Unless required by applicable law or agreed to in writing, software\n",
        "# distributed under the License is distributed on an \"AS IS\" BASIS,\n",
        "# WITHOUT WARRANTIES OR CONDITIONS OF ANY KIND, either express or implied.\n",
        "# See the License for the specific language governing permissions and\n",
        "# limitations under the License."
      ]
    },
    {
      "cell_type": "code",
      "execution_count": null,
      "metadata": {
        "cellView": "form",
        "id": "vmQidcwJmAX2"
      },
      "outputs": [],
      "source": [
        "#@title MIT License\n",
        "#\n",
        "# Copyright (c) 2017 François Chollet\n",
        "#\n",
        "# Permission is hereby granted, free of charge, to any person obtaining a\n",
        "# copy of this software and associated documentation files (the \"Software\"),\n",
        "# to deal in the Software without restriction, including without limitation\n",
        "# the rights to use, copy, modify, merge, publish, distribute, sublicense,\n",
        "# and/or sell copies of the Software, and to permit persons to whom the\n",
        "# Software is furnished to do so, subject to the following conditions:\n",
        "#\n",
        "# The above copyright notice and this permission notice shall be included in\n",
        "# all copies or substantial portions of the Software.\n",
        "#\n",
        "# THE SOFTWARE IS PROVIDED \"AS IS\", WITHOUT WARRANTY OF ANY KIND, EXPRESS OR\n",
        "# IMPLIED, INCLUDING BUT NOT LIMITED TO THE WARRANTIES OF MERCHANTABILITY,\n",
        "# FITNESS FOR A PARTICULAR PURPOSE AND NONINFRINGEMENT. IN NO EVENT SHALL\n",
        "# THE AUTHORS OR COPYRIGHT HOLDERS BE LIABLE FOR ANY CLAIM, DAMAGES OR OTHER\n",
        "# LIABILITY, WHETHER IN AN ACTION OF CONTRACT, TORT OR OTHERWISE, ARISING\n",
        "# FROM, OUT OF OR IN CONNECTION WITH THE SOFTWARE OR THE USE OR OTHER\n",
        "# DEALINGS IN THE SOFTWARE."
      ]
    }
  ],
  "metadata": {
    "accelerator": "GPU",
    "colab": {
      "provenance": []
    },
    "kernelspec": {
      "display_name": "Python 3",
      "language": "python",
      "name": "python3"
    },
    "language_info": {
      "codemirror_mode": {
        "name": "ipython",
        "version": 3
      },
      "file_extension": ".py",
      "mimetype": "text/x-python",
      "name": "python",
      "nbconvert_exporter": "python",
      "pygments_lexer": "ipython3",
      "version": "3.7.0"
    }
  },
  "nbformat": 4,
  "nbformat_minor": 0
}
