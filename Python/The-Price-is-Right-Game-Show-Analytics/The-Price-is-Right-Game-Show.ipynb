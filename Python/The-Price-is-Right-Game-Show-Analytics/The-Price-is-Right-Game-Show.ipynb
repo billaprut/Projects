{
 "cells": [
  {
   "cell_type": "markdown",
   "id": "d328a0aa-560a-4f43-9b86-c961c3b0046a",
   "metadata": {},
   "source": [
    "Name: Pruthvi Shyam Billa"
   ]
  },
  {
   "cell_type": "markdown",
   "id": "6e4dba0d-19bd-4c2b-b51c-06de02c9a136",
   "metadata": {},
   "source": [
    "Course: BUDT704"
   ]
  },
  {
   "cell_type": "markdown",
   "id": "acd0a33a-550b-4937-90f0-30dc502fbb29",
   "metadata": {},
   "source": [
    "Section: 501"
   ]
  },
  {
   "cell_type": "markdown",
   "id": "2086f9e9-ce04-408e-a3e1-62cfb76f42b1",
   "metadata": {},
   "source": [
    "Date: 09/16/22"
   ]
  },
  {
   "cell_type": "markdown",
   "id": "4f014b3b-e2c9-4860-8e87-771bea06a675",
   "metadata": {
    "tags": []
   },
   "source": [
    "\n",
    "# The Price is Right Game Show\n",
    "\n",
    "The longest-running game show in television history! It features a wide variety of games and contests.\n",
    "\n",
    "In the \"The Showcase Showdown\" event, the contestants will spin a wheel called \"The Big Wheel\" in the order of value of their winnings thus far (the contestant who won the most spin last).\n",
    "The winners of this event will advance to the final round of the game show.\n",
    "My professor has expressed his love for the game shows. Analyzing the event's happenings will help understand if a player has a better chance of winning the game. \n",
    "\n",
    "\n"
   ]
  },
  {
   "cell_type": "markdown",
   "id": "cdf918a4-653e-4140-b195-892eaae81e78",
   "metadata": {},
   "source": [
    "Gameplay rules:\n",
    "\n",
    "1. Each game consists of three players. Maximum attempts for spinning the wheel by each player are two times.\n",
    "\n",
    "2. Any player whose score exceeds $1.00 busts and automatically loses.\n",
    "\n",
    "3. If the first two players are busted, the third player will only spin the wheel once. \n",
    "\n",
    "4. Stop score decides if a player has to spin a second time.\n",
    "\n",
    "5. If a player's score (p1) is greater than the stop score(s1), then the next player's stop score (s2) will be the same as the previous player's score (p1). Applicable only when the previous player is not busted.\n",
    "\n",
    "6. Each player has to spin the wheel a second time if the score is less than the stop score.\n",
    "\n",
    "7. In case of a tie- players with the same score will have an additional spin-off until we have a winner. \n",
    "\n",
    "8. The player with a score closest to $1.00 wins the event.\n",
    "\n"
   ]
  },
  {
   "cell_type": "code",
   "execution_count": 1,
   "id": "4ddb3b0f-b6e3-46cc-b717-a6b9df5125eb",
   "metadata": {
    "tags": []
   },
   "outputs": [],
   "source": [
    "# Values on the wheel\n",
    "\n",
    "my_list = []\n",
    "\n",
    "# loop for making a temporary list with integer values\n",
    "for value in range(0,20):\n",
    "    value += 1\n",
    "    my_list.append(value)\n",
    "\n",
    "# create a list having all values present on the wheel    \n",
    "wheel_list = list(map(lambda x: x / 20, my_list))\n"
   ]
  },
  {
   "cell_type": "markdown",
   "id": "47357b5e-ae89-4322-8df3-c020877cf7af",
   "metadata": {},
   "source": [
    "There are three functions price_right, event, and game_simulation defined in this notebook. "
   ]
  },
  {
   "cell_type": "markdown",
   "id": "11dd8612-3384-42fa-aba1-f769008e5fcc",
   "metadata": {},
   "source": [
    "High level representation of functions flow : caller-->called :\n",
    "game_simulation()-->event()-->price_right()"
   ]
  },
  {
   "cell_type": "markdown",
   "id": "5f12d908-c1b6-4804-b9ce-d4f1229ebb8e",
   "metadata": {},
   "source": [
    "Function price_right() decides if contestants are busted, and returns all spin values of the players to the calling function."
   ]
  },
  {
   "cell_type": "code",
   "execution_count": 2,
   "id": "6743dc6c-7562-467f-92c0-888ca1f3c25e",
   "metadata": {},
   "outputs": [],
   "source": [
    "# Function 1 - Determines the spin values of all players.\n",
    "\n",
    "def price_right(wheel_list,stop_score):\n",
    "\n",
    "    # import module to generate random numbers for the event\n",
    "    import random as rand\n",
    "    \n",
    "    # global variables declaration\n",
    "    global list_prt\n",
    "    global busted_prt\n",
    "    global player1_busted_prt\n",
    "    global player3_cheat_prt\n",
    "    \n",
    "    # variables initialization\n",
    "    first_spin_prt= 0\n",
    "    second_spin_prt = 0\n",
    "    player1_busted_prt = 0\n",
    "    player3_cheat_prt = 0    \n",
    "    list_prt =[0,0,0]\n",
    "    busted_prt = [False, False, False]\n",
    "    \n",
    "    # store values from calling function into local variables\n",
    "    wheel_list_prt = wheel_list\n",
    "    stop_score_prt = stop_score\n",
    "    median_value_prt = stop_score\n",
    "    \n",
    "    # create a list with spin values of each player\n",
    "    for index in range(1,4):\n",
    "    \n",
    "        index1 = index - 1\n",
    "        \n",
    "        # player's first spin of the wheel\n",
    "        wheel_score_prt = rand.choice(wheel_list_prt) \n",
    "        first_spin_prt = wheel_score_prt\n",
    "        \n",
    "        \n",
    "        # to determine if player3 needs a second spin of the wheel\n",
    "        if (busted_prt[0]) and (busted_prt[1]):\n",
    "            \n",
    "            # yes, increment the counter and initialize the value of the second spin.\n",
    "            player3_cheat_prt += 1\n",
    "            second_spin_prt = 0\n",
    "            \n",
    "            print(f'Player {index} spins a ${wheel_score_prt:0.2f} and chooses to stop.')\n",
    "\n",
    "        else:\n",
    "            \n",
    "            # Case scenario 2: optimizing first player chances of winning\n",
    "            if (not (fair_game)):\n",
    "                \n",
    "                stop_score_prt = min(wheel_list)\n",
    "\n",
    " \n",
    "            # player's spin score exceeds the stop score?\n",
    "            if (wheel_score_prt < stop_score_prt):\n",
    "                \n",
    "                # no, player's second spin of the wheel\n",
    "                player_total_score = wheel_score_prt\n",
    "                \n",
    "                wheel_score_prt = rand.choice(wheel_list)\n",
    "                second_spin_prt = wheel_score_prt\n",
    "\n",
    "                # determine the total of both the spins to display the event happenings\n",
    "                player_total_score += wheel_score_prt\n",
    "\n",
    "                # player busted?\n",
    "                if (player_total_score > 1):\n",
    "                    \n",
    "                    # yes, then set the indicator \n",
    "                    busted_prt[index1] = True\n",
    "                    \n",
    "                    \n",
    "                # update the stop score for the next player following the gameplay rules  \n",
    "                if (player_total_score > stop_score_prt) and (not busted_prt[index - 1]):\n",
    "                    stop_score_prt = player_total_score\n",
    "                \n",
    "                # proper display formatting based on if the stop score is updated\n",
    "                if (stop_score_prt == median_value_prt):\n",
    "                    print(f'Player {index} spins a ${first_spin_prt:0.2f} and then spins a ${second_spin_prt:0.2f}, totaling ${player_total_score:0.2f}')\n",
    "                else:\n",
    "                    print(f'Player {index} spins a ${first_spin_prt:0.2f} and must spin again, spinning a ${second_spin_prt:0.2f}, totaling ${player_total_score:0.2f}')\n",
    "            else:\n",
    "                \n",
    "                # player with only one spin\n",
    "                stop_score_prt = wheel_score_prt\n",
    "                second_spin_prt = 0\n",
    "                print(f'Player {index} spins a ${first_spin_prt:0.2f} and chooses to stop, totaling ${first_spin_prt:0.2f}')\n",
    "        \n",
    "        # store spin values in a list\n",
    "        list_prt[index1] = [first_spin_prt,second_spin_prt]\n",
    "    \n",
    "    #special case: count the number of times player1 loses automatically\n",
    "    if (busted_prt[0]):\n",
    "        player1_busted_prt += 1    \n",
    "    \n",
    "    # send spin values of all the players in a list to the calling function\n",
    "    return list_prt    \n",
    "\n",
    "  "
   ]
  },
  {
   "cell_type": "markdown",
   "id": "69aa697b-d293-41a0-b91f-e0ef7f6034e2",
   "metadata": {},
   "source": [
    "Function event() determines the winner of the game, includes tie-break scenarios and returns the following values to the calling function:\n",
    "1. Number of times player1 got busted- total spin score greater than $1.00\n",
    "\n",
    "2. Number of times player3 spins the wheel only once when the first two players are busted"
   ]
  },
  {
   "cell_type": "code",
   "execution_count": 3,
   "id": "f87f3bc9-6304-4a4f-8665-7c3f27407f49",
   "metadata": {},
   "outputs": [],
   "source": [
    "# Function 2 - Determines the winner \n",
    "\n",
    "def event():\n",
    "\n",
    "    # import module to generate random numbers for the event\n",
    "    import random as rand\n",
    "    \n",
    "    # global variables declaration\n",
    "    global index\n",
    "    global list_evt\n",
    "    global player1_busted_evt\n",
    "    global player3_cheat_evt\n",
    "    \n",
    "    # variables initialization    \n",
    "    player1_busted_evt = 0\n",
    "    player3_cheat_evt = 0\n",
    "    player = [0,0,0]\n",
    "    player_cmp_evt = [0,0,0]\n",
    "    winner = False\n",
    "    busted_evt = [False,False,False]\n",
    "\n",
    "    # determine the median value of the scores on the wheel\n",
    "    stop_score_evt = median_value \n",
    "\n",
    "    \n",
    "    # Function 1 call to get spin values of all players \n",
    "    price_right(wheel_list,stop_score_evt)\n",
    "\n",
    "    # copy values from Function 1 to local variables for further analysis\n",
    "    busted_evt = busted_prt\n",
    "    player1_busted_evt = player1_busted_prt\n",
    "    player3_cheat_evt = player3_cheat_prt\n",
    "\n",
    "    # calculate the total spin value of each player and store it in a list\n",
    "    for index in range(0,3):\n",
    "        player[index] = list_prt[index][0] + list_prt[index][1]\n",
    "\n",
    "    # temporary variable to compare player's total value  \n",
    "    player_cmp_evt = player\n",
    "\n",
    "\n",
    "    # temporary list will be updated with value 0 for the busted player.\n",
    "    for index1 in range(0,3):\n",
    "        if (busted_evt[index1]):\n",
    "            player_cmp_evt[index1] = 0        \n",
    "\n",
    "\n",
    "    # compare player values, set indicator, and display the winner\n",
    "    \n",
    "    # did player1 score higher than the other two players?\n",
    "    if( (player_cmp_evt[0] > player_cmp_evt[1]) and (player_cmp_evt[0] > player_cmp_evt[2]) and (not busted_evt[0]) ):\n",
    "            print(f'The winner is Player 1')\n",
    "            winner = True\n",
    "            \n",
    "    # did player2 score higher than the other two players?           \n",
    "    if( (player_cmp_evt[1] > player_cmp_evt[0]) and (player_cmp_evt[1] > player_cmp_evt[2]) and (not busted_evt[1]) ):   \n",
    "            print(f'The winner is Player 2')\n",
    "            winner = True\n",
    "            \n",
    "    # did player3 score higher than the other two players?            \n",
    "    if( (player_cmp_evt[2] > player_cmp_evt[0]) and (player_cmp_evt[2] > player_cmp_evt[1]) and (not busted_evt[2]) ):   \n",
    "            print(f'The winner is Player 3')\n",
    "            winner = True\n",
    "\n",
    "# Case scenario 1: Tie break\n",
    "    \n",
    "    # winner not decided yet\n",
    "    if ( not winner ):\n",
    "        \n",
    "        # temporary variable to compare player's total value during tie break \n",
    "        player_tie = player\n",
    "        \n",
    "        # counter/index variables initialization \n",
    "        counter1 = 0\n",
    "        counter2 = 1\n",
    "\n",
    "\n",
    "        while ( counter1 < 2 ):\n",
    "            \n",
    "                # all three players still in the game?\n",
    "                if( not (busted_evt[0] and busted_evt[1] and busted_evt[2]) ):\n",
    "        \n",
    "                    # yes\n",
    "                    # Continue this process when all three players have the same scores\n",
    "                    while(player[0] == player[1] == player[2]):\n",
    "                        \n",
    "                        # players additional spin-off in the tie break, and to display event happenings\n",
    "                        wheel_score = rand.choice(wheel_list)\n",
    "                        player_tie[0] = wheel_score\n",
    "                        print(f'Player 1 spins a ${wheel_score:0.2f}, totaling ${wheel_score:0.2f}')\n",
    "            \n",
    "                        wheel_score = rand.choice(wheel_list)\n",
    "                        player_tie[1] = wheel_score\n",
    "                        print(f'Player 2 spins a ${wheel_score:0.2f}, totaling ${wheel_score:0.2f}')\n",
    "            \n",
    "                        wheel_score = rand.choice(wheel_list)\n",
    "                        player_tie[2] = wheel_score\n",
    "                        print(f'Player 3 spins a ${wheel_score:0.2f}, totaling ${wheel_score:0.2f}')\n",
    "                     \n",
    "                        # determine the winner in the tie break and display the results\n",
    "                        # restore updated values of player's score\n",
    "                        player = player_tie  \n",
    "                        \n",
    "                        # did player1 score higher than the other two players?\n",
    "                        if( (player[0] > player[1]) and (player[0] > player[2]) ):\n",
    "                            print(f'The winner is Player 1')\n",
    "                            \n",
    "                        # did player2 score higher than the other two players?    \n",
    "                        if( (player[1] > player[0]) and (player[1] > player[2]) ):  \n",
    "                            print(f'The winner is Player 2')\n",
    "                            \n",
    "                        # did player3 score higher than the other two players?    \n",
    "                        if( (player[2] > player[0]) and (player[2] > player[1]) ):  \n",
    "                            print(f'The winner is Player 3')\n",
    "        \n",
    "                # players still in the game?\n",
    "                if ( not (busted_evt[counter1]) and not (busted_evt[counter2]) ):\n",
    "            \n",
    "                    # yes\n",
    "                    # Continue this process when any of the two players have the same scores                    \n",
    "                    while(player[counter1] == player[counter2]):\n",
    "            \n",
    "                        # players additional spin-off in the tie break, and to display event happenings       \n",
    "                        wheel_score = rand.choice(wheel_list)\n",
    "                        player_tie[counter1] = wheel_score\n",
    "                        print(f'Player {counter1+1} spins a ${wheel_score:0.2f}, totaling ${wheel_score:0.2f}')         \n",
    "            \n",
    "                        wheel_score = rand.choice(wheel_list)\n",
    "                        player_tie[counter2] = wheel_score\n",
    "                        print(f'Player {counter2+1} spins a ${wheel_score:0.2f}, totaling ${wheel_score:0.2f}')      \n",
    "                        \n",
    "                        # restore updated values of player's score\n",
    "                        player = player_tie  \n",
    "                        \n",
    "                        # display the results when player's scores are not the same\n",
    "                        if (player[counter1] > player[counter2]):\n",
    "                            print(f'The winner is Player {counter1+1}')\n",
    "                            \n",
    "                        if (player[counter2] > player[counter1]):\n",
    "                            print(f'The winner is Player {counter2+1}')\n",
    "                        \n",
    "                \n",
    "                # counters are used to compare all three player's scores during the tie break\n",
    "                # sequence of comparisons - player1,player2 : player1,player3 : player2,player3\n",
    "                if (counter2 == 1):\n",
    "                    counter2 += 1\n",
    "                else: \n",
    "                    counter1 += 1\n",
    "        \n",
    "        # restore updated values of player's score\n",
    "        player = player_tie \n",
    "    \n",
    "    # send data to calling function: number of times player1 got busted,\n",
    "    #        number of times player3 had one spin due to the first two players losing automatically\n",
    "    list_evt = [player1_busted_evt, player3_cheat_evt]    \n",
    "    return list_evt         \n"
   ]
  },
  {
   "cell_type": "markdown",
   "id": "c6d147ba-5516-477c-9e08-7bb97b6a613d",
   "metadata": {},
   "source": [
    "Function game_simulation() is used to provide valuable insights by running the event 1000 times."
   ]
  },
  {
   "cell_type": "code",
   "execution_count": 4,
   "id": "c18534dd-9a0f-467c-af98-781eb56b2e4a",
   "metadata": {},
   "outputs": [],
   "source": [
    "# Function 3 - Simulates the event 1000 times\n",
    "\n",
    "def game_simulation():\n",
    "    \n",
    "    # global variables declaration\n",
    "    global player3_cheat_gsn\n",
    "    global player1_busted_gsn\n",
    "    \n",
    "    # variables initialization       \n",
    "    player3_cheat_gsn = 0\n",
    "    player1_busted_gsn = 0\n",
    "\n",
    "    # simulate the event 1000 times\n",
    "    for count in range(1,1001):\n",
    "        \n",
    "        print(f'Game-{count} stats:')\n",
    "        event()\n",
    "        \n",
    "        # count the number of times player1 is busted\n",
    "        if (list_evt[0] == 1):\n",
    "            player1_busted_gsn += 1\n",
    "        \n",
    "        # count the number of times player1 and player2 are busted, giving player3 only one spin of the wheel\n",
    "        if (list_evt[1] == 1):\n",
    "            player3_cheat_gsn += 1\n"
   ]
  },
  {
   "cell_type": "markdown",
   "id": "ac0c59ec-36fe-4e60-8d33-c5272e81c2d4",
   "metadata": {},
   "source": [
    "The event is said to be a fair game when player's are contesting according to the gameplay rules.\n"
   ]
  },
  {
   "cell_type": "code",
   "execution_count": 5,
   "id": "9808dae4-8778-48c2-827b-d8a3202aa661",
   "metadata": {},
   "outputs": [
    {
     "name": "stdout",
     "output_type": "stream",
     "text": [
      "[0.05, 0.1, 0.15, 0.2, 0.25, 0.3, 0.35, 0.4, 0.45, 0.5, 0.55, 0.6, 0.65, 0.7, 0.75, 0.8, 0.85, 0.9, 0.95, 1.0]\n"
     ]
    }
   ],
   "source": [
    "# Display values on the wheel\n",
    "print(wheel_list)"
   ]
  },
  {
   "cell_type": "code",
   "execution_count": 6,
   "id": "ddac33f6-d2c9-46f3-8076-9045417520ff",
   "metadata": {},
   "outputs": [
    {
     "name": "stdout",
     "output_type": "stream",
     "text": [
      "0.525\n"
     ]
    }
   ],
   "source": [
    "# Determine the median value of the wheel list\n",
    "\n",
    "import statistics as stats\n",
    "median_value = stats.median(wheel_list)\n",
    "print(median_value)"
   ]
  },
  {
   "cell_type": "code",
   "execution_count": 10,
   "id": "1cb1281a-45aa-4573-b3bf-3fdce7c71d7e",
   "metadata": {},
   "outputs": [
    {
     "name": "stdout",
     "output_type": "stream",
     "text": [
      "Player 1 spins a $0.70 and chooses to stop, totaling $0.70\n",
      "Player 2 spins a $0.55 and must spin again, spinning a $0.20, totaling $0.75\n",
      "Player 3 spins a $0.20 and must spin again, spinning a $0.15, totaling $0.35\n",
      "The winner is Player 2\n"
     ]
    },
    {
     "data": {
      "text/plain": [
       "[0, 0]"
      ]
     },
     "execution_count": 10,
     "metadata": {},
     "output_type": "execute_result"
    }
   ],
   "source": [
    "# run the event\n",
    "\n",
    "fair_game = True\n",
    "event()"
   ]
  },
  {
   "cell_type": "code",
   "execution_count": null,
   "id": "17973f31-8766-47a4-98c8-2a23750aadde",
   "metadata": {},
   "outputs": [],
   "source": [
    "# run the simulation\n",
    "\n",
    "fair_game = True\n",
    "game_simulation()"
   ]
  },
  {
   "cell_type": "markdown",
   "id": "4929a7fd-b94b-4019-9031-cf6e23ba8d31",
   "metadata": {},
   "source": [
    "From the simulation, it can be inferred that the third player has a better chance of winning the event when the first two players get busted and lose automatically.\n",
    "\n",
    "The variable player3_cheat_gsn used in the game_simulation() function illustrates the number of times the third player had a free pass to win the event.\n",
    "\n",
    "\n",
    "Therefore, I should do what I can to cheat and be the third player to increase my chances of winning the event."
   ]
  },
  {
   "cell_type": "code",
   "execution_count": 12,
   "id": "6732bb61-22c5-4afb-92ba-ca29118aea36",
   "metadata": {},
   "outputs": [
    {
     "name": "stdout",
     "output_type": "stream",
     "text": [
      " Number of times player 1 got busted in the simulation:131\n",
      " Number of times player 3 got free pass to win in the simulation:18\n"
     ]
    }
   ],
   "source": [
    "print(f' Number of times player 1 got busted in the simulation:{player1_busted_gsn}') \n",
    "print(f' Number of times player 3 got free pass to win in the simulation:{player3_cheat_gsn}') \n"
   ]
  },
  {
   "cell_type": "markdown",
   "id": "d624f5b4-447a-4921-966d-0c5dd12517eb",
   "metadata": {
    "jp-MarkdownHeadingCollapsed": true,
    "tags": []
   },
   "source": [
    "As a first player, to optimize my chances of winning the event, the stop score is selected as the minimum of the wheel list values.\n",
    "Doing this will accomplish two things:\n",
    "1. I will never get busted\n",
    "2. The third player will not get a free pass to win the event"
   ]
  },
  {
   "cell_type": "code",
   "execution_count": null,
   "id": "5c6188fe-01d3-4531-a98e-451820c6192b",
   "metadata": {},
   "outputs": [],
   "source": [
    "# Case scenario 2: The first player cheats and convinces other players to use the same stop score value\n",
    "\n",
    "# run the simulation\n",
    "\n",
    "# stop score to optimize first player chances of winning has been changed, hence not a fair game\n",
    "fair_game = False\n",
    "game_simulation()"
   ]
  },
  {
   "cell_type": "markdown",
   "id": "b728ae48-096c-45c6-900a-2993e1755d46",
   "metadata": {},
   "source": [
    "There is a direct relationship between the stop score and the chance of getting busted for the first player.\n",
    " 1. As the stop score increases, the first player is more likely to get busted.\n",
    " \n",
    " 2. Reducing the stop score further from the median value of the wheel list will optimize the first player's chances of winning.\n",
    "\n",
    "\n",
    "Therefore, the stop value should be the minimum of the wheel list values as 0.05."
   ]
  },
  {
   "cell_type": "code",
   "execution_count": 17,
   "id": "9ef90322-274c-4c4d-94b4-04be93d23aa5",
   "metadata": {},
   "outputs": [
    {
     "name": "stdout",
     "output_type": "stream",
     "text": [
      " Number of times player 1 got busted in the simulation:0\n",
      " Number of times player 3 got free pass to win in the simulation:0\n"
     ]
    }
   ],
   "source": [
    "print(f' Number of times player 1 got busted in the simulation:{player1_busted_gsn}') \n",
    "print(f' Number of times player 3 got free pass to win in the simulation:{player3_cheat_gsn}') "
   ]
  },
  {
   "cell_type": "markdown",
   "id": "ccf2e869-6fce-4d13-bc77-21202da7ff07",
   "metadata": {},
   "source": [
    "\"I pledge on my honor that I have not given nor received any unauthorized\n",
    "     assistance on this assignment.\""
   ]
  },
  {
   "cell_type": "markdown",
   "id": "b221b610-bb5b-49cc-b3c9-2308d91882e9",
   "metadata": {},
   "source": [
    "--Pruthvi Shyam Billa"
   ]
  }
 ],
 "metadata": {
  "kernelspec": {
   "display_name": "Python 3 (ipykernel)",
   "language": "python",
   "name": "python3"
  },
  "language_info": {
   "codemirror_mode": {
    "name": "ipython",
    "version": 3
   },
   "file_extension": ".py",
   "mimetype": "text/x-python",
   "name": "python",
   "nbconvert_exporter": "python",
   "pygments_lexer": "ipython3",
   "version": "3.9.12"
  }
 },
 "nbformat": 4,
 "nbformat_minor": 5
}
